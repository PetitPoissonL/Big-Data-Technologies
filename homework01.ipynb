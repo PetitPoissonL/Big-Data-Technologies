{
 "cells": [
  {
   "cell_type": "markdown",
   "metadata": {
    "nteract": {
     "transient": {
      "deleting": false
     }
    }
   },
   "source": [
    "# Homework 1 (2022) : Data Wrangling and Visualization\n",
    "\n",
    "Due date : **2022-01-30 @23h55** (this is a **hard deadline**)"
   ]
  },
  {
   "cell_type": "markdown",
   "metadata": {
    "nteract": {
     "transient": {
      "deleting": false
     }
    }
   },
   "source": [
    "## Fill this cell with your names\n",
    "\n",
    "- Name, First Name, Informatique/Mathématique-Informatique\n",
    "- Name, First Name, Informatique/Mathématique-Informatique"
   ]
  },
  {
   "cell_type": "markdown",
   "metadata": {
    "nteract": {
     "transient": {
      "deleting": false
     }
    }
   },
   "source": [
    "## Carefully follow instructions given on the [course homepage](https://stephanegaiffas.github.io/big_data_course/homeworks/)\n",
    "\n",
    "Write in English or French\n",
    "\n",
    "- The deliverable is a `xxx.ipynb` file (jupyter notebook) or a `xxx.py` file (if you are using `jupytext`) built by completing the template. **We won't execute the code in your notebook:** all your results, displays and plots must be visible without having to rerun everything.\n",
    "\n",
    "Once again, follow the steps described here : [course homepage](https://stephanegaiffas.github.io/big_data_course/homeworks/). **If you don't: no evaluation!**"
   ]
  },
  {
   "cell_type": "markdown",
   "metadata": {
    "nteract": {
     "transient": {
      "deleting": false
     }
    }
   },
   "source": [
    "## Grading <i class=\"fa graduation-cap\"></i>\n",
    "\n",
    "Here is the way we'll assess your work\n",
    "\n",
    "| Criterion | Points | Details |\n",
    "|:----------|:-------:|:----|\n",
    "|Spelling and syntax | 3 | English/French  |\n",
    "|Plots correction | 3 |  Clarity / answers the question  |\n",
    "|Plot style and cleanliness | 3 | Titles, legends, labels, breaks ... |\n",
    "|Table wrangling | 4 | ETL, SQL like manipulations |\n",
    "|Computing Statistics | 5 | SQL `goup by`  and aggregation  |\n",
    "|DRY compliance | 2 | DRY principle at [Wikipedia](https://en.wikipedia.org/wiki/Don%27t_repeat_yourself)|\n",
    "\n",
    "If we see a single (or more) `for` loop in your code: **-5 points**.  Everything can be done using high-level `pandas` methods"
   ]
  },
  {
   "cell_type": "markdown",
   "metadata": {
    "nteract": {
     "transient": {
      "deleting": false
     }
    }
   },
   "source": [
    "# Preliminaries\n",
    "\n",
    "## Notebook: Modus operandi\n",
    "\n",
    "- This is a [Jupyter Notebook]().\n",
    "- When you execute code within the notebook, the results appear beneath the code.\n",
    "- [Jupytext]()\n",
    "\n",
    "## Packages\n",
    "\n",
    "- Base `Python` can do a lot. But the full power of `Python` comes from a fast growing collection of `packages`/`modules`.\n",
    "\n",
    "- Packages are first installed (that is using `pip install` or `conda install`), and if\n",
    "needed, imported during a session.\n",
    "\n",
    "- The `docker` image you are supposed to use already offers a lot of packages. You should not need to install new packages.\n",
    "\n",
    "- Once a package has been installed on your drive, if you want all objects exported by the package to be available in your session, you should import the package, using `from pkg import *`.\n",
    "\n",
    "- If you just want to pick some sobjects from the package,\n",
    "you can use qualified names like `pkg.object_name` to access the object (function, dataset, class...)\n"
   ]
  },
  {
   "cell_type": "code",
   "execution_count": 1,
   "metadata": {
    "ExecuteTime": {
     "end_time": "2022-01-29T01:11:18.584361Z",
     "start_time": "2022-01-29T01:11:18.077277Z"
    },
    "jupyter": {
     "outputs_hidden": false,
     "source_hidden": false
    },
    "nteract": {
     "transient": {
      "deleting": false
     }
    }
   },
   "outputs": [],
   "source": [
    "# importing basic tools\n",
    "import numpy as np\n",
    "import pandas as pd\n",
    "\n",
    "from pandas.api.types import CategoricalDtype\n",
    "\n",
    "import os            # file operations\n",
    "import requests      # networking\n",
    "\n",
    "from datetime import date  # if needed"
   ]
  },
  {
   "cell_type": "code",
   "execution_count": 2,
   "metadata": {
    "ExecuteTime": {
     "end_time": "2022-01-29T01:11:18.828907Z",
     "start_time": "2022-01-29T01:11:18.586149Z"
    },
    "jupyter": {
     "outputs_hidden": false,
     "source_hidden": false
    },
    "nteract": {
     "transient": {
      "deleting": false
     }
    }
   },
   "outputs": [],
   "source": [
    "# importing plotting packages\n",
    "import plotly.graph_objects as go\n",
    "import plotly.express as px\n",
    "import plotly.io as pio"
   ]
  },
  {
   "cell_type": "code",
   "execution_count": 3,
   "metadata": {
    "ExecuteTime": {
     "end_time": "2022-01-29T01:11:19.256221Z",
     "start_time": "2022-01-29T01:11:18.830867Z"
    },
    "jupyter": {
     "outputs_hidden": false,
     "source_hidden": false
    },
    "nteract": {
     "transient": {
      "deleting": false
     }
    }
   },
   "outputs": [],
   "source": [
    "# make pandas plotly-friendly\n",
    "np.set_printoptions(precision=2, suppress=True)\n",
    "%matplotlib inline\n",
    "pd.options.plotting.backend = \"plotly\""
   ]
  },
  {
   "cell_type": "markdown",
   "metadata": {
    "nteract": {
     "transient": {
      "deleting": false
     }
    }
   },
   "source": [
    "# Getting the data\n",
    "\n",
    "The data are built and made available by [INSEE](https://www.insee.fr/fr/accueil)  (French Governement Statistics Institute)\n",
    "\n",
    "Prénoms:\n",
    "- [https://www.insee.fr/fr/statistiques/fichier/2540004/nat2020_csv.zip](https://www.insee.fr/fr/statistiques/fichier/2540004/nat2020_csv.zip)\n",
    "\n",
    "This dataset has been growing for a while. It has been considered by\n",
    "social scientists for decades.  Given names are meant to give insights into a variety\n",
    "of phenomena, including religious observance.\n",
    "\n",
    "- A glimpse at the body of work can be found in [_L'archipel français_ by Jérome Fourquet, Le Seuil, 2019 ](https://www.seuil.com/ouvrage/l-archipel-francais-jerome-fourquet/9782021406023)\n",
    "\n",
    "- Read the [File documentation](https://www.insee.fr/fr/statistiques/2540004?sommaire=4767262#documentation)\n",
    "\n",
    "## Download the data\n",
    "\n",
    "**QUESTION:** Download the data into a file which relative path is `'./nat2020_csv.zip'`\n",
    "\n",
    "__Hints:__\n",
    "\n",
    "- Have a look at [`requests`](https://requests.readthedocs.io/en/master/).\n",
    "- Use magic commands to navigate across the file hierarchy and create subdirectories\n",
    "when needed"
   ]
  },
  {
   "cell_type": "code",
   "execution_count": 4,
   "metadata": {
    "ExecuteTime": {
     "end_time": "2022-01-29T01:11:19.261325Z",
     "start_time": "2022-01-29T01:11:19.258104Z"
    },
    "jupyter": {
     "outputs_hidden": false,
     "source_hidden": false
    },
    "nteract": {
     "transient": {
      "deleting": false
     }
    }
   },
   "outputs": [],
   "source": [
    "params = dict(\n",
    "    url = 'https://www.insee.fr/fr/statistiques/fichier/2540004/nat2020_csv.zip',\n",
    "    dirpath = './',\n",
    "    timecourse = '',\n",
    "    datafile = 'nat2020.hdf',\n",
    "    fpath = 'nat2020_csv.zip'\n",
    ")"
   ]
  },
  {
   "cell_type": "code",
   "execution_count": 5,
   "metadata": {
    "ExecuteTime": {
     "end_time": "2022-01-29T01:11:19.946966Z",
     "start_time": "2022-01-29T01:11:19.263369Z"
    },
    "jupyter": {
     "outputs_hidden": false,
     "source_hidden": false
    },
    "nteract": {
     "transient": {
      "deleting": false
     }
    }
   },
   "outputs": [
    {
     "name": "stdout",
     "output_type": "stream",
     "text": [
      "total 7.9M\r\n",
      "drwxrwxr-x 5 1000 1000 4.0K Jan 29 02:09 .\r\n",
      "drwxr-xr-x 1 1001  115 4.0K Jan 14  2021 ..\r\n",
      "drwx------ 4 root root 4.0K Jan 28 20:23 .Trash-0\r\n",
      "drwxr-xr-x 2 root root 4.0K Jan 28 20:23 .ipynb_checkpoints\r\n",
      "drwxrwxr-x 3 1000 1000 4.0K Jan 28 20:21 Big-Data-Technologies\r\n",
      "-rw-rw-r-- 1 1000 1000  370 Jan 22 02:32 docker-compose.yml\r\n",
      "-rw-r--r-- 1 root root  163 Jan 26 09:00 fruits.csv\r\n",
      "-rw-r--r-- 1 root root 132K Jan 26 09:41 gro.csv.gz\r\n",
      "-rw-r--r-- 1 root root 830K Jan 26 09:41 gro_cleaned.csv\r\n",
      "-rw-r--r-- 1 root root 249K Jan 26 09:41 gro_cleaned.feather\r\n",
      "-rw-r--r-- 1 root root 203K Jan 26 09:41 gro_cleaned.parquet\r\n",
      "-rw-r--r-- 1 root root 633K Jan 26 09:41 gro_cleaned.pkl\r\n",
      "-rw-r--r-- 1 root root 737K Jan 26 09:41 gro_training.pkl\r\n",
      "-rw-r--r-- 1 root root  66K Jan 29 02:09 homework01.ipynb\r\n",
      "-rw-r--r-- 1 root root 2.4M Jan 28 20:26 nat2020_csv.zip\r\n",
      "-rw-r--r-- 1 root root 196K Jan 19 10:51 notebook01_python.ipynb\r\n",
      "-rw-r--r-- 1 root root 1.7M Jan 25 23:11 notebook02_numpy.ipynb\r\n",
      "-rw-r--r-- 1 root root 329K Jan 28 20:34 notebook03_pandas.ipynb\r\n",
      "-rw-r--r-- 1 root root 432K Jan 26 09:43 notebook04_pandas.ipynb\r\n",
      "-rw-r--r-- 1 root root  33K Jan 26 10:35 notebook05_sparkrdd.ipynb\r\n",
      "-rw-r--r-- 1 root root  31K Jan 22 02:45 notebook06_sparksql.ipynb\r\n",
      "-rw-r--r-- 1 root root  29K Jan 22 02:45 notebook07_json-format.ipynb\r\n",
      "-rw-r--r-- 1 root root  38K Jan 22 02:45 notebook08_webdata.ipynb\r\n",
      "-rw-r--r-- 1 root root 7.8K Jan 26 09:00 tips.csv\r\n"
     ]
    }
   ],
   "source": [
    "# modify location  make sure you are in the right directory\n",
    "# %cd\n",
    "!ls -alh\n",
    "# %pwd  #\n",
    "# %ls\n",
    "# %mkdir # if needed"
   ]
  },
  {
   "cell_type": "code",
   "execution_count": 6,
   "metadata": {
    "ExecuteTime": {
     "end_time": "2022-01-29T01:11:19.963529Z",
     "start_time": "2022-01-29T01:11:19.955888Z"
    },
    "jupyter": {
     "outputs_hidden": false,
     "source_hidden": false
    },
    "nteract": {
     "transient": {
      "deleting": false
     }
    }
   },
   "outputs": [],
   "source": [
    "url = params['url']      # 'https://www.insee.fr/fr/statistiques/fichier/2540004/nat2020_csv.zip'\n",
    "fpath = params['fpath']  # './nat2020_csv.zip'"
   ]
  },
  {
   "cell_type": "code",
   "execution_count": 7,
   "metadata": {
    "ExecuteTime": {
     "end_time": "2022-01-29T01:11:19.976454Z",
     "start_time": "2022-01-29T01:11:19.967367Z"
    },
    "jupyter": {
     "outputs_hidden": false,
     "source_hidden": false
    },
    "nteract": {
     "transient": {
      "deleting": false
     }
    }
   },
   "outputs": [
    {
     "name": "stdout",
     "output_type": "stream",
     "text": [
      "Le fichier ./nat2020_csv.zip exsite déjà.\n"
     ]
    }
   ],
   "source": [
    "# your code here\n",
    "dirpath = params['dirpath']\n",
    "if os.path.exists(os.path.join(dirpath, fpath)):\n",
    "    print('Le fichier %s exsite déjà.' % os.path.join(dirpath, fpath))\n",
    "else:\n",
    "    r = requests.get(url)\n",
    "    with open(os.path.join(dirpath, fpath), 'wb') as f:\n",
    "        f.write(r.content)\n",
    "    print('Télécharger le fichier %s.' % os.path.join(dirpath, fpath))\n"
   ]
  },
  {
   "cell_type": "markdown",
   "metadata": {
    "nteract": {
     "transient": {
      "deleting": false
     }
    }
   },
   "source": [
    "## Load the data in memory\n",
    "\n",
    "**QUESTION:** Load the data in a `pandas` `DataFrame` called `data`\n",
    "\n",
    "__Hints:__\n",
    "\n",
    "- You should obtain a `Pandas dataframe` with 4 columns.\n",
    "- Mind the conventions used to build theis `csv` file.\n",
    "- Package `pandas` provides the convenient tools.\n",
    "- The dataset, though not too large, is already demanding.\n",
    "- Don't hesitate to test your methods on a sample of rows method `sample()` from class `DataFrame` can be helpful."
   ]
  },
  {
   "cell_type": "code",
   "execution_count": 8,
   "metadata": {
    "ExecuteTime": {
     "end_time": "2022-01-29T01:11:20.510144Z",
     "start_time": "2022-01-29T01:11:19.983183Z"
    },
    "jupyter": {
     "outputs_hidden": false,
     "source_hidden": false
    },
    "nteract": {
     "transient": {
      "deleting": false
     }
    }
   },
   "outputs": [
    {
     "data": {
      "text/html": [
       "<div>\n",
       "<style scoped>\n",
       "    .dataframe tbody tr th:only-of-type {\n",
       "        vertical-align: middle;\n",
       "    }\n",
       "\n",
       "    .dataframe tbody tr th {\n",
       "        vertical-align: top;\n",
       "    }\n",
       "\n",
       "    .dataframe thead th {\n",
       "        text-align: right;\n",
       "    }\n",
       "</style>\n",
       "<table border=\"1\" class=\"dataframe\">\n",
       "  <thead>\n",
       "    <tr style=\"text-align: right;\">\n",
       "      <th></th>\n",
       "      <th>sexe</th>\n",
       "      <th>preusuel</th>\n",
       "      <th>annais</th>\n",
       "      <th>nombre</th>\n",
       "    </tr>\n",
       "  </thead>\n",
       "  <tbody>\n",
       "    <tr>\n",
       "      <th>386330</th>\n",
       "      <td>2</td>\n",
       "      <td>DJINA</td>\n",
       "      <td>1974</td>\n",
       "      <td>3</td>\n",
       "    </tr>\n",
       "    <tr>\n",
       "      <th>152517</th>\n",
       "      <td>1</td>\n",
       "      <td>JUAN</td>\n",
       "      <td>2017</td>\n",
       "      <td>90</td>\n",
       "    </tr>\n",
       "    <tr>\n",
       "      <th>113308</th>\n",
       "      <td>1</td>\n",
       "      <td>HAMIDE</td>\n",
       "      <td>XXXX</td>\n",
       "      <td>38</td>\n",
       "    </tr>\n",
       "    <tr>\n",
       "      <th>313280</th>\n",
       "      <td>2</td>\n",
       "      <td>ALESIA</td>\n",
       "      <td>1998</td>\n",
       "      <td>9</td>\n",
       "    </tr>\n",
       "    <tr>\n",
       "      <th>612234</th>\n",
       "      <td>2</td>\n",
       "      <td>SALIA</td>\n",
       "      <td>2005</td>\n",
       "      <td>10</td>\n",
       "    </tr>\n",
       "    <tr>\n",
       "      <th>30418</th>\n",
       "      <td>1</td>\n",
       "      <td>ASKIN</td>\n",
       "      <td>XXXX</td>\n",
       "      <td>19</td>\n",
       "    </tr>\n",
       "    <tr>\n",
       "      <th>16649</th>\n",
       "      <td>1</td>\n",
       "      <td>ALKAN</td>\n",
       "      <td>2007</td>\n",
       "      <td>4</td>\n",
       "    </tr>\n",
       "    <tr>\n",
       "      <th>363631</th>\n",
       "      <td>2</td>\n",
       "      <td>CHAHINAZE</td>\n",
       "      <td>1991</td>\n",
       "      <td>8</td>\n",
       "    </tr>\n",
       "    <tr>\n",
       "      <th>457644</th>\n",
       "      <td>2</td>\n",
       "      <td>JEANNETTE</td>\n",
       "      <td>1942</td>\n",
       "      <td>371</td>\n",
       "    </tr>\n",
       "    <tr>\n",
       "      <th>588202</th>\n",
       "      <td>2</td>\n",
       "      <td>OXANE</td>\n",
       "      <td>2007</td>\n",
       "      <td>11</td>\n",
       "    </tr>\n",
       "  </tbody>\n",
       "</table>\n",
       "</div>"
      ],
      "text/plain": [
       "        sexe   preusuel annais  nombre\n",
       "386330     2      DJINA   1974       3\n",
       "152517     1       JUAN   2017      90\n",
       "113308     1     HAMIDE   XXXX      38\n",
       "313280     2     ALESIA   1998       9\n",
       "612234     2      SALIA   2005      10\n",
       "30418      1      ASKIN   XXXX      19\n",
       "16649      1      ALKAN   2007       4\n",
       "363631     2  CHAHINAZE   1991       8\n",
       "457644     2  JEANNETTE   1942     371\n",
       "588202     2      OXANE   2007      11"
      ]
     },
     "execution_count": 8,
     "metadata": {},
     "output_type": "execute_result"
    }
   ],
   "source": [
    "# your code here\n",
    "data = pd.read_csv('nat2020_csv.zip', compression='zip', sep=';')\n",
    "data.sample(10)"
   ]
  },
  {
   "cell_type": "code",
   "execution_count": 9,
   "metadata": {
    "ExecuteTime": {
     "end_time": "2022-01-29T01:11:20.659624Z",
     "start_time": "2022-01-29T01:11:20.512856Z"
    },
    "scrolled": true
   },
   "outputs": [
    {
     "name": "stdout",
     "output_type": "stream",
     "text": [
      "<class 'pandas.core.frame.DataFrame'>\n",
      "RangeIndex: 667364 entries, 0 to 667363\n",
      "Data columns (total 4 columns):\n",
      " #   Column    Non-Null Count   Dtype \n",
      "---  ------    --------------   ----- \n",
      " 0   sexe      667364 non-null  int64 \n",
      " 1   preusuel  667362 non-null  object\n",
      " 2   annais    667364 non-null  object\n",
      " 3   nombre    667364 non-null  int64 \n",
      "dtypes: int64(2), object(2)\n",
      "memory usage: 20.4+ MB\n"
     ]
    }
   ],
   "source": [
    "data.info()"
   ]
  },
  {
   "cell_type": "markdown",
   "metadata": {
    "nteract": {
     "transient": {
      "deleting": false
     }
    }
   },
   "source": [
    "## Explore the data"
   ]
  },
  {
   "cell_type": "code",
   "execution_count": 10,
   "metadata": {
    "ExecuteTime": {
     "end_time": "2022-01-29T01:11:20.669024Z",
     "start_time": "2022-01-29T01:11:20.662709Z"
    }
   },
   "outputs": [
    {
     "data": {
      "text/plain": [
       "Index(['sexe', 'preusuel', 'annais', 'nombre'], dtype='object')"
      ]
     },
     "execution_count": 10,
     "metadata": {},
     "output_type": "execute_result"
    }
   ],
   "source": [
    "data.columns"
   ]
  },
  {
   "cell_type": "code",
   "execution_count": 11,
   "metadata": {
    "ExecuteTime": {
     "end_time": "2022-01-29T01:11:20.679942Z",
     "start_time": "2022-01-29T01:11:20.671903Z"
    }
   },
   "outputs": [
    {
     "data": {
      "text/plain": [
       "sexe         int64\n",
       "preusuel    object\n",
       "annais      object\n",
       "nombre       int64\n",
       "dtype: object"
      ]
     },
     "execution_count": 11,
     "metadata": {},
     "output_type": "execute_result"
    }
   ],
   "source": [
    "data.dtypes"
   ]
  },
  {
   "cell_type": "code",
   "execution_count": 12,
   "metadata": {
    "ExecuteTime": {
     "end_time": "2022-01-29T01:11:20.696462Z",
     "start_time": "2022-01-29T01:11:20.683071Z"
    }
   },
   "outputs": [
    {
     "data": {
      "text/html": [
       "<div>\n",
       "<style scoped>\n",
       "    .dataframe tbody tr th:only-of-type {\n",
       "        vertical-align: middle;\n",
       "    }\n",
       "\n",
       "    .dataframe tbody tr th {\n",
       "        vertical-align: top;\n",
       "    }\n",
       "\n",
       "    .dataframe thead th {\n",
       "        text-align: right;\n",
       "    }\n",
       "</style>\n",
       "<table border=\"1\" class=\"dataframe\">\n",
       "  <thead>\n",
       "    <tr style=\"text-align: right;\">\n",
       "      <th></th>\n",
       "      <th>sexe</th>\n",
       "      <th>preusuel</th>\n",
       "      <th>annais</th>\n",
       "      <th>nombre</th>\n",
       "    </tr>\n",
       "  </thead>\n",
       "  <tbody>\n",
       "    <tr>\n",
       "      <th>0</th>\n",
       "      <td>1</td>\n",
       "      <td>_PRENOMS_RARES</td>\n",
       "      <td>1900</td>\n",
       "      <td>1250</td>\n",
       "    </tr>\n",
       "    <tr>\n",
       "      <th>1</th>\n",
       "      <td>1</td>\n",
       "      <td>_PRENOMS_RARES</td>\n",
       "      <td>1901</td>\n",
       "      <td>1342</td>\n",
       "    </tr>\n",
       "    <tr>\n",
       "      <th>2</th>\n",
       "      <td>1</td>\n",
       "      <td>_PRENOMS_RARES</td>\n",
       "      <td>1902</td>\n",
       "      <td>1330</td>\n",
       "    </tr>\n",
       "    <tr>\n",
       "      <th>3</th>\n",
       "      <td>1</td>\n",
       "      <td>_PRENOMS_RARES</td>\n",
       "      <td>1903</td>\n",
       "      <td>1286</td>\n",
       "    </tr>\n",
       "    <tr>\n",
       "      <th>4</th>\n",
       "      <td>1</td>\n",
       "      <td>_PRENOMS_RARES</td>\n",
       "      <td>1904</td>\n",
       "      <td>1430</td>\n",
       "    </tr>\n",
       "  </tbody>\n",
       "</table>\n",
       "</div>"
      ],
      "text/plain": [
       "   sexe        preusuel annais  nombre\n",
       "0     1  _PRENOMS_RARES   1900    1250\n",
       "1     1  _PRENOMS_RARES   1901    1342\n",
       "2     1  _PRENOMS_RARES   1902    1330\n",
       "3     1  _PRENOMS_RARES   1903    1286\n",
       "4     1  _PRENOMS_RARES   1904    1430"
      ]
     },
     "execution_count": 12,
     "metadata": {},
     "output_type": "execute_result"
    }
   ],
   "source": [
    "data.head()"
   ]
  },
  {
   "cell_type": "code",
   "execution_count": 13,
   "metadata": {
    "ExecuteTime": {
     "end_time": "2022-01-29T01:11:21.244107Z",
     "start_time": "2022-01-29T01:11:20.699674Z"
    }
   },
   "outputs": [
    {
     "data": {
      "text/html": [
       "<div>\n",
       "<style scoped>\n",
       "    .dataframe tbody tr th:only-of-type {\n",
       "        vertical-align: middle;\n",
       "    }\n",
       "\n",
       "    .dataframe tbody tr th {\n",
       "        vertical-align: top;\n",
       "    }\n",
       "\n",
       "    .dataframe thead th {\n",
       "        text-align: right;\n",
       "    }\n",
       "</style>\n",
       "<table border=\"1\" class=\"dataframe\">\n",
       "  <thead>\n",
       "    <tr style=\"text-align: right;\">\n",
       "      <th></th>\n",
       "      <th>sexe</th>\n",
       "      <th>preusuel</th>\n",
       "      <th>annais</th>\n",
       "      <th>nombre</th>\n",
       "    </tr>\n",
       "  </thead>\n",
       "  <tbody>\n",
       "    <tr>\n",
       "      <th>count</th>\n",
       "      <td>667364.000000</td>\n",
       "      <td>667362</td>\n",
       "      <td>667364</td>\n",
       "      <td>667364.000000</td>\n",
       "    </tr>\n",
       "    <tr>\n",
       "      <th>unique</th>\n",
       "      <td>NaN</td>\n",
       "      <td>35010</td>\n",
       "      <td>122</td>\n",
       "      <td>NaN</td>\n",
       "    </tr>\n",
       "    <tr>\n",
       "      <th>top</th>\n",
       "      <td>NaN</td>\n",
       "      <td>_PRENOMS_RARES</td>\n",
       "      <td>XXXX</td>\n",
       "      <td>NaN</td>\n",
       "    </tr>\n",
       "    <tr>\n",
       "      <th>freq</th>\n",
       "      <td>NaN</td>\n",
       "      <td>242</td>\n",
       "      <td>36675</td>\n",
       "      <td>NaN</td>\n",
       "    </tr>\n",
       "    <tr>\n",
       "      <th>mean</th>\n",
       "      <td>1.543828</td>\n",
       "      <td>NaN</td>\n",
       "      <td>NaN</td>\n",
       "      <td>129.772665</td>\n",
       "    </tr>\n",
       "    <tr>\n",
       "      <th>std</th>\n",
       "      <td>0.498076</td>\n",
       "      <td>NaN</td>\n",
       "      <td>NaN</td>\n",
       "      <td>884.912504</td>\n",
       "    </tr>\n",
       "    <tr>\n",
       "      <th>min</th>\n",
       "      <td>1.000000</td>\n",
       "      <td>NaN</td>\n",
       "      <td>NaN</td>\n",
       "      <td>1.000000</td>\n",
       "    </tr>\n",
       "    <tr>\n",
       "      <th>25%</th>\n",
       "      <td>1.000000</td>\n",
       "      <td>NaN</td>\n",
       "      <td>NaN</td>\n",
       "      <td>4.000000</td>\n",
       "    </tr>\n",
       "    <tr>\n",
       "      <th>50%</th>\n",
       "      <td>2.000000</td>\n",
       "      <td>NaN</td>\n",
       "      <td>NaN</td>\n",
       "      <td>8.000000</td>\n",
       "    </tr>\n",
       "    <tr>\n",
       "      <th>75%</th>\n",
       "      <td>2.000000</td>\n",
       "      <td>NaN</td>\n",
       "      <td>NaN</td>\n",
       "      <td>25.000000</td>\n",
       "    </tr>\n",
       "    <tr>\n",
       "      <th>max</th>\n",
       "      <td>2.000000</td>\n",
       "      <td>NaN</td>\n",
       "      <td>NaN</td>\n",
       "      <td>53584.000000</td>\n",
       "    </tr>\n",
       "  </tbody>\n",
       "</table>\n",
       "</div>"
      ],
      "text/plain": [
       "                 sexe        preusuel  annais         nombre\n",
       "count   667364.000000          667362  667364  667364.000000\n",
       "unique            NaN           35010     122            NaN\n",
       "top               NaN  _PRENOMS_RARES    XXXX            NaN\n",
       "freq              NaN             242   36675            NaN\n",
       "mean         1.543828             NaN     NaN     129.772665\n",
       "std          0.498076             NaN     NaN     884.912504\n",
       "min          1.000000             NaN     NaN       1.000000\n",
       "25%          1.000000             NaN     NaN       4.000000\n",
       "50%          2.000000             NaN     NaN       8.000000\n",
       "75%          2.000000             NaN     NaN      25.000000\n",
       "max          2.000000             NaN     NaN   53584.000000"
      ]
     },
     "execution_count": 13,
     "metadata": {},
     "output_type": "execute_result"
    }
   ],
   "source": [
    "data.describe(include=\"all\")"
   ]
  },
  {
   "cell_type": "markdown",
   "metadata": {
    "nteract": {
     "transient": {
      "deleting": false
     }
    }
   },
   "source": [
    "**QUESTION:** Look at the data, Use the attributes `columns`, `dtypes` and the methods `head`, `describe`, to get a feeling of the data.\n",
    "\n",
    "- This dataset is supposed to report all given names used\n",
    "for either sex during a year in France since 1900\n",
    "\n",
    "- The file is made of `652 056` lines and  4 columns.\n",
    "\n",
    "```\n",
    "|-- preusuel : object\n",
    "|-- nombre: int64\n",
    "|-- sexe: int64\n",
    "|-- annais: object\n",
    "```\n",
    "\n",
    "Each row indicates for a given `preusuel` (prénom usuel, given name), `sexe` (sex), and `annais` (année naissance, birthyear) the `nombre` (number) of babies of the given sex who were given that name during the given year.\n",
    "\n",
    "|sexe    |preusuel     | annais|   nombre|\n",
    "|:------|:--------|----:|---:|\n",
    "|2     |SYLVETTE | 1953| 577|\n",
    "|1   |BOUBOU   | 1979|   4|\n",
    "|1   |NILS     | 1959|   3|\n",
    "|2   |NICOLE   | 2003|  36|\n",
    "|1   |JOSÉLITO | 2013|   4|\n",
    "\n",
    "\n",
    "**QUESTION:** Compare memory usage and disk space used by data\n",
    "\n",
    "**Hints:**\n",
    "\n",
    "- The method `info`  prints a concise summary of a `DataFrame`.\n",
    "- With optional parameter `memory_usage`, you can get an estimate\n",
    "of the amount of memory used by the `DataFrame`.\n",
    "- Beware that the resulting estimate depends on the argument fed."
   ]
  },
  {
   "cell_type": "code",
   "execution_count": 14,
   "metadata": {
    "ExecuteTime": {
     "end_time": "2022-01-29T01:11:21.646128Z",
     "start_time": "2022-01-29T01:11:21.245815Z"
    },
    "jupyter": {
     "outputs_hidden": false,
     "source_hidden": false
    },
    "nteract": {
     "transient": {
      "deleting": false
     }
    },
    "scrolled": true
   },
   "outputs": [
    {
     "name": "stdout",
     "output_type": "stream",
     "text": [
      "<class 'pandas.core.frame.DataFrame'>\n",
      "RangeIndex: 667364 entries, 0 to 667363\n",
      "Data columns (total 4 columns):\n",
      " #   Column    Non-Null Count   Dtype \n",
      "---  ------    --------------   ----- \n",
      " 0   sexe      667364 non-null  int64 \n",
      " 1   preusuel  667362 non-null  object\n",
      " 2   annais    667364 non-null  object\n",
      " 3   nombre    667364 non-null  int64 \n",
      "dtypes: int64(2), object(2)\n",
      "memory usage: 90.7 MB\n",
      "disk space used :  2.331 MB\n"
     ]
    }
   ],
   "source": [
    "# your code here\n",
    "data.info(memory_usage='deep')\n",
    "#data.memory_usage()\n",
    "\n",
    "print(\"disk space used : \",round(os.stat(fpath).st_size/(1024**2),3),\"MB\")"
   ]
  },
  {
   "cell_type": "code",
   "execution_count": 15,
   "metadata": {
    "ExecuteTime": {
     "end_time": "2022-01-29T01:11:21.649595Z",
     "start_time": "2022-01-29T01:11:21.647729Z"
    }
   },
   "outputs": [],
   "source": [
    "#Disk space used = 20.4+ MB\n",
    "#Memory usage = 90.7 MB"
   ]
  },
  {
   "cell_type": "markdown",
   "metadata": {
    "nteract": {
     "transient": {
      "deleting": false
     }
    }
   },
   "source": [
    "**QUESTION:** Display the output of `.describe()` with style."
   ]
  },
  {
   "cell_type": "code",
   "execution_count": 16,
   "metadata": {
    "ExecuteTime": {
     "end_time": "2022-01-29T01:11:22.184249Z",
     "start_time": "2022-01-29T01:11:21.651210Z"
    },
    "jupyter": {
     "outputs_hidden": false,
     "source_hidden": false
    },
    "nteract": {
     "transient": {
      "deleting": false
     }
    }
   },
   "outputs": [
    {
     "data": {
      "text/html": [
       "<style  type=\"text/css\" >\n",
       "#T_ab916_row0_col0,#T_ab916_row0_col1,#T_ab916_row0_col2,#T_ab916_row0_col3,#T_ab916_row1_col0,#T_ab916_row1_col1,#T_ab916_row1_col2,#T_ab916_row1_col3,#T_ab916_row2_col0,#T_ab916_row2_col1,#T_ab916_row2_col2,#T_ab916_row2_col3,#T_ab916_row3_col0,#T_ab916_row3_col1,#T_ab916_row3_col2,#T_ab916_row3_col3,#T_ab916_row4_col0,#T_ab916_row4_col3,#T_ab916_row5_col0,#T_ab916_row5_col3,#T_ab916_row6_col0,#T_ab916_row6_col3,#T_ab916_row7_col0,#T_ab916_row7_col3,#T_ab916_row8_col0,#T_ab916_row8_col3,#T_ab916_row9_col0,#T_ab916_row9_col3,#T_ab916_row10_col0,#T_ab916_row10_col3{\n",
       "            color:  black;\n",
       "        }#T_ab916_row4_col1,#T_ab916_row4_col2,#T_ab916_row5_col1,#T_ab916_row5_col2,#T_ab916_row6_col1,#T_ab916_row6_col2,#T_ab916_row7_col1,#T_ab916_row7_col2,#T_ab916_row8_col1,#T_ab916_row8_col2,#T_ab916_row9_col1,#T_ab916_row9_col2,#T_ab916_row10_col1,#T_ab916_row10_col2{\n",
       "            color:  red;\n",
       "        }</style><table id=\"T_ab916_\" ><thead>    <tr>        <th class=\"blank level0\" ></th>        <th class=\"col_heading level0 col0\" >sexe</th>        <th class=\"col_heading level0 col1\" >preusuel</th>        <th class=\"col_heading level0 col2\" >annais</th>        <th class=\"col_heading level0 col3\" >nombre</th>    </tr></thead><tbody>\n",
       "                <tr>\n",
       "                        <th id=\"T_ab916_level0_row0\" class=\"row_heading level0 row0\" >count</th>\n",
       "                        <td id=\"T_ab916_row0_col0\" class=\"data row0 col0\" >667364.000000</td>\n",
       "                        <td id=\"T_ab916_row0_col1\" class=\"data row0 col1\" >667362</td>\n",
       "                        <td id=\"T_ab916_row0_col2\" class=\"data row0 col2\" >667364</td>\n",
       "                        <td id=\"T_ab916_row0_col3\" class=\"data row0 col3\" >667364.000000</td>\n",
       "            </tr>\n",
       "            <tr>\n",
       "                        <th id=\"T_ab916_level0_row1\" class=\"row_heading level0 row1\" >unique</th>\n",
       "                        <td id=\"T_ab916_row1_col0\" class=\"data row1 col0\" >nan</td>\n",
       "                        <td id=\"T_ab916_row1_col1\" class=\"data row1 col1\" >35010</td>\n",
       "                        <td id=\"T_ab916_row1_col2\" class=\"data row1 col2\" >122</td>\n",
       "                        <td id=\"T_ab916_row1_col3\" class=\"data row1 col3\" >nan</td>\n",
       "            </tr>\n",
       "            <tr>\n",
       "                        <th id=\"T_ab916_level0_row2\" class=\"row_heading level0 row2\" >top</th>\n",
       "                        <td id=\"T_ab916_row2_col0\" class=\"data row2 col0\" >nan</td>\n",
       "                        <td id=\"T_ab916_row2_col1\" class=\"data row2 col1\" >_PRENOMS_RARES</td>\n",
       "                        <td id=\"T_ab916_row2_col2\" class=\"data row2 col2\" >XXXX</td>\n",
       "                        <td id=\"T_ab916_row2_col3\" class=\"data row2 col3\" >nan</td>\n",
       "            </tr>\n",
       "            <tr>\n",
       "                        <th id=\"T_ab916_level0_row3\" class=\"row_heading level0 row3\" >freq</th>\n",
       "                        <td id=\"T_ab916_row3_col0\" class=\"data row3 col0\" >nan</td>\n",
       "                        <td id=\"T_ab916_row3_col1\" class=\"data row3 col1\" >242</td>\n",
       "                        <td id=\"T_ab916_row3_col2\" class=\"data row3 col2\" >36675</td>\n",
       "                        <td id=\"T_ab916_row3_col3\" class=\"data row3 col3\" >nan</td>\n",
       "            </tr>\n",
       "            <tr>\n",
       "                        <th id=\"T_ab916_level0_row4\" class=\"row_heading level0 row4\" >mean</th>\n",
       "                        <td id=\"T_ab916_row4_col0\" class=\"data row4 col0\" >1.543828</td>\n",
       "                        <td id=\"T_ab916_row4_col1\" class=\"data row4 col1\" >nan</td>\n",
       "                        <td id=\"T_ab916_row4_col2\" class=\"data row4 col2\" >nan</td>\n",
       "                        <td id=\"T_ab916_row4_col3\" class=\"data row4 col3\" >129.772665</td>\n",
       "            </tr>\n",
       "            <tr>\n",
       "                        <th id=\"T_ab916_level0_row5\" class=\"row_heading level0 row5\" >std</th>\n",
       "                        <td id=\"T_ab916_row5_col0\" class=\"data row5 col0\" >0.498076</td>\n",
       "                        <td id=\"T_ab916_row5_col1\" class=\"data row5 col1\" >nan</td>\n",
       "                        <td id=\"T_ab916_row5_col2\" class=\"data row5 col2\" >nan</td>\n",
       "                        <td id=\"T_ab916_row5_col3\" class=\"data row5 col3\" >884.912504</td>\n",
       "            </tr>\n",
       "            <tr>\n",
       "                        <th id=\"T_ab916_level0_row6\" class=\"row_heading level0 row6\" >min</th>\n",
       "                        <td id=\"T_ab916_row6_col0\" class=\"data row6 col0\" >1.000000</td>\n",
       "                        <td id=\"T_ab916_row6_col1\" class=\"data row6 col1\" >nan</td>\n",
       "                        <td id=\"T_ab916_row6_col2\" class=\"data row6 col2\" >nan</td>\n",
       "                        <td id=\"T_ab916_row6_col3\" class=\"data row6 col3\" >1.000000</td>\n",
       "            </tr>\n",
       "            <tr>\n",
       "                        <th id=\"T_ab916_level0_row7\" class=\"row_heading level0 row7\" >25%</th>\n",
       "                        <td id=\"T_ab916_row7_col0\" class=\"data row7 col0\" >1.000000</td>\n",
       "                        <td id=\"T_ab916_row7_col1\" class=\"data row7 col1\" >nan</td>\n",
       "                        <td id=\"T_ab916_row7_col2\" class=\"data row7 col2\" >nan</td>\n",
       "                        <td id=\"T_ab916_row7_col3\" class=\"data row7 col3\" >4.000000</td>\n",
       "            </tr>\n",
       "            <tr>\n",
       "                        <th id=\"T_ab916_level0_row8\" class=\"row_heading level0 row8\" >50%</th>\n",
       "                        <td id=\"T_ab916_row8_col0\" class=\"data row8 col0\" >2.000000</td>\n",
       "                        <td id=\"T_ab916_row8_col1\" class=\"data row8 col1\" >nan</td>\n",
       "                        <td id=\"T_ab916_row8_col2\" class=\"data row8 col2\" >nan</td>\n",
       "                        <td id=\"T_ab916_row8_col3\" class=\"data row8 col3\" >8.000000</td>\n",
       "            </tr>\n",
       "            <tr>\n",
       "                        <th id=\"T_ab916_level0_row9\" class=\"row_heading level0 row9\" >75%</th>\n",
       "                        <td id=\"T_ab916_row9_col0\" class=\"data row9 col0\" >2.000000</td>\n",
       "                        <td id=\"T_ab916_row9_col1\" class=\"data row9 col1\" >nan</td>\n",
       "                        <td id=\"T_ab916_row9_col2\" class=\"data row9 col2\" >nan</td>\n",
       "                        <td id=\"T_ab916_row9_col3\" class=\"data row9 col3\" >25.000000</td>\n",
       "            </tr>\n",
       "            <tr>\n",
       "                        <th id=\"T_ab916_level0_row10\" class=\"row_heading level0 row10\" >max</th>\n",
       "                        <td id=\"T_ab916_row10_col0\" class=\"data row10 col0\" >2.000000</td>\n",
       "                        <td id=\"T_ab916_row10_col1\" class=\"data row10 col1\" >nan</td>\n",
       "                        <td id=\"T_ab916_row10_col2\" class=\"data row10 col2\" >nan</td>\n",
       "                        <td id=\"T_ab916_row10_col3\" class=\"data row10 col3\" >53584.000000</td>\n",
       "            </tr>\n",
       "    </tbody></table>"
      ],
      "text/plain": [
       "<pandas.io.formats.style.Styler at 0x7fd9fd3278e0>"
      ]
     },
     "execution_count": 16,
     "metadata": {},
     "output_type": "execute_result"
    }
   ],
   "source": [
    "# your code here\n",
    "def color_nan_red(val):\n",
    "    color = 'red' if val is np.nan else 'black'\n",
    "    return 'color: %s' % color\n",
    "\n",
    "data.describe(include='all').style.\\\n",
    "    applymap(color_nan_red)\n",
    "#    applymap(lambda x:\"%.2f\" % x,subset=['mean','std','min','max'])\n",
    "#data.describe(include='all')"
   ]
  },
  {
   "cell_type": "markdown",
   "metadata": {
    "nteract": {
     "transient": {
      "deleting": false
     }
    }
   },
   "source": [
    "**QUESTION:** For each column compute the number of distinct values"
   ]
  },
  {
   "cell_type": "code",
   "execution_count": 17,
   "metadata": {
    "ExecuteTime": {
     "end_time": "2022-01-29T01:11:22.432325Z",
     "start_time": "2022-01-29T01:11:22.186235Z"
    },
    "jupyter": {
     "outputs_hidden": false,
     "source_hidden": false
    },
    "nteract": {
     "transient": {
      "deleting": false
     }
    }
   },
   "outputs": [
    {
     "data": {
      "text/plain": [
       "sexe            2\n",
       "preusuel    35010\n",
       "annais        122\n",
       "nombre       7304\n",
       "dtype: int64"
      ]
     },
     "execution_count": 17,
     "metadata": {},
     "output_type": "execute_result"
    }
   ],
   "source": [
    "# your code here\n",
    "data.nunique()"
   ]
  },
  {
   "cell_type": "markdown",
   "metadata": {
    "nteract": {
     "transient": {
      "deleting": false
     }
    }
   },
   "source": [
    "# Transformations\n",
    "\n",
    "## Improving the data types\n",
    "\n",
    "**QUESTION:** Make `sexe` a category with two levels `Female` and `Male`. Call the new column `genre`. Do you see any reason why this factor should be ordered?\n",
    "\n",
    "__Hint:__ Read [Pandas and categorical variables](https://pandas.pydata.org/pandas-docs/stable/user_guide/categorical.html?highlight=category)"
   ]
  },
  {
   "cell_type": "code",
   "execution_count": 18,
   "metadata": {
    "ExecuteTime": {
     "end_time": "2022-01-29T01:11:22.483625Z",
     "start_time": "2022-01-29T01:11:22.433870Z"
    },
    "jupyter": {
     "outputs_hidden": false,
     "source_hidden": false
    },
    "nteract": {
     "transient": {
      "deleting": false
     }
    }
   },
   "outputs": [
    {
     "data": {
      "text/html": [
       "<div>\n",
       "<style scoped>\n",
       "    .dataframe tbody tr th:only-of-type {\n",
       "        vertical-align: middle;\n",
       "    }\n",
       "\n",
       "    .dataframe tbody tr th {\n",
       "        vertical-align: top;\n",
       "    }\n",
       "\n",
       "    .dataframe thead th {\n",
       "        text-align: right;\n",
       "    }\n",
       "</style>\n",
       "<table border=\"1\" class=\"dataframe\">\n",
       "  <thead>\n",
       "    <tr style=\"text-align: right;\">\n",
       "      <th></th>\n",
       "      <th>sexe</th>\n",
       "      <th>preusuel</th>\n",
       "      <th>annais</th>\n",
       "      <th>nombre</th>\n",
       "      <th>genre</th>\n",
       "    </tr>\n",
       "  </thead>\n",
       "  <tbody>\n",
       "    <tr>\n",
       "      <th>466561</th>\n",
       "      <td>2</td>\n",
       "      <td>JUNA</td>\n",
       "      <td>2004</td>\n",
       "      <td>8</td>\n",
       "      <td>Female</td>\n",
       "    </tr>\n",
       "    <tr>\n",
       "      <th>142764</th>\n",
       "      <td>1</td>\n",
       "      <td>JEANNICK</td>\n",
       "      <td>1972</td>\n",
       "      <td>14</td>\n",
       "      <td>Male</td>\n",
       "    </tr>\n",
       "    <tr>\n",
       "      <th>77519</th>\n",
       "      <td>1</td>\n",
       "      <td>ELRIC</td>\n",
       "      <td>1985</td>\n",
       "      <td>3</td>\n",
       "      <td>Male</td>\n",
       "    </tr>\n",
       "    <tr>\n",
       "      <th>555824</th>\n",
       "      <td>2</td>\n",
       "      <td>MICHELINE</td>\n",
       "      <td>1928</td>\n",
       "      <td>4133</td>\n",
       "      <td>Female</td>\n",
       "    </tr>\n",
       "    <tr>\n",
       "      <th>257128</th>\n",
       "      <td>1</td>\n",
       "      <td>SERGIO</td>\n",
       "      <td>2008</td>\n",
       "      <td>31</td>\n",
       "      <td>Male</td>\n",
       "    </tr>\n",
       "    <tr>\n",
       "      <th>627531</th>\n",
       "      <td>2</td>\n",
       "      <td>SIMONE</td>\n",
       "      <td>1940</td>\n",
       "      <td>3287</td>\n",
       "      <td>Female</td>\n",
       "    </tr>\n",
       "    <tr>\n",
       "      <th>14511</th>\n",
       "      <td>1</td>\n",
       "      <td>ALESSANDRO</td>\n",
       "      <td>1977</td>\n",
       "      <td>18</td>\n",
       "      <td>Male</td>\n",
       "    </tr>\n",
       "    <tr>\n",
       "      <th>195085</th>\n",
       "      <td>1</td>\n",
       "      <td>MAURICE</td>\n",
       "      <td>1932</td>\n",
       "      <td>7407</td>\n",
       "      <td>Male</td>\n",
       "    </tr>\n",
       "    <tr>\n",
       "      <th>368676</th>\n",
       "      <td>2</td>\n",
       "      <td>CHRISTIANE</td>\n",
       "      <td>1926</td>\n",
       "      <td>3025</td>\n",
       "      <td>Female</td>\n",
       "    </tr>\n",
       "    <tr>\n",
       "      <th>658500</th>\n",
       "      <td>2</td>\n",
       "      <td>YAMNA</td>\n",
       "      <td>1962</td>\n",
       "      <td>9</td>\n",
       "      <td>Female</td>\n",
       "    </tr>\n",
       "  </tbody>\n",
       "</table>\n",
       "</div>"
      ],
      "text/plain": [
       "        sexe    preusuel annais  nombre   genre\n",
       "466561     2        JUNA   2004       8  Female\n",
       "142764     1    JEANNICK   1972      14    Male\n",
       "77519      1       ELRIC   1985       3    Male\n",
       "555824     2   MICHELINE   1928    4133  Female\n",
       "257128     1      SERGIO   2008      31    Male\n",
       "627531     2      SIMONE   1940    3287  Female\n",
       "14511      1  ALESSANDRO   1977      18    Male\n",
       "195085     1     MAURICE   1932    7407    Male\n",
       "368676     2  CHRISTIANE   1926    3025  Female\n",
       "658500     2       YAMNA   1962       9  Female"
      ]
     },
     "execution_count": 18,
     "metadata": {},
     "output_type": "execute_result"
    }
   ],
   "source": [
    "# your code here\n",
    "data['genre']=data['sexe'].astype('category')\n",
    "data.genre=data.genre.cat.rename_categories(['Male','Female'])\n",
    "data.sample(10)"
   ]
  },
  {
   "cell_type": "code",
   "execution_count": null,
   "metadata": {
    "jupyter": {
     "outputs_hidden": false,
     "source_hidden": false
    },
    "nteract": {
     "transient": {
      "deleting": false
     }
    }
   },
   "outputs": [],
   "source": [
    "\n"
   ]
  },
  {
   "cell_type": "markdown",
   "metadata": {
    "nteract": {
     "transient": {
      "deleting": false
     }
    }
   },
   "source": [
    "**QUESTION:** Compare memory usage of columns `sexe` and `genre`"
   ]
  },
  {
   "cell_type": "code",
   "execution_count": 19,
   "metadata": {
    "ExecuteTime": {
     "end_time": "2022-01-29T01:11:22.490284Z",
     "start_time": "2022-01-29T01:11:22.485602Z"
    },
    "jupyter": {
     "outputs_hidden": false,
     "source_hidden": false
    },
    "nteract": {
     "transient": {
      "deleting": false
     }
    }
   },
   "outputs": [
    {
     "name": "stdout",
     "output_type": "stream",
     "text": [
      "memory usage of sexe :  5339040\n",
      "memory usage of genre :  667616\n"
     ]
    }
   ],
   "source": [
    "# your code here\n",
    "print(\"memory usage of sexe : \",data.sexe.memory_usage())\n",
    "print(\"memory usage of genre : \",data.genre.memory_usage())"
   ]
  },
  {
   "cell_type": "markdown",
   "metadata": {
    "nteract": {
     "transient": {
      "deleting": false
     }
    }
   },
   "source": [
    "**QUESTION:** Would it be more memory-efficient to recode `sexe` using modalities `F` and `M` instead of `Male` and `Female` ?"
   ]
  },
  {
   "cell_type": "markdown",
   "metadata": {
    "nteract": {
     "transient": {
      "deleting": false
     }
    }
   },
   "source": [
    "_Insert your answer here_\n",
    "\n",
    "> Non, comme F et Female sont du même type, la mémoire utilisée est la même quelle que soit celle utilisée"
   ]
  },
  {
   "cell_type": "markdown",
   "metadata": {
    "nteract": {
     "transient": {
      "deleting": false
     }
    }
   },
   "source": [
    "## Dealing with missing values\n",
    "\n",
    "**QUESTION:** Variable `annais` class is `object`. Make `annais` of type `float`. Note that missing years are encoded as \"XXXX\", find a way to deal with that.\n",
    "\n",
    "__Hint:__  As of releasing this Homework (2021-01-22), `Pandas` is not very good at managing missing values,\n",
    "see [roadmap](https://pandas.pydata.org/docs/development/roadmap.html). Don't try to convert `annais` into an integer column."
   ]
  },
  {
   "cell_type": "code",
   "execution_count": 20,
   "metadata": {
    "ExecuteTime": {
     "end_time": "2022-01-29T01:11:22.725739Z",
     "start_time": "2022-01-29T01:11:22.492644Z"
    },
    "jupyter": {
     "outputs_hidden": false,
     "source_hidden": false
    },
    "nteract": {
     "transient": {
      "deleting": false
     }
    }
   },
   "outputs": [
    {
     "data": {
      "text/html": [
       "<div>\n",
       "<style scoped>\n",
       "    .dataframe tbody tr th:only-of-type {\n",
       "        vertical-align: middle;\n",
       "    }\n",
       "\n",
       "    .dataframe tbody tr th {\n",
       "        vertical-align: top;\n",
       "    }\n",
       "\n",
       "    .dataframe thead th {\n",
       "        text-align: right;\n",
       "    }\n",
       "</style>\n",
       "<table border=\"1\" class=\"dataframe\">\n",
       "  <thead>\n",
       "    <tr style=\"text-align: right;\">\n",
       "      <th></th>\n",
       "      <th>sexe</th>\n",
       "      <th>preusuel</th>\n",
       "      <th>annais</th>\n",
       "      <th>nombre</th>\n",
       "      <th>genre</th>\n",
       "    </tr>\n",
       "  </thead>\n",
       "  <tbody>\n",
       "    <tr>\n",
       "      <th>303033</th>\n",
       "      <td>1</td>\n",
       "      <td>ZEYNEL</td>\n",
       "      <td>2013.0</td>\n",
       "      <td>5</td>\n",
       "      <td>Male</td>\n",
       "    </tr>\n",
       "    <tr>\n",
       "      <th>235398</th>\n",
       "      <td>1</td>\n",
       "      <td>RAEL</td>\n",
       "      <td>2003.0</td>\n",
       "      <td>3</td>\n",
       "      <td>Male</td>\n",
       "    </tr>\n",
       "    <tr>\n",
       "      <th>660679</th>\n",
       "      <td>2</td>\n",
       "      <td>YOLA</td>\n",
       "      <td>2001.0</td>\n",
       "      <td>6</td>\n",
       "      <td>Female</td>\n",
       "    </tr>\n",
       "    <tr>\n",
       "      <th>364214</th>\n",
       "      <td>2</td>\n",
       "      <td>CHAINESE</td>\n",
       "      <td>1998.0</td>\n",
       "      <td>8</td>\n",
       "      <td>Female</td>\n",
       "    </tr>\n",
       "    <tr>\n",
       "      <th>263323</th>\n",
       "      <td>1</td>\n",
       "      <td>SOHAIL</td>\n",
       "      <td>2020.0</td>\n",
       "      <td>9</td>\n",
       "      <td>Male</td>\n",
       "    </tr>\n",
       "    <tr>\n",
       "      <th>361528</th>\n",
       "      <td>2</td>\n",
       "      <td>CELESTE</td>\n",
       "      <td>1992.0</td>\n",
       "      <td>32</td>\n",
       "      <td>Female</td>\n",
       "    </tr>\n",
       "    <tr>\n",
       "      <th>288204</th>\n",
       "      <td>1</td>\n",
       "      <td>WACLAW</td>\n",
       "      <td>1927.0</td>\n",
       "      <td>12</td>\n",
       "      <td>Male</td>\n",
       "    </tr>\n",
       "    <tr>\n",
       "      <th>273039</th>\n",
       "      <td>1</td>\n",
       "      <td>TED</td>\n",
       "      <td>2007.0</td>\n",
       "      <td>8</td>\n",
       "      <td>Male</td>\n",
       "    </tr>\n",
       "    <tr>\n",
       "      <th>461762</th>\n",
       "      <td>2</td>\n",
       "      <td>JOHANIE</td>\n",
       "      <td>1985.0</td>\n",
       "      <td>8</td>\n",
       "      <td>Female</td>\n",
       "    </tr>\n",
       "    <tr>\n",
       "      <th>213776</th>\n",
       "      <td>1</td>\n",
       "      <td>NAYL</td>\n",
       "      <td>2017.0</td>\n",
       "      <td>15</td>\n",
       "      <td>Male</td>\n",
       "    </tr>\n",
       "  </tbody>\n",
       "</table>\n",
       "</div>"
      ],
      "text/plain": [
       "        sexe  preusuel  annais  nombre   genre\n",
       "303033     1    ZEYNEL  2013.0       5    Male\n",
       "235398     1      RAEL  2003.0       3    Male\n",
       "660679     2      YOLA  2001.0       6  Female\n",
       "364214     2  CHAINESE  1998.0       8  Female\n",
       "263323     1    SOHAIL  2020.0       9    Male\n",
       "361528     2   CELESTE  1992.0      32  Female\n",
       "288204     1    WACLAW  1927.0      12    Male\n",
       "273039     1       TED  2007.0       8    Male\n",
       "461762     2   JOHANIE  1985.0       8  Female\n",
       "213776     1      NAYL  2017.0      15    Male"
      ]
     },
     "execution_count": 20,
     "metadata": {},
     "output_type": "execute_result"
    }
   ],
   "source": [
    "# your code here\n",
    "data = data.replace({'annais' : 'XXXX'},np.nan)\n",
    "data['annais']=data['annais'].astype('float')\n",
    "\n",
    "data.sample(10)"
   ]
  },
  {
   "cell_type": "markdown",
   "metadata": {
    "nteract": {
     "transient": {
      "deleting": false
     }
    }
   },
   "source": [
    "## Rename and remove columns"
   ]
  },
  {
   "cell_type": "markdown",
   "metadata": {
    "nteract": {
     "transient": {
      "deleting": false
     }
    }
   },
   "source": [
    "**QUESTION:** Remove useless columns (now that you've created new ones, and rename them). You should end up with a dataframe with columns called `\"gender\"`, `\"year\"`, `\"count\"`, `\"firstname`\" with the following dtypes:\n",
    "\n",
    "```python\n",
    "gender        category\n",
    "firstname     object\n",
    "count         int64\n",
    "year          float64\n",
    "```"
   ]
  },
  {
   "cell_type": "code",
   "execution_count": 21,
   "metadata": {
    "ExecuteTime": {
     "end_time": "2022-01-29T01:11:22.770649Z",
     "start_time": "2022-01-29T01:11:22.728491Z"
    },
    "jupyter": {
     "outputs_hidden": false,
     "source_hidden": false
    },
    "nteract": {
     "transient": {
      "deleting": false
     }
    }
   },
   "outputs": [
    {
     "data": {
      "text/plain": [
       "firstname      object\n",
       "year          float64\n",
       "count           int64\n",
       "gender       category\n",
       "dtype: object"
      ]
     },
     "execution_count": 21,
     "metadata": {},
     "output_type": "execute_result"
    }
   ],
   "source": [
    "# your code here\n",
    "data = data.drop(['sexe'], axis=1)\n",
    "data = data.rename(columns={'genre':'gender','annais' : 'year','nombre' : 'count','preusuel' : 'firstname'})\n",
    "data.dtypes"
   ]
  },
  {
   "cell_type": "markdown",
   "metadata": {
    "nteract": {
     "transient": {
      "deleting": false
     }
    }
   },
   "source": [
    "**QUESTION:** How many missing values (NA) have been introduced? How many births are concerned?"
   ]
  },
  {
   "cell_type": "code",
   "execution_count": 41,
   "metadata": {
    "ExecuteTime": {
     "end_time": "2022-01-29T01:22:36.729437Z",
     "start_time": "2022-01-29T01:22:36.635653Z"
    },
    "jupyter": {
     "outputs_hidden": false,
     "source_hidden": false
    },
    "nteract": {
     "transient": {
      "deleting": false
     }
    }
   },
   "outputs": [
    {
     "name": "stdout",
     "output_type": "stream",
     "text": [
      "Number of missing values :  36677\n",
      "Number of missing birth's values :  36675\n"
     ]
    }
   ],
   "source": [
    "# your code here\n",
    "print(\"Number of missing values : \",data.isnull().sum().sum())\n",
    "print(\"Number of missing birth's values : \",data['year'].isnull().sum())"
   ]
  },
  {
   "cell_type": "markdown",
   "metadata": {
    "nteract": {
     "transient": {
      "deleting": false
     }
    }
   },
   "source": [
    "**QUESTION:** Read the documentation and describe the origin of rows containing the missing values."
   ]
  },
  {
   "cell_type": "markdown",
   "metadata": {
    "ExecuteTime": {
     "end_time": "2022-01-29T01:36:06.070554Z",
     "start_time": "2022-01-29T01:36:06.065425Z"
    },
    "jupyter": {
     "outputs_hidden": false,
     "source_hidden": false
    },
    "nteract": {
     "transient": {
      "deleting": false
     }
    }
   },
   "source": [
    "# your code here\n",
    "Les valeurs manquantes dans la colonne \"year\" sont des prénoms qui a été attribué au moins 20 fois à des personnes de sexe féminin/masculin sur la période allant de 1946 à 2020, mais il existe des année qui a été attribué moins de 3 fois."
   ]
  },
  {
   "cell_type": "markdown",
   "metadata": {
    "nteract": {
     "transient": {
      "deleting": false
     }
    }
   },
   "source": [
    "## Checkpointing: save your transformed dataframe"
   ]
  },
  {
   "cell_type": "raw",
   "metadata": {
    "nteract": {
     "transient": {
      "deleting": false
     }
    }
   },
   "source": [
    "# **QUESTION:** Save the transformed dataframe (retyped and renamed) to `./nat2020_csv.zip`. Try several compression methods."
   ]
  },
  {
   "cell_type": "code",
   "execution_count": 24,
   "metadata": {
    "ExecuteTime": {
     "end_time": "2022-01-29T01:11:22.792912Z",
     "start_time": "2022-01-29T01:11:22.789298Z"
    },
    "jupyter": {
     "outputs_hidden": false,
     "source_hidden": false
    },
    "nteract": {
     "transient": {
      "deleting": false
     }
    }
   },
   "outputs": [],
   "source": [
    "# your code here\n"
   ]
  },
  {
   "cell_type": "markdown",
   "metadata": {
    "nteract": {
     "transient": {
      "deleting": false
     }
    }
   },
   "source": [
    "**QUESTION:** Save the transformed dataframe (retyped and renamed) to `./nat2020.hdf` using `.hdf` format"
   ]
  },
  {
   "cell_type": "code",
   "execution_count": 25,
   "metadata": {
    "ExecuteTime": {
     "end_time": "2022-01-29T01:11:22.800529Z",
     "start_time": "2022-01-29T01:11:22.797251Z"
    },
    "jupyter": {
     "outputs_hidden": false,
     "source_hidden": false
    },
    "nteract": {
     "transient": {
      "deleting": false
     }
    }
   },
   "outputs": [],
   "source": [
    "# your code here\n"
   ]
  },
  {
   "cell_type": "markdown",
   "metadata": {
    "nteract": {
     "transient": {
      "deleting": false
     }
    }
   },
   "source": [
    "At that point your working directory should look like:\n",
    "\n",
    "```\n",
    "├── homework01.py      # if you use `jupytext`\n",
    "├── homework01.ipynb\n",
    "├── nat2020.hdf\n",
    "├── nat2020.zip\n",
    "```\n",
    "\n",
    "**QUESTION:** Reload the data using `read_hdf(...)` so that the resulting dataframe  is properly typed with meaningful column names.\n",
    "\n",
    "__Hint:__ use `try: ... except` to handle exceptions such as `FileNotFoundError`"
   ]
  },
  {
   "cell_type": "code",
   "execution_count": 26,
   "metadata": {
    "ExecuteTime": {
     "end_time": "2022-01-29T01:11:22.806722Z",
     "start_time": "2022-01-29T01:11:22.803120Z"
    },
    "jupyter": {
     "outputs_hidden": false,
     "source_hidden": false
    },
    "nteract": {
     "transient": {
      "deleting": false
     }
    }
   },
   "outputs": [],
   "source": [
    "# your code here\n"
   ]
  },
  {
   "cell_type": "markdown",
   "metadata": {
    "nteract": {
     "transient": {
      "deleting": false
     }
    }
   },
   "source": [
    "## Some data \"analytics\" and visualization\n",
    "\n",
    "**QUESTION**: For each year, compute the total number of Female and Male births and the proportion of Female  births among total births\n",
    "\n",
    "__Hints:__\n",
    "\n",
    "- Groupby operations using several columns for the groups return a dataframe with a `MultiIndex` index see [Pandas advanced](https://pandas.pydata.org/pandas-docs/stable/user_guide/advanced.html)\n",
    "\n",
    "- Have a look at `MultiIndex`, `reset_index`, `pivot`, `columns.droplevel`"
   ]
  },
  {
   "cell_type": "code",
   "execution_count": 70,
   "metadata": {
    "ExecuteTime": {
     "end_time": "2022-01-29T02:37:49.431353Z",
     "start_time": "2022-01-29T02:37:49.344895Z"
    },
    "jupyter": {
     "outputs_hidden": false,
     "source_hidden": false
    },
    "nteract": {
     "transient": {
      "deleting": false
     }
    }
   },
   "outputs": [
    {
     "data": {
      "text/html": [
       "<div>\n",
       "<style scoped>\n",
       "    .dataframe tbody tr th:only-of-type {\n",
       "        vertical-align: middle;\n",
       "    }\n",
       "\n",
       "    .dataframe tbody tr th {\n",
       "        vertical-align: top;\n",
       "    }\n",
       "\n",
       "    .dataframe thead th {\n",
       "        text-align: right;\n",
       "    }\n",
       "</style>\n",
       "<table border=\"1\" class=\"dataframe\">\n",
       "  <thead>\n",
       "    <tr style=\"text-align: right;\">\n",
       "      <th>gender</th>\n",
       "      <th>Male</th>\n",
       "      <th>Female</th>\n",
       "    </tr>\n",
       "    <tr>\n",
       "      <th>year</th>\n",
       "      <th></th>\n",
       "      <th></th>\n",
       "    </tr>\n",
       "  </thead>\n",
       "  <tbody>\n",
       "    <tr>\n",
       "      <th>1900.0</th>\n",
       "      <td>177388</td>\n",
       "      <td>237653</td>\n",
       "    </tr>\n",
       "    <tr>\n",
       "      <th>1901.0</th>\n",
       "      <td>195964</td>\n",
       "      <td>257492</td>\n",
       "    </tr>\n",
       "    <tr>\n",
       "      <th>1902.0</th>\n",
       "      <td>204353</td>\n",
       "      <td>261437</td>\n",
       "    </tr>\n",
       "    <tr>\n",
       "      <th>1903.0</th>\n",
       "      <td>207358</td>\n",
       "      <td>261450</td>\n",
       "    </tr>\n",
       "    <tr>\n",
       "      <th>1904.0</th>\n",
       "      <td>214140</td>\n",
       "      <td>264822</td>\n",
       "    </tr>\n",
       "    <tr>\n",
       "      <th>...</th>\n",
       "      <td>...</td>\n",
       "      <td>...</td>\n",
       "    </tr>\n",
       "    <tr>\n",
       "      <th>2016.0</th>\n",
       "      <td>389909</td>\n",
       "      <td>370593</td>\n",
       "    </tr>\n",
       "    <tr>\n",
       "      <th>2017.0</th>\n",
       "      <td>382593</td>\n",
       "      <td>363885</td>\n",
       "    </tr>\n",
       "    <tr>\n",
       "      <th>2018.0</th>\n",
       "      <td>377802</td>\n",
       "      <td>358460</td>\n",
       "    </tr>\n",
       "    <tr>\n",
       "      <th>2019.0</th>\n",
       "      <td>374202</td>\n",
       "      <td>356915</td>\n",
       "    </tr>\n",
       "    <tr>\n",
       "      <th>2020.0</th>\n",
       "      <td>365249</td>\n",
       "      <td>348024</td>\n",
       "    </tr>\n",
       "  </tbody>\n",
       "</table>\n",
       "<p>121 rows × 2 columns</p>\n",
       "</div>"
      ],
      "text/plain": [
       "gender    Male  Female\n",
       "year                  \n",
       "1900.0  177388  237653\n",
       "1901.0  195964  257492\n",
       "1902.0  204353  261437\n",
       "1903.0  207358  261450\n",
       "1904.0  214140  264822\n",
       "...        ...     ...\n",
       "2016.0  389909  370593\n",
       "2017.0  382593  363885\n",
       "2018.0  377802  358460\n",
       "2019.0  374202  356915\n",
       "2020.0  365249  348024\n",
       "\n",
       "[121 rows x 2 columns]"
      ]
     },
     "execution_count": 70,
     "metadata": {},
     "output_type": "execute_result"
    }
   ],
   "source": [
    "# your code here\n",
    "births = data.groupby(['year','gender']).sum()\\\n",
    "    .reset_index()\\\n",
    "    .pivot(index='year',columns='gender',values='count')\n",
    "\n",
    "def propor(a,b):\n",
    "    return a/(a+b)\n",
    "\n",
    "#births['proportion'] = births.apply(lambda row: propor(row['Female'],row['Male']), axis=1)\n",
    "\n",
    "births"
   ]
  },
  {
   "cell_type": "markdown",
   "metadata": {
    "nteract": {
     "transient": {
      "deleting": false
     }
    }
   },
   "source": [
    "**QUESTION:** Plot the proportion of female births as a function of year. Don't forget: title, axes labels, ticks, scales, etc.\n",
    "\n",
    "Because of what we did before, the `plot` method of a `DataFrame` with be rendered using `plotly`, so you can use this. But you can use also `seaborn` or any other available plotting library that you want.\n",
    "\n",
    "__Hint:__ Mind the missing values in the `year` column"
   ]
  },
  {
   "cell_type": "code",
   "execution_count": 28,
   "metadata": {
    "ExecuteTime": {
     "end_time": "2022-01-29T01:11:22.820133Z",
     "start_time": "2022-01-29T01:11:22.817390Z"
    },
    "jupyter": {
     "outputs_hidden": false,
     "source_hidden": false
    },
    "nteract": {
     "transient": {
      "deleting": false
     }
    }
   },
   "outputs": [],
   "source": [
    "# your code here\n"
   ]
  },
  {
   "cell_type": "markdown",
   "metadata": {
    "nteract": {
     "transient": {
      "deleting": false
     }
    }
   },
   "source": [
    "**QUESTION:** Make any sensible comment about this plot.\n",
    "\n",
    "_Insert your answer here_\n",
    "\n",
    "> ..."
   ]
  },
  {
   "cell_type": "markdown",
   "metadata": {
    "nteract": {
     "transient": {
      "deleting": false
     }
    }
   },
   "source": [
    "**QUESTION:** Explore the fluctuations of sex ratio around its mean value since 1945.\n",
    "Plot deviations of sex ratio around its mean since 1945 as a function of time."
   ]
  },
  {
   "cell_type": "code",
   "execution_count": 29,
   "metadata": {
    "ExecuteTime": {
     "end_time": "2022-01-29T01:11:22.825120Z",
     "start_time": "2022-01-29T01:11:22.822311Z"
    },
    "jupyter": {
     "outputs_hidden": false,
     "source_hidden": false
    },
    "nteract": {
     "transient": {
      "deleting": false
     }
    }
   },
   "outputs": [],
   "source": [
    "# your code here\n"
   ]
  },
  {
   "cell_type": "markdown",
   "metadata": {
    "nteract": {
     "transient": {
      "deleting": false
     }
    }
   },
   "source": [
    "# Popular firstnames\n",
    "\n",
    "## The top-20 most popular firstnames since 1900\n",
    "\n",
    "**QUESTION:** For each firstname and sex (some names may be given to girls and boys), compute the total number of times this firstname has been given during `1900-2019`. Print the top 20 firstnames given and style your result dataframe using `background_gradient` for instance."
   ]
  },
  {
   "cell_type": "code",
   "execution_count": 30,
   "metadata": {
    "ExecuteTime": {
     "end_time": "2022-01-29T01:11:22.833137Z",
     "start_time": "2022-01-29T01:11:22.829229Z"
    },
    "jupyter": {
     "outputs_hidden": false,
     "source_hidden": false
    },
    "nteract": {
     "transient": {
      "deleting": false
     }
    }
   },
   "outputs": [],
   "source": [
    "# your code here\n"
   ]
  },
  {
   "cell_type": "markdown",
   "metadata": {
    "nteract": {
     "transient": {
      "deleting": false
     }
    }
   },
   "source": [
    "## Rare firstnames\n",
    "\n",
    "**QUESTION:** For each sex, plot the proportion of births given `_PRENOMS_RARES` as a function of the year."
   ]
  },
  {
   "cell_type": "code",
   "execution_count": 31,
   "metadata": {
    "ExecuteTime": {
     "end_time": "2022-01-29T01:11:22.840685Z",
     "start_time": "2022-01-29T01:11:22.836854Z"
    },
    "jupyter": {
     "outputs_hidden": false,
     "source_hidden": false
    },
    "nteract": {
     "transient": {
      "deleting": false
     }
    }
   },
   "outputs": [],
   "source": [
    "# your code here\n"
   ]
  },
  {
   "cell_type": "markdown",
   "metadata": {
    "nteract": {
     "transient": {
      "deleting": false
     }
    }
   },
   "source": [
    "# A study of the \"Marie\" firstname\n",
    "\n",
    "**QUESTION:** Plot the proportion of female births given name `'MARIE'` or `'MARIE-...'` (compounded names) as a function of the year.\n",
    "Proceed in such a way that the reader can see the share of compounded names. We are expecting an _area plot_.\n",
    "\n",
    "__Hints:__\n",
    "\n",
    "- Have a look at the `.str` accessor (to apply a string method over a whole column containing string)\n",
    "- Have a look at [r-graph-gallery: stacked area](https://www.r-graph-gallery.com/stacked-area-graph.html)  and\n",
    "at [ggplot documentation](https://ggplot2.tidyverse.org/reference/geom_ribbon.html). Pay attention on the way you stack the area corresponding to names matching pattern 'MARIE-.*' over or under the are corresponding to babies named 'MARIE'\n",
    "- See Graphique 3, page 48, de _L'archipel français_  de J. Fourquet. Le Seuil. Essais. Vol. 898.\n",
    "\n",
    "- Add annotation, 1st World War, Front Populaire, 2nd World War, 1968"
   ]
  },
  {
   "cell_type": "code",
   "execution_count": 32,
   "metadata": {
    "ExecuteTime": {
     "end_time": "2022-01-29T01:11:22.848701Z",
     "start_time": "2022-01-29T01:11:22.844723Z"
    },
    "jupyter": {
     "outputs_hidden": false,
     "source_hidden": false
    },
    "nteract": {
     "transient": {
      "deleting": false
     }
    }
   },
   "outputs": [],
   "source": [
    "# your code here\n"
   ]
  },
  {
   "cell_type": "markdown",
   "metadata": {
    "nteract": {
     "transient": {
      "deleting": false
     }
    }
   },
   "source": [
    "# Top 10 firstnames of year 2000\n",
    "\n",
    "**QUESTION:** For each sex, select the ten most popular names in year 2000, and plot the proportion\n",
    "of newborns given that name over time. Take into account that some names might have\n",
    "zero occurrence during certain years.\n",
    "\n",
    "__Hint:__ Leave aside the rows with '_PRENOMS_RARES'."
   ]
  },
  {
   "cell_type": "code",
   "execution_count": 33,
   "metadata": {
    "ExecuteTime": {
     "end_time": "2022-01-29T01:11:22.856691Z",
     "start_time": "2022-01-29T01:11:22.852014Z"
    },
    "jupyter": {
     "outputs_hidden": false,
     "source_hidden": false
    },
    "nteract": {
     "transient": {
      "deleting": false
     }
    }
   },
   "outputs": [],
   "source": [
    "# your code here\n"
   ]
  },
  {
   "cell_type": "markdown",
   "metadata": {
    "nteract": {
     "transient": {
      "deleting": false
     }
    }
   },
   "source": [
    "# Getting help\n",
    "\n",
    "- [pandas](https://pandas.pydata.org/pandas-docs/stable/reference/)\n",
    "\n",
    "- [plotly](https://plotly.com/python/) for animated plots\n",
    "\n",
    "- [stackoverflow](https://stackoverflow.com)\n",
    "\n",
    "- [stackoverflow: pandas](https://stackoverflow.com/questions/tagged/pandas)\n",
    "\n",
    "- [stackoverflow: plotly+python](https://stackoverflow.com/questions/tagged/plotly+python)\n",
    "\n",
    "- The US `babynames` analogue of the INSEE file has been a playground for data scientists,\n",
    " see [https://github.com/hadley/babynames](https://github.com/hadley/babynames)\n",
    "\n",
    "- Don't Repeat Yourself (DRY) principle  at [Wikipedia](https://en.wikipedia.org/wiki/Don%27t_repeat_yourself)"
   ]
  }
 ],
 "metadata": {
  "kernelspec": {
   "display_name": "Python 3",
   "language": "python",
   "name": "python3"
  },
  "language_info": {
   "codemirror_mode": {
    "name": "ipython",
    "version": 3
   },
   "file_extension": ".py",
   "mimetype": "text/x-python",
   "name": "python",
   "nbconvert_exporter": "python",
   "pygments_lexer": "ipython3",
   "version": "3.8.5"
  },
  "toc": {
   "base_numbering": 1,
   "nav_menu": {},
   "number_sections": true,
   "sideBar": true,
   "skip_h1_title": false,
   "title_cell": "Table of Contents",
   "title_sidebar": "Contents",
   "toc_cell": false,
   "toc_position": {},
   "toc_section_display": true,
   "toc_window_display": false
  }
 },
 "nbformat": 4,
 "nbformat_minor": 1
}

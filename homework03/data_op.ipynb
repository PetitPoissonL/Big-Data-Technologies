{
 "cells": [
  {
   "cell_type": "code",
   "execution_count": 1,
   "id": "d2752833",
   "metadata": {
    "ExecuteTime": {
     "end_time": "2022-03-13T07:58:57.575634Z",
     "start_time": "2022-03-13T07:58:56.064058Z"
    }
   },
   "outputs": [
    {
     "data": {
      "text/html": [
       "<div>\n",
       "<style scoped>\n",
       "    .dataframe tbody tr th:only-of-type {\n",
       "        vertical-align: middle;\n",
       "    }\n",
       "\n",
       "    .dataframe tbody tr th {\n",
       "        vertical-align: top;\n",
       "    }\n",
       "\n",
       "    .dataframe thead th {\n",
       "        text-align: right;\n",
       "    }\n",
       "</style>\n",
       "<table border=\"1\" class=\"dataframe\">\n",
       "  <thead>\n",
       "    <tr style=\"text-align: right;\">\n",
       "      <th></th>\n",
       "      <th>borough</th>\n",
       "      <th>location_i</th>\n",
       "      <th>objectid</th>\n",
       "      <th>shape_area</th>\n",
       "      <th>shape_leng</th>\n",
       "      <th>zone</th>\n",
       "      <th>geometry</th>\n",
       "      <th>point</th>\n",
       "    </tr>\n",
       "  </thead>\n",
       "  <tbody>\n",
       "    <tr>\n",
       "      <th>0</th>\n",
       "      <td>EWR</td>\n",
       "      <td>1.0</td>\n",
       "      <td>1.0</td>\n",
       "      <td>0.000782</td>\n",
       "      <td>0.116357</td>\n",
       "      <td>Newark Airport</td>\n",
       "      <td>POLYGON ((-74.18445 40.69500, -74.18449 40.695...</td>\n",
       "      <td>POINT (-74.17678 40.68951)</td>\n",
       "    </tr>\n",
       "    <tr>\n",
       "      <th>1</th>\n",
       "      <td>Queens</td>\n",
       "      <td>2.0</td>\n",
       "      <td>2.0</td>\n",
       "      <td>0.004866</td>\n",
       "      <td>0.433470</td>\n",
       "      <td>Jamaica Bay</td>\n",
       "      <td>MULTIPOLYGON (((-73.82338 40.63899, -73.82277 ...</td>\n",
       "      <td>POINT (-73.82614 40.62572)</td>\n",
       "    </tr>\n",
       "    <tr>\n",
       "      <th>2</th>\n",
       "      <td>Bronx</td>\n",
       "      <td>3.0</td>\n",
       "      <td>3.0</td>\n",
       "      <td>0.000314</td>\n",
       "      <td>0.084341</td>\n",
       "      <td>Allerton/Pelham Gardens</td>\n",
       "      <td>POLYGON ((-73.84793 40.87134, -73.84725 40.870...</td>\n",
       "      <td>POINT (-73.84948 40.86587)</td>\n",
       "    </tr>\n",
       "    <tr>\n",
       "      <th>3</th>\n",
       "      <td>Manhattan</td>\n",
       "      <td>4.0</td>\n",
       "      <td>4.0</td>\n",
       "      <td>0.000112</td>\n",
       "      <td>0.043567</td>\n",
       "      <td>Alphabet City</td>\n",
       "      <td>POLYGON ((-73.97177 40.72582, -73.97179 40.725...</td>\n",
       "      <td>POINT (-73.97702 40.72415)</td>\n",
       "    </tr>\n",
       "    <tr>\n",
       "      <th>4</th>\n",
       "      <td>Staten Island</td>\n",
       "      <td>5.0</td>\n",
       "      <td>5.0</td>\n",
       "      <td>0.000498</td>\n",
       "      <td>0.092146</td>\n",
       "      <td>Arden Heights</td>\n",
       "      <td>POLYGON ((-74.17422 40.56257, -74.17349 40.562...</td>\n",
       "      <td>POINT (-74.18994 40.55034)</td>\n",
       "    </tr>\n",
       "  </tbody>\n",
       "</table>\n",
       "</div>"
      ],
      "text/plain": [
       "         borough  location_i  objectid  shape_area  shape_leng  \\\n",
       "0            EWR         1.0       1.0    0.000782    0.116357   \n",
       "1         Queens         2.0       2.0    0.004866    0.433470   \n",
       "2          Bronx         3.0       3.0    0.000314    0.084341   \n",
       "3      Manhattan         4.0       4.0    0.000112    0.043567   \n",
       "4  Staten Island         5.0       5.0    0.000498    0.092146   \n",
       "\n",
       "                      zone                                           geometry  \\\n",
       "0           Newark Airport  POLYGON ((-74.18445 40.69500, -74.18449 40.695...   \n",
       "1              Jamaica Bay  MULTIPOLYGON (((-73.82338 40.63899, -73.82277 ...   \n",
       "2  Allerton/Pelham Gardens  POLYGON ((-73.84793 40.87134, -73.84725 40.870...   \n",
       "3            Alphabet City  POLYGON ((-73.97177 40.72582, -73.97179 40.725...   \n",
       "4            Arden Heights  POLYGON ((-74.17422 40.56257, -74.17349 40.562...   \n",
       "\n",
       "                        point  \n",
       "0  POINT (-74.17678 40.68951)  \n",
       "1  POINT (-73.82614 40.62572)  \n",
       "2  POINT (-73.84948 40.86587)  \n",
       "3  POINT (-73.97702 40.72415)  \n",
       "4  POINT (-74.18994 40.55034)  "
      ]
     },
     "execution_count": 1,
     "metadata": {},
     "output_type": "execute_result"
    }
   ],
   "source": [
    "import geopandas as gpd\n",
    "from shapely.geometry import Point\n",
    "\n",
    "import os\n",
    "os.environ[\"KMP_DUPLICATE_LIB_OK\"]=\"TRUE\"\n",
    "\n",
    "shp_path = os.path.join('./', 'nyc-taxi-zone.shp')\n",
    "#nyc_taxi_zones = gpd.read_file(filename='taxi_zones.shp')\n",
    "nyc_taxi_zones = gpd.GeoDataFrame.from_file(shp_path)\n",
    "nyc_taxi_zones.to_crs(epsg=4326,inplace=True)\n",
    "nyc_taxi_zones['point'] = nyc_taxi_zones.representative_point()\n",
    "nyc_taxi_zones.head()"
   ]
  },
  {
   "cell_type": "code",
   "execution_count": 2,
   "id": "efcac66a",
   "metadata": {
    "ExecuteTime": {
     "end_time": "2022-03-13T07:58:57.583029Z",
     "start_time": "2022-03-13T07:58:57.578889Z"
    },
    "scrolled": true
   },
   "outputs": [],
   "source": [
    "#import re\n",
    "\n",
    "#def get_jwd(point):\n",
    "#    fs = re.findall('\\((.*)\\)',str(point))\n",
    "#    if fs:\n",
    "#        lon,lat = fs[0].strip(' ').split(' ')\n",
    "#        lon = float(lon)\n",
    "#        lat = float(lat)\n",
    "#        return [lon,lat]\n",
    "\n",
    "\n",
    "#nyc_taxi_zones['lon'] = nyc_taxi_zones['point'].apply(lambda x:get_jwd(x)[0])\n",
    "#nyc_taxi_zones['lat'] = nyc_taxi_zones['point'].apply(lambda x:get_jwd(x)[1])\n",
    "\n",
    "#nyc_taxi_zones.head()"
   ]
  },
  {
   "cell_type": "code",
   "execution_count": 3,
   "id": "8685fab1",
   "metadata": {
    "ExecuteTime": {
     "end_time": "2022-03-13T07:58:57.600482Z",
     "start_time": "2022-03-13T07:58:57.588055Z"
    }
   },
   "outputs": [],
   "source": [
    "long_min = -74.10\n",
    "long_max = -73.70\n",
    "lat_min = 40.58\n",
    "lat_max = 40.90\n",
    "\n",
    "global mark\n",
    "\n",
    "mark = 0\n",
    "\n",
    "\n",
    "def get_locationId(longitude,latitude):\n",
    "    global mark\n",
    "    mark += 1\n",
    "    if mark % 10000 == 0:\n",
    "        print(mark/100000)\n",
    "    if longitude >= long_min and longitude <= long_max and latitude >= lat_min and latitude <= lat_max:\n",
    "        pnts = Point(longitude,latitude)\n",
    "        for i,j in zip(nyc_taxi_zones['location_i'].values,nyc_taxi_zones['geometry'].values):\n",
    "            if pnts.within(j):\n",
    "                return i\n",
    "    return -1"
   ]
  },
  {
   "cell_type": "code",
   "execution_count": null,
   "id": "25acc4e6",
   "metadata": {
    "ExecuteTime": {
     "start_time": "2022-03-13T07:58:56.066Z"
    }
   },
   "outputs": [],
   "source": [
    "import pandas as pd\n",
    "#加工15年数据\n",
    "\n",
    "\n",
    "df201507 = pd.read_csv('yellow_tripdata_2015-07.csv')\n",
    "df201507.head()"
   ]
  },
  {
   "cell_type": "code",
   "execution_count": null,
   "id": "9bf949c7",
   "metadata": {
    "ExecuteTime": {
     "start_time": "2022-03-13T07:58:56.068Z"
    }
   },
   "outputs": [],
   "source": [
    "import time\n",
    "t1 = time.time()\n",
    "df201507['PULocationID'] = df201507[['pickup_longitude','pickup_latitude']].apply(lambda row: get_locationId(row['pickup_longitude'], row['pickup_latitude']), axis=1)\n",
    "df201507['DOLocationID'] = df201507[['dropoff_longitude','dropoff_latitude']].apply(lambda row: get_locationId(row['dropoff_longitude'], row['dropoff_latitude']), axis=1)\n",
    "t2 = time.time()\n",
    "print(str(int(t2-t1)) + 'sec')\n",
    "df201507.head()\n",
    "df201507.to_csv('yellow_tripdata_2015-07_add.csv')"
   ]
  },
  {
   "cell_type": "code",
   "execution_count": null,
   "id": "19441935",
   "metadata": {
    "ExecuteTime": {
     "start_time": "2022-03-13T07:58:56.070Z"
    }
   },
   "outputs": [],
   "source": [
    "#nyc_taxi_zones = nyc_taxi_zones[['LocationID','zone','borough','lon','lat']]\n",
    "nyc_taxi_zones = nyc_taxi_zones[['location_i','zone','borough']]"
   ]
  },
  {
   "cell_type": "code",
   "execution_count": null,
   "id": "0e6ade52",
   "metadata": {
    "ExecuteTime": {
     "start_time": "2022-03-13T07:58:56.071Z"
    }
   },
   "outputs": [],
   "source": [
    "df201507_pickup = pd.merge(left=df201507,right=nyc_taxi_zones,how='inner',left_on='PULocationID',right_on='location_i')\n",
    "#df201507_pickup['pickup_longitude'] = df201507_pickup['lon']\n",
    "#df201507_pickup['pickup_latitude'] = df201507_pickup['lat']\n",
    "df201507_pickup['pickup_zone'] = df201507_pickup['zone']\n",
    "df201507_pickup['pickup_borough'] = df201507_pickup['borough']\n",
    "df201507_pickup.head()"
   ]
  },
  {
   "cell_type": "code",
   "execution_count": null,
   "id": "5cea26d3",
   "metadata": {
    "ExecuteTime": {
     "start_time": "2022-03-13T07:58:56.073Z"
    }
   },
   "outputs": [],
   "source": [
    "pick_up = list(df201507_pickup.columns)\n",
    "pick_up.remove('location_i')\n",
    "pick_up.remove('zone')\n",
    "pick_up.remove('borough')\n",
    "#pick_up.remove('lon')\n",
    "#pick_up.remove('lat')\n",
    "print(pick_up)"
   ]
  },
  {
   "cell_type": "code",
   "execution_count": null,
   "id": "bac5341b",
   "metadata": {
    "ExecuteTime": {
     "start_time": "2022-03-13T07:58:56.076Z"
    }
   },
   "outputs": [],
   "source": [
    "df201507 = df201507_pickup[pick_up]"
   ]
  },
  {
   "cell_type": "code",
   "execution_count": null,
   "id": "ee639d7b",
   "metadata": {
    "ExecuteTime": {
     "start_time": "2022-03-13T07:58:56.079Z"
    }
   },
   "outputs": [],
   "source": [
    "df201507_dropoff = pd.merge(left=df201507,right=nyc_taxi_zones,how='inner',left_on='DOLocationID',right_on='location_i')\n",
    "#df201507_dropoff['dropoff_longitude'] = df201507_dropoff['lon']\n",
    "#df201507_dropoff['dropoff_latitude'] = df201507_dropoff['lat']\n",
    "df201507_dropoff['dropoff_zone'] = df201507_dropoff['zone']\n",
    "df201507_dropoff['dropoff_borough'] = df201507_dropoff['borough']\n",
    "df201507_dropoff.head()"
   ]
  },
  {
   "cell_type": "code",
   "execution_count": null,
   "id": "230a6860",
   "metadata": {
    "ExecuteTime": {
     "start_time": "2022-03-13T07:58:56.081Z"
    }
   },
   "outputs": [],
   "source": [
    "dropoff = list(df201507_dropoff.columns)\n",
    "dropoff.remove('location_i')\n",
    "dropoff.remove('zone')\n",
    "dropoff.remove('borough')\n",
    "#dropoff.remove('lon')\n",
    "#dropoff.remove('lat')\n",
    "print(dropoff)"
   ]
  },
  {
   "cell_type": "code",
   "execution_count": null,
   "id": "268b4a47",
   "metadata": {
    "ExecuteTime": {
     "start_time": "2022-03-13T07:58:56.083Z"
    }
   },
   "outputs": [],
   "source": [
    "df201507 = df201507_dropoff[dropoff]\n",
    "df201507.to_csv('yellow_tripdata_2015-07_traite.csv')"
   ]
  },
  {
   "cell_type": "code",
   "execution_count": null,
   "id": "b497c83b",
   "metadata": {
    "ExecuteTime": {
     "start_time": "2022-03-13T07:58:56.085Z"
    }
   },
   "outputs": [],
   "source": [
    "df201807 = pd.read_csv('yellow_tripdata_2018-07.csv')\n",
    "df201807.head()"
   ]
  },
  {
   "cell_type": "code",
   "execution_count": null,
   "id": "02a37797",
   "metadata": {
    "ExecuteTime": {
     "start_time": "2022-03-13T07:58:56.087Z"
    }
   },
   "outputs": [],
   "source": [
    "df201807_pickup = pd.merge(left=df201807,right=nyc_taxi_zones,how='inner',left_on='PULocationID',right_on='location_i')\n",
    "#df201807_pickup['pickup_longitude'] = df201807_pickup['lon']\n",
    "#df201807_pickup['pickup_latitude'] = df201807_pickup['lat']\n",
    "df201807_pickup['pickup_zone'] = df201807_pickup['zone']\n",
    "df201807_pickup['pickup_borough'] = df201807_pickup['borough']\n",
    "df201807_pickup.head()"
   ]
  },
  {
   "cell_type": "code",
   "execution_count": null,
   "id": "386b8b4b",
   "metadata": {
    "ExecuteTime": {
     "start_time": "2022-03-13T07:58:56.089Z"
    }
   },
   "outputs": [],
   "source": [
    "pick_up = list(df201807_pickup.columns)\n",
    "pick_up.remove('location_i')\n",
    "pick_up.remove('zone')\n",
    "pick_up.remove('borough')\n",
    "#pick_up.remove('lon')\n",
    "#pick_up.remove('lat')\n",
    "print(pick_up)"
   ]
  },
  {
   "cell_type": "code",
   "execution_count": null,
   "id": "d77d9fae",
   "metadata": {
    "ExecuteTime": {
     "start_time": "2022-03-13T07:58:56.090Z"
    }
   },
   "outputs": [],
   "source": [
    "df201807 = df201807_pickup[pick_up]"
   ]
  },
  {
   "cell_type": "code",
   "execution_count": null,
   "id": "24ff7cca",
   "metadata": {
    "ExecuteTime": {
     "start_time": "2022-03-13T07:58:56.093Z"
    }
   },
   "outputs": [],
   "source": [
    "df201807_dropoff = pd.merge(left=df201807,right=nyc_taxi_zones,how='inner',left_on='DOLocationID',right_on='location_i')\n",
    "#df201807_dropoff['dropoff_longitude'] = df201807_dropoff['lon']\n",
    "#df201807_dropoff['dropoff_latitude'] = df201807_dropoff['lat']\n",
    "df201807_dropoff['dropoff_zone'] = df201807_dropoff['zone']\n",
    "df201807_dropoff['dropoff_borough'] = df201807_dropoff['borough']\n",
    "df201807_dropoff.head()"
   ]
  },
  {
   "cell_type": "code",
   "execution_count": null,
   "id": "74a10160",
   "metadata": {
    "ExecuteTime": {
     "start_time": "2022-03-13T07:58:56.095Z"
    }
   },
   "outputs": [],
   "source": [
    "df201807 = df201807_dropoff[dropoff]\n",
    "df201807.head()"
   ]
  },
  {
   "cell_type": "code",
   "execution_count": null,
   "id": "672eff56",
   "metadata": {
    "ExecuteTime": {
     "start_time": "2022-03-13T07:58:56.097Z"
    }
   },
   "outputs": [],
   "source": [
    "df201807.to_csv('yellow_tripdata_2018-07_traite.csv')"
   ]
  },
  {
   "cell_type": "code",
   "execution_count": null,
   "id": "be3065e5",
   "metadata": {},
   "outputs": [],
   "source": []
  }
 ],
 "metadata": {
  "kernelspec": {
   "display_name": "Python 3",
   "language": "python",
   "name": "python3"
  },
  "language_info": {
   "codemirror_mode": {
    "name": "ipython",
    "version": 3
   },
   "file_extension": ".py",
   "mimetype": "text/x-python",
   "name": "python",
   "nbconvert_exporter": "python",
   "pygments_lexer": "ipython3",
   "version": "3.8.5"
  },
  "toc": {
   "base_numbering": 1,
   "nav_menu": {},
   "number_sections": true,
   "sideBar": true,
   "skip_h1_title": false,
   "title_cell": "Table of Contents",
   "title_sidebar": "Contents",
   "toc_cell": false,
   "toc_position": {},
   "toc_section_display": true,
   "toc_window_display": false
  }
 },
 "nbformat": 4,
 "nbformat_minor": 5
}

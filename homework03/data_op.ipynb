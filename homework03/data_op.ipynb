{
 "cells": [
  {
   "cell_type": "code",
   "execution_count": null,
   "id": "d2752833",
   "metadata": {
    "ExecuteTime": {
     "end_time": "2022-03-13T23:43:06.095312Z",
     "start_time": "2022-03-13T23:43:03.378713Z"
    }
   },
   "outputs": [],
   "source": [
    "import geopandas as gpd\n",
    "from shapely.geometry import Point\n",
    "\n",
    "nyc_taxi_zones = gpd.read_file(filename='taxi_zones/taxi_zones.shp')\n",
    "nyc_taxi_zones.to_crs(epsg=4326,inplace=True)\n",
    "nyc_taxi_zones['point'] = nyc_taxi_zones.representative_point()\n",
    "nyc_taxi_zones.head()"
   ]
  },
  {
   "cell_type": "code",
   "execution_count": null,
   "id": "efcac66a",
   "metadata": {
    "scrolled": true
   },
   "outputs": [],
   "source": [
    "import re\n",
    "\n",
    "def get_jwd(point):\n",
    "    fs = re.findall('\\((.*)\\)',str(point))\n",
    "    if fs:\n",
    "        lon,lat = fs[0].strip(' ').split(' ')\n",
    "        lon = float(lon)\n",
    "        lat = float(lat)\n",
    "        return [lon,lat]\n",
    "\n",
    "\n",
    "nyc_taxi_zones['lon'] = nyc_taxi_zones['point'].apply(lambda x:get_jwd(x)[0])\n",
    "nyc_taxi_zones['lat'] = nyc_taxi_zones['point'].apply(lambda x:get_jwd(x)[1])\n",
    "\n",
    "nyc_taxi_zones.head()"
   ]
  },
  {
   "cell_type": "code",
   "execution_count": null,
   "id": "8685fab1",
   "metadata": {},
   "outputs": [],
   "source": [
    "long_min = -74.10\n",
    "long_max = -73.70\n",
    "lat_min = 40.58\n",
    "lat_max = 40.90\n",
    "\n",
    "global mark\n",
    "\n",
    "mark = 0\n",
    "\n",
    "\n",
    "def get_locationId(longitude,latitude):\n",
    "    global mark\n",
    "    mark += 1\n",
    "    if mark % 10000 == 0:\n",
    "        print(mark/100000)\n",
    "    if longitude >= long_min and longitude <= long_max and latitude >= lat_min and latitude <= lat_max:\n",
    "        pnts = Point(longitude,latitude)\n",
    "        for i,j in zip(nyc_taxi_zones['LocationID'].values,nyc_taxi_zones['geometry'].values):\n",
    "            if pnts.within(j):\n",
    "                return i\n",
    "    return -1"
   ]
  },
  {
   "cell_type": "code",
   "execution_count": null,
   "id": "25acc4e6",
   "metadata": {},
   "outputs": [],
   "source": [
    "import pandas as pd\n",
    "\n",
    "\n",
    "df201507 = pd.read_csv('yellow_tripdata_2015-07.csv')\n",
    "df201507.head()"
   ]
  },
  {
   "cell_type": "code",
   "execution_count": null,
   "id": "9bf949c7",
   "metadata": {},
   "outputs": [],
   "source": [
    "import time\n",
    "t1 = time.time()\n",
    "df201507['PULocationID'] = df201507[['pickup_longitude','pickup_latitude']].apply(lambda row: get_locationId(row['pickup_longitude'], row['pickup_latitude']), axis=1)\n",
    "df201507['DOLocationID'] = df201507[['dropoff_longitude','dropoff_latitude']].apply(lambda row: get_locationId(row['dropoff_longitude'], row['dropoff_latitude']), axis=1)\n",
    "t2 = time.time()\n",
    "print(str(int(t2-t1)) + 'sec')\n",
    "df201507.head()\n",
    "df201507.to_csv('yellow_tripdata_2015-07_add.csv')"
   ]
  },
  {
   "cell_type": "code",
   "execution_count": null,
   "id": "19441935",
   "metadata": {},
   "outputs": [],
   "source": [
    "nyc_taxi_zones = nyc_taxi_zones[['LocationID','zone','borough','lon','lat']]"
   ]
  },
  {
   "cell_type": "code",
   "execution_count": null,
   "id": "0e6ade52",
   "metadata": {},
   "outputs": [],
   "source": [
    "df201507_pickup = pd.merge(left=df201507,right=nyc_taxi_zones,how='inner',left_on='PULocationID',right_on='LocationID')\n",
    "df201507_pickup['pickup_longitude'] = df201507_pickup['lon']\n",
    "df201507_pickup['pickup_latitude'] = df201507_pickup['lat']\n",
    "df201507_pickup['pickup_zone'] = df201507_pickup['zone']\n",
    "df201507_pickup['pickup_borough'] = df201507_pickup['borough']\n",
    "df201507_pickup.head()"
   ]
  },
  {
   "cell_type": "code",
   "execution_count": null,
   "id": "5cea26d3",
   "metadata": {},
   "outputs": [],
   "source": [
    "pick_up = list(df201507_pickup.columns)\n",
    "pick_up.remove('LocationID')\n",
    "pick_up.remove('zone')\n",
    "pick_up.remove('borough')\n",
    "pick_up.remove('lon')\n",
    "pick_up.remove('lat')\n",
    "print(pick_up)"
   ]
  },
  {
   "cell_type": "code",
   "execution_count": null,
   "id": "bac5341b",
   "metadata": {},
   "outputs": [],
   "source": [
    "df201507 = df201507_pickup[pick_up]"
   ]
  },
  {
   "cell_type": "code",
   "execution_count": null,
   "id": "ee639d7b",
   "metadata": {},
   "outputs": [],
   "source": [
    "df201507_dropoff = pd.merge(left=df201507,right=nyc_taxi_zones,how='inner',left_on='DOLocationID',right_on='LocationID')\n",
    "df201507_dropoff['dropoff_longitude'] = df201507_dropoff['lon']\n",
    "df201507_dropoff['dropoff_latitude'] = df201507_dropoff['lat']\n",
    "df201507_dropoff['dropoff_zone'] = df201507_dropoff['zone']\n",
    "df201507_dropoff['dropoff_borough'] = df201507_dropoff['borough']\n",
    "df201507_dropoff.head()"
   ]
  },
  {
   "cell_type": "code",
   "execution_count": null,
   "id": "230a6860",
   "metadata": {},
   "outputs": [],
   "source": [
    "dropoff = list(df201507_dropoff.columns)\n",
    "dropoff.remove('LocationID')\n",
    "dropoff.remove('zone')\n",
    "dropoff.remove('borough')\n",
    "dropoff.remove('lon')\n",
    "dropoff.remove('lat')\n",
    "print(dropoff)"
   ]
  },
  {
   "cell_type": "code",
   "execution_count": null,
   "id": "268b4a47",
   "metadata": {},
   "outputs": [],
   "source": [
    "df201507 = df201507_dropoff[dropoff]\n",
    "df201507.to_csv('yellow_tripdata_2015-07_clean.csv')"
   ]
  },
  {
   "cell_type": "code",
   "execution_count": null,
   "id": "b497c83b",
   "metadata": {},
   "outputs": [],
   "source": [
    "df201807 = pd.read_csv('yellow_tripdata_2018-07.csv')\n",
    "df201807.head()"
   ]
  },
  {
   "cell_type": "code",
   "execution_count": null,
   "id": "02a37797",
   "metadata": {},
   "outputs": [],
   "source": [
    "df201807_pickup = pd.merge(left=df201807,right=nyc_taxi_zones,how='inner',left_on='PULocationID',right_on='LocationID')\n",
    "df201807_pickup['pickup_longitude'] = df201807_pickup['lon']\n",
    "df201807_pickup['pickup_latitude'] = df201807_pickup['lat']\n",
    "df201807_pickup['pickup_zone'] = df201807_pickup['zone']\n",
    "df201807_pickup['pickup_borough'] = df201807_pickup['borough']\n",
    "df201807_pickup.head()"
   ]
  },
  {
   "cell_type": "code",
   "execution_count": null,
   "id": "386b8b4b",
   "metadata": {},
   "outputs": [],
   "source": [
    "pick_up = list(df201807_pickup.columns)\n",
    "pick_up.remove('LocationID')\n",
    "pick_up.remove('zone')\n",
    "pick_up.remove('borough')\n",
    "pick_up.remove('lon')\n",
    "pick_up.remove('lat')\n",
    "print(pick_up)"
   ]
  },
  {
   "cell_type": "code",
   "execution_count": null,
   "id": "d77d9fae",
   "metadata": {},
   "outputs": [],
   "source": [
    "df201807 = df201807_pickup[pick_up]"
   ]
  },
  {
   "cell_type": "code",
   "execution_count": null,
   "id": "24ff7cca",
   "metadata": {},
   "outputs": [],
   "source": [
    "df201807_dropoff = pd.merge(left=df201807,right=nyc_taxi_zones,how='inner',left_on='DOLocationID',right_on='LocationID')\n",
    "df201807_dropoff['dropoff_longitude'] = df201807_dropoff['lon']\n",
    "df201807_dropoff['dropoff_latitude'] = df201807_dropoff['lat']\n",
    "df201807_dropoff['dropoff_zone'] = df201807_dropoff['zone']\n",
    "df201807_dropoff['dropoff_borough'] = df201807_dropoff['borough']\n",
    "df201807_dropoff.head()"
   ]
  },
  {
   "cell_type": "code",
   "execution_count": null,
   "id": "74a10160",
   "metadata": {},
   "outputs": [],
   "source": [
    "df201807 = df201807_dropoff[dropoff]\n",
    "df201807.head()"
   ]
  },
  {
   "cell_type": "code",
   "execution_count": null,
   "id": "672eff56",
   "metadata": {},
   "outputs": [],
   "source": [
    "df201807.to_csv('yellow_tripdata_2018-07_clean.csv')"
   ]
  },
  {
   "cell_type": "code",
   "execution_count": null,
   "id": "be3065e5",
   "metadata": {},
   "outputs": [],
   "source": []
  }
 ],
 "metadata": {
  "kernelspec": {
   "display_name": "Python 3",
   "language": "python",
   "name": "python3"
  },
  "language_info": {
   "codemirror_mode": {
    "name": "ipython",
    "version": 3
   },
   "file_extension": ".py",
   "mimetype": "text/x-python",
   "name": "python",
   "nbconvert_exporter": "python",
   "pygments_lexer": "ipython3",
   "version": "3.8.5"
  },
  "toc": {
   "base_numbering": 1,
   "nav_menu": {},
   "number_sections": true,
   "sideBar": true,
   "skip_h1_title": false,
   "title_cell": "Table of Contents",
   "title_sidebar": "Contents",
   "toc_cell": false,
   "toc_position": {},
   "toc_section_display": true,
   "toc_window_display": false
  }
 },
 "nbformat": 4,
 "nbformat_minor": 5
}

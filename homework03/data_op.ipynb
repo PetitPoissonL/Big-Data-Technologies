{
 "cells": [
  {
   "cell_type": "code",
   "execution_count": 1,
   "id": "arbitrary-facility",
   "metadata": {
    "ExecuteTime": {
     "end_time": "2022-03-13T13:00:13.736425Z",
     "start_time": "2022-03-13T13:00:09.327832Z"
    }
   },
   "outputs": [],
   "source": [
    "import os\n",
    "\n",
    "pyspark_submit_args= ' --master local[3] pyspark-shell'\n",
    "os.environ[\"PYSPARK_SUBMIT_ARGS\"]=pyspark_submit_args\n",
    "\n",
    "# spark\n",
    "from pyspark import SparkConf, SparkContext\n",
    "from pyspark.sql import SparkSession\n",
    "from pyspark.sql import Window\n",
    "from pyspark.sql.functions import col\n",
    "import pyspark.sql.functions as fn\n",
    "from pyspark.sql.catalog import Catalog\n",
    "from pyspark.sql.types import StructType, StructField\n",
    "from pyspark.sql.types import IntegerType, StringType, FloatType"
   ]
  },
  {
   "cell_type": "code",
   "execution_count": 2,
   "id": "cutting-inquiry",
   "metadata": {
    "ExecuteTime": {
     "end_time": "2022-03-13T13:01:11.604422Z",
     "start_time": "2022-03-13T13:00:15.438978Z"
    }
   },
   "outputs": [],
   "source": [
    "# Start the SparkSession\n",
    "conf = SparkConf()\n",
    "conf.set('spark.executor.memory','16g')\n",
    "conf.set('spark.driver.memory','8g')\n",
    "conf.set('spark.driver.cores','4')\n",
    "conf.set('spark.num.executors','10')\n",
    "conf.set('spark.executor.cores','4')\n",
    "\n",
    "spark = (SparkSession\n",
    "    .builder\n",
    "    .config(conf=conf)\n",
    "    .appName(\"taxis trips data\")\n",
    "    .getOrCreate()\n",
    ")"
   ]
  },
  {
   "cell_type": "code",
   "execution_count": 3,
   "id": "d2752833",
   "metadata": {
    "ExecuteTime": {
     "end_time": "2022-03-13T13:01:17.661529Z",
     "start_time": "2022-03-13T13:01:11.607751Z"
    }
   },
   "outputs": [
    {
     "data": {
      "text/html": [
       "<div>\n",
       "<style scoped>\n",
       "    .dataframe tbody tr th:only-of-type {\n",
       "        vertical-align: middle;\n",
       "    }\n",
       "\n",
       "    .dataframe tbody tr th {\n",
       "        vertical-align: top;\n",
       "    }\n",
       "\n",
       "    .dataframe thead th {\n",
       "        text-align: right;\n",
       "    }\n",
       "</style>\n",
       "<table border=\"1\" class=\"dataframe\">\n",
       "  <thead>\n",
       "    <tr style=\"text-align: right;\">\n",
       "      <th></th>\n",
       "      <th>borough</th>\n",
       "      <th>location_i</th>\n",
       "      <th>objectid</th>\n",
       "      <th>shape_area</th>\n",
       "      <th>shape_leng</th>\n",
       "      <th>zone</th>\n",
       "      <th>geometry</th>\n",
       "      <th>point</th>\n",
       "    </tr>\n",
       "  </thead>\n",
       "  <tbody>\n",
       "    <tr>\n",
       "      <th>0</th>\n",
       "      <td>EWR</td>\n",
       "      <td>1.0</td>\n",
       "      <td>1.0</td>\n",
       "      <td>0.000782</td>\n",
       "      <td>0.116357</td>\n",
       "      <td>Newark Airport</td>\n",
       "      <td>POLYGON ((-74.18445 40.69500, -74.18449 40.695...</td>\n",
       "      <td>POINT (-74.17678 40.68951)</td>\n",
       "    </tr>\n",
       "    <tr>\n",
       "      <th>1</th>\n",
       "      <td>Queens</td>\n",
       "      <td>2.0</td>\n",
       "      <td>2.0</td>\n",
       "      <td>0.004866</td>\n",
       "      <td>0.433470</td>\n",
       "      <td>Jamaica Bay</td>\n",
       "      <td>MULTIPOLYGON (((-73.82338 40.63899, -73.82277 ...</td>\n",
       "      <td>POINT (-73.82614 40.62572)</td>\n",
       "    </tr>\n",
       "    <tr>\n",
       "      <th>2</th>\n",
       "      <td>Bronx</td>\n",
       "      <td>3.0</td>\n",
       "      <td>3.0</td>\n",
       "      <td>0.000314</td>\n",
       "      <td>0.084341</td>\n",
       "      <td>Allerton/Pelham Gardens</td>\n",
       "      <td>POLYGON ((-73.84793 40.87134, -73.84725 40.870...</td>\n",
       "      <td>POINT (-73.84948 40.86587)</td>\n",
       "    </tr>\n",
       "    <tr>\n",
       "      <th>3</th>\n",
       "      <td>Manhattan</td>\n",
       "      <td>4.0</td>\n",
       "      <td>4.0</td>\n",
       "      <td>0.000112</td>\n",
       "      <td>0.043567</td>\n",
       "      <td>Alphabet City</td>\n",
       "      <td>POLYGON ((-73.97177 40.72582, -73.97179 40.725...</td>\n",
       "      <td>POINT (-73.97702 40.72415)</td>\n",
       "    </tr>\n",
       "    <tr>\n",
       "      <th>4</th>\n",
       "      <td>Staten Island</td>\n",
       "      <td>5.0</td>\n",
       "      <td>5.0</td>\n",
       "      <td>0.000498</td>\n",
       "      <td>0.092146</td>\n",
       "      <td>Arden Heights</td>\n",
       "      <td>POLYGON ((-74.17422 40.56257, -74.17349 40.562...</td>\n",
       "      <td>POINT (-74.18994 40.55034)</td>\n",
       "    </tr>\n",
       "  </tbody>\n",
       "</table>\n",
       "</div>"
      ],
      "text/plain": [
       "         borough  location_i  objectid  shape_area  shape_leng  \\\n",
       "0            EWR         1.0       1.0    0.000782    0.116357   \n",
       "1         Queens         2.0       2.0    0.004866    0.433470   \n",
       "2          Bronx         3.0       3.0    0.000314    0.084341   \n",
       "3      Manhattan         4.0       4.0    0.000112    0.043567   \n",
       "4  Staten Island         5.0       5.0    0.000498    0.092146   \n",
       "\n",
       "                      zone                                           geometry  \\\n",
       "0           Newark Airport  POLYGON ((-74.18445 40.69500, -74.18449 40.695...   \n",
       "1              Jamaica Bay  MULTIPOLYGON (((-73.82338 40.63899, -73.82277 ...   \n",
       "2  Allerton/Pelham Gardens  POLYGON ((-73.84793 40.87134, -73.84725 40.870...   \n",
       "3            Alphabet City  POLYGON ((-73.97177 40.72582, -73.97179 40.725...   \n",
       "4            Arden Heights  POLYGON ((-74.17422 40.56257, -74.17349 40.562...   \n",
       "\n",
       "                        point  \n",
       "0  POINT (-74.17678 40.68951)  \n",
       "1  POINT (-73.82614 40.62572)  \n",
       "2  POINT (-73.84948 40.86587)  \n",
       "3  POINT (-73.97702 40.72415)  \n",
       "4  POINT (-74.18994 40.55034)  "
      ]
     },
     "execution_count": 3,
     "metadata": {},
     "output_type": "execute_result"
    }
   ],
   "source": [
    "import geopandas as gpd\n",
    "from shapely.geometry import Point\n",
    "\n",
    "\n",
    "\n",
    "shp_path = os.path.join('./', 'nyc-taxi-zone.shp')\n",
    "nyc_taxi_zones = gpd.GeoDataFrame.from_file(shp_path)\n",
    "nyc_taxi_zones.to_crs(epsg=4326,inplace=True)\n",
    "nyc_taxi_zones['point'] = nyc_taxi_zones.representative_point()\n",
    "\n",
    "\n",
    "\n",
    "nyc_taxi_zones.head()"
   ]
  },
  {
   "cell_type": "code",
   "execution_count": 4,
   "id": "efcac66a",
   "metadata": {
    "ExecuteTime": {
     "end_time": "2022-03-13T13:01:17.668476Z",
     "start_time": "2022-03-13T13:01:17.664870Z"
    },
    "scrolled": true
   },
   "outputs": [],
   "source": [
    "#import re\n",
    "\n",
    "#def get_jwd(point):\n",
    "#    fs = re.findall('\\((.*)\\)',str(point))\n",
    "#    if fs:\n",
    "#        lon,lat = fs[0].strip(' ').split(' ')\n",
    "#        lon = float(lon)\n",
    "#        lat = float(lat)\n",
    "#        return [lon,lat]\n",
    "\n",
    "\n",
    "#nyc_taxi_zones['lon'] = nyc_taxi_zones['point'].apply(lambda x:get_jwd(x)[0])\n",
    "#nyc_taxi_zones['lat'] = nyc_taxi_zones['point'].apply(lambda x:get_jwd(x)[1])\n",
    "\n",
    "#nyc_taxi_zones.head()"
   ]
  },
  {
   "cell_type": "code",
   "execution_count": 5,
   "id": "8685fab1",
   "metadata": {
    "ExecuteTime": {
     "end_time": "2022-03-13T13:01:17.681300Z",
     "start_time": "2022-03-13T13:01:17.671848Z"
    }
   },
   "outputs": [],
   "source": [
    "long_min = -74.10\n",
    "long_max = -73.70\n",
    "lat_min = 40.58\n",
    "lat_max = 40.90\n",
    "\n",
    "\n",
    "global mark\n",
    "\n",
    "mark = 0\n",
    "\n",
    "\n",
    "#def get_locationId(longitude,latitude):\n",
    "#    global mark\n",
    "#    mark += 1\n",
    "#    if mark % 10000 == 0:\n",
    "#        print(mark/100000)\n",
    "#    if longitude >= long_min and longitude <= long_max and latitude >= lat_min and latitude <= lat_max:\n",
    "#        pnts = Point(longitude,latitude)\n",
    "#        for i,j in zip(nyc_taxi_zones['location_i'].values,nyc_taxi_zones['geometry'].values):\n",
    "#            if pnts.within(j):\n",
    "#                return i\n",
    "#    return -1\n",
    "\n",
    "def get_locationId(longitude,latitude):\n",
    "    global mark\n",
    "    mark += 1\n",
    "    if mark % 10000 == 0:\n",
    "        print(mark/100000)\n",
    "    pnts = Point(longitude,latitude)\n",
    "    for i,j in zip(nyc_taxi_zones['location_i'].values,nyc_taxi_zones['geometry'].values):\n",
    "        if pnts.within(j):\n",
    "            return int(i)\n",
    "    return -1\n",
    "\n",
    "udf_get_locationId = fn.udf(lambda x,y : get_locationId(x,y), IntegerType())"
   ]
  },
  {
   "cell_type": "code",
   "execution_count": 6,
   "id": "25acc4e6",
   "metadata": {
    "ExecuteTime": {
     "end_time": "2022-03-13T13:07:13.367687Z",
     "start_time": "2022-03-13T13:01:17.684247Z"
    }
   },
   "outputs": [
    {
     "name": "stdout",
     "output_type": "stream",
     "text": [
      "+--------+--------------------+---------------------+---------------+-------------+------------------+------------------+----------+------------------+------------------+------------------+------------+-----------+-----+-------+----------+------------+---------------------+------------+\n",
      "|VendorID|tpep_pickup_datetime|tpep_dropoff_datetime|passenger_count|trip_distance|  pickup_longitude|   pickup_latitude|RatecodeID|store_and_fwd_flag| dropoff_longitude|  dropoff_latitude|payment_type|fare_amount|extra|mta_tax|tip_amount|tolls_amount|improvement_surcharge|total_amount|\n",
      "+--------+--------------------+---------------------+---------------+-------------+------------------+------------------+----------+------------------+------------------+------------------+------------+-----------+-----+-------+----------+------------+---------------------+------------+\n",
      "|       1| 2015-07-01 00:00:00|  2015-07-01 00:15:26|              1|          3.5|-73.99415588378906| 40.75112533569336|         1|                 N|-73.97682189941406| 40.78856658935547|           2|       14.0|  0.5|    0.5|       0.0|         0.0|                  0.3|        15.3|\n",
      "|       1| 2015-07-01 00:00:00|  2015-07-01 00:22:22|              1|          3.9|-73.98465728759766| 40.76848602294922|         1|                 N|-74.00012969970703| 40.73489761352539|           2|       17.0|  0.5|    0.5|       0.0|         0.0|                  0.3|        18.3|\n",
      "|       1| 2015-07-01 00:00:00|  2015-07-01 00:07:42|              1|          2.3|-73.97888946533203| 40.76228713989258|         1|                 N|-74.00421905517578|40.752532958984375|           2|        9.0|  0.5|    0.5|       0.0|         0.0|                  0.3|        10.3|\n",
      "|       1| 2015-07-01 00:00:00|  2015-07-01 00:39:37|              1|          9.2|-73.99279022216797|40.742759704589844|         1|                 N|-73.97151184082031| 40.63715362548828|           1|       33.0|  0.5|    0.5|      8.55|         0.0|                  0.3|       42.85|\n",
      "|       1| 2015-07-01 00:00:00|  2015-07-01 00:05:34|              1|          1.1|-73.91242980957031| 40.76980972290039|         1|                 N|-73.92033386230469|40.757442474365234|           1|        6.0|  0.5|    0.5|       2.0|         0.0|                  0.3|         9.3|\n",
      "|       1| 2015-07-01 00:00:00|  2015-07-01 00:06:46|              2|          1.0|-73.95915985107422| 40.77342987060547|         1|                 N|-73.96935272216797| 40.76924514770508|           2|        6.5|  0.5|    0.5|       0.0|         0.0|                  0.3|         7.8|\n",
      "|       2| 2015-07-01 00:00:00|  2015-07-01 00:36:57|              2|        19.12|-73.78945922851562| 40.64725875854492|         1|                 N|-73.97493743896484| 40.64942932128906|           1|       54.5|  0.5|    0.5|     13.95|         0.0|                  0.3|       69.75|\n",
      "|       2| 2015-07-01 00:00:00|  2015-07-01 06:30:15|              1|          0.0|               0.0|               0.0|         1|                 N| -73.9859619140625| 40.76639938354492|           2|        2.5|  0.0|    0.5|       0.0|         0.0|                  0.0|         3.0|\n",
      "|       2| 2015-07-01 00:00:00|  2015-07-01 11:27:07|              1|         2.58|-73.99893188476562| 40.74467849731445|         1|                 N|-73.98221588134766|40.776885986328125|           1|       15.0|  0.3|    0.5|       1.0|         0.0|                  0.3|        17.1|\n",
      "|       2| 2015-07-01 00:00:00|  2015-07-01 00:00:00|              1|         1.07|-73.99383544921875| 40.73543167114258|         1|                 N|       -74.0078125| 40.73183059692383|           1|        7.5|  0.0|    0.5|      1.66|         0.0|                  0.3|        9.96|\n",
      "|       2| 2015-07-01 00:00:00|  2015-07-01 18:37:13|              1|         3.55|-73.96221923828125|40.773338317871094|         1|                 N|-73.99272918701172|40.731571197509766|           1|       16.0|  1.3|    0.5|      3.62|         0.0|                  0.3|       21.72|\n",
      "|       1| 2015-07-01 00:00:02|  2015-07-01 00:06:59|              1|          1.8| -73.9942855834961|40.690399169921875|         1|                 N|-73.96575164794922| 40.69565963745117|           1|        8.0|  0.5|    0.5|       2.3|         0.0|                  0.3|        11.6|\n",
      "|       1| 2015-07-01 00:00:02|  2015-07-01 00:19:19|              1|         11.4|-73.86276245117188| 40.76903533935547|         1|                 N|-73.97592163085938|  40.7577018737793|           1|       32.0|  0.5|    0.5|      7.75|        5.54|                  0.3|       46.59|\n",
      "|       1| 2015-07-01 00:00:02|  2015-07-01 00:19:33|              1|          4.3|-74.00784301757812|40.705379486083984|         1|                 N|-73.99040985107422|40.756771087646484|           1|       17.0|  0.5|    0.5|      3.65|         0.0|                  0.3|       21.95|\n",
      "|       2| 2015-07-01 00:00:02|  2015-07-01 00:39:16|              6|         8.85|-73.99365997314453| 40.75198745727539|         1|                 N|-73.93412017822266| 40.68288040161133|           1|       32.5|  0.5|    0.5|       0.0|         0.0|                  0.3|        33.8|\n",
      "|       2| 2015-07-01 00:00:02|  2015-07-01 00:05:04|              1|         0.85| -73.9831771850586| 40.74445343017578|         1|                 N|-73.99172973632812|  40.7443962097168|           2|        5.5|  0.5|    0.5|       0.0|         0.0|                  0.3|         6.8|\n",
      "|       2| 2015-07-01 00:00:02|  2015-07-01 00:30:11|              1|        13.04|-73.87100219726562| 40.77375030517578|         1|                 N|-73.98873901367188|40.756858825683594|           1|       39.0|  0.5|    0.5|      8.06|         0.0|                  0.3|       48.36|\n",
      "|       1| 2015-07-01 00:00:03|  2015-07-01 00:07:23|              1|          1.5|-74.00322723388672|40.727088928222656|         1|                 N| -74.0037841796875|40.741905212402344|           2|        7.0|  0.5|    0.5|       0.0|         0.0|                  0.3|         8.3|\n",
      "|       1| 2015-07-01 00:00:03|  2015-07-01 00:14:37|              1|          3.3|               0.0|               0.0|         1|                 N|               0.0|               0.0|           1|       13.5|  0.5|    0.5|       1.0|         0.0|                  0.3|        15.8|\n",
      "|       2| 2015-07-01 00:00:03|  2015-07-01 00:20:35|              6|          5.2| -73.9861831665039| 40.75669860839844|         1|                 N|-73.94397735595703| 40.82205581665039|           2|       19.5|  0.5|    0.5|       0.0|         0.0|                  0.3|        20.8|\n",
      "+--------+--------------------+---------------------+---------------+-------------+------------------+------------------+----------+------------------+------------------+------------------+------------+-----------+-----+-------+----------+------------+---------------------+------------+\n",
      "only showing top 20 rows\n",
      "\n"
     ]
    }
   ],
   "source": [
    "import pandas as pd\n",
    "#加工15年数据\n",
    "\n",
    "\n",
    "#df201507 = pd.read_csv('yellow_tripdata_2015-07.csv')\n",
    "\n",
    "df201507 = spark.read\\\n",
    "                .format('csv')\\\n",
    "                .option(\"header\",\"true\")\\\n",
    "                .option(\"mode\",\"FAILFAST\")\\\n",
    "                .option(\"inferSchema\", \"true\")\\\n",
    "                .option(\"sep\",\",\")\\\n",
    "                .load('yellow_tripdata_2015-07.csv')\n",
    "\n",
    "df201507.show()"
   ]
  },
  {
   "cell_type": "code",
   "execution_count": 7,
   "id": "9bf949c7",
   "metadata": {
    "ExecuteTime": {
     "end_time": "2022-03-13T13:07:40.717975Z",
     "start_time": "2022-03-13T13:07:13.372324Z"
    }
   },
   "outputs": [
    {
     "name": "stdout",
     "output_type": "stream",
     "text": [
      "0sec\n",
      "+--------+--------------------+---------------------+---------------+-------------+------------------+------------------+----------+------------------+------------------+------------------+------------+-----------+-----+-------+----------+------------+---------------------+------------+------------+------------+\n",
      "|VendorID|tpep_pickup_datetime|tpep_dropoff_datetime|passenger_count|trip_distance|  pickup_longitude|   pickup_latitude|RatecodeID|store_and_fwd_flag| dropoff_longitude|  dropoff_latitude|payment_type|fare_amount|extra|mta_tax|tip_amount|tolls_amount|improvement_surcharge|total_amount|PULocationID|DOLocationID|\n",
      "+--------+--------------------+---------------------+---------------+-------------+------------------+------------------+----------+------------------+------------------+------------------+------------+-----------+-----+-------+----------+------------+---------------------+------------+------------+------------+\n",
      "|       1| 2015-07-01 00:00:00|  2015-07-01 00:15:26|              1|          3.5|-73.99415588378906| 40.75112533569336|         1|                 N|-73.97682189941406| 40.78856658935547|           2|       14.0|  0.5|    0.5|       0.0|         0.0|                  0.3|        15.3|         186|         238|\n",
      "|       1| 2015-07-01 00:00:00|  2015-07-01 00:22:22|              1|          3.9|-73.98465728759766| 40.76848602294922|         1|                 N|-74.00012969970703| 40.73489761352539|           2|       17.0|  0.5|    0.5|       0.0|         0.0|                  0.3|        18.3|         142|         249|\n",
      "|       1| 2015-07-01 00:00:00|  2015-07-01 00:07:42|              1|          2.3|-73.97888946533203| 40.76228713989258|         1|                 N|-74.00421905517578|40.752532958984375|           2|        9.0|  0.5|    0.5|       0.0|         0.0|                  0.3|        10.3|         230|         246|\n",
      "|       1| 2015-07-01 00:00:00|  2015-07-01 00:39:37|              1|          9.2|-73.99279022216797|40.742759704589844|         1|                 N|-73.97151184082031| 40.63715362548828|           1|       33.0|  0.5|    0.5|      8.55|         0.0|                  0.3|       42.85|         234|         133|\n",
      "|       1| 2015-07-01 00:00:00|  2015-07-01 00:05:34|              1|          1.1|-73.91242980957031| 40.76980972290039|         1|                 N|-73.92033386230469|40.757442474365234|           1|        6.0|  0.5|    0.5|       2.0|         0.0|                  0.3|         9.3|         223|           7|\n",
      "|       1| 2015-07-01 00:00:00|  2015-07-01 00:06:46|              2|          1.0|-73.95915985107422| 40.77342987060547|         1|                 N|-73.96935272216797| 40.76924514770508|           2|        6.5|  0.5|    0.5|       0.0|         0.0|                  0.3|         7.8|         236|         237|\n",
      "|       2| 2015-07-01 00:00:00|  2015-07-01 00:36:57|              2|        19.12|-73.78945922851562| 40.64725875854492|         1|                 N|-73.97493743896484| 40.64942932128906|           1|       54.5|  0.5|    0.5|     13.95|         0.0|                  0.3|       69.75|         132|         257|\n",
      "|       2| 2015-07-01 00:00:00|  2015-07-01 06:30:15|              1|          0.0|               0.0|               0.0|         1|                 N| -73.9859619140625| 40.76639938354492|           2|        2.5|  0.0|    0.5|       0.0|         0.0|                  0.0|         3.0|          -1|          48|\n",
      "|       2| 2015-07-01 00:00:00|  2015-07-01 11:27:07|              1|         2.58|-73.99893188476562| 40.74467849731445|         1|                 N|-73.98221588134766|40.776885986328125|           1|       15.0|  0.3|    0.5|       1.0|         0.0|                  0.3|        17.1|          90|         142|\n",
      "|       2| 2015-07-01 00:00:00|  2015-07-01 00:00:00|              1|         1.07|-73.99383544921875| 40.73543167114258|         1|                 N|       -74.0078125| 40.73183059692383|           1|        7.5|  0.0|    0.5|      1.66|         0.0|                  0.3|        9.96|         113|         158|\n",
      "|       2| 2015-07-01 00:00:00|  2015-07-01 18:37:13|              1|         3.55|-73.96221923828125|40.773338317871094|         1|                 N|-73.99272918701172|40.731571197509766|           1|       16.0|  1.3|    0.5|      3.62|         0.0|                  0.3|       21.72|         237|         113|\n",
      "|       1| 2015-07-01 00:00:02|  2015-07-01 00:06:59|              1|          1.8| -73.9942855834961|40.690399169921875|         1|                 N|-73.96575164794922| 40.69565963745117|           1|        8.0|  0.5|    0.5|       2.3|         0.0|                  0.3|        11.6|          33|          49|\n",
      "|       1| 2015-07-01 00:00:02|  2015-07-01 00:19:19|              1|         11.4|-73.86276245117188| 40.76903533935547|         1|                 N|-73.97592163085938|  40.7577018737793|           1|       32.0|  0.5|    0.5|      7.75|        5.54|                  0.3|       46.59|         138|         161|\n",
      "|       1| 2015-07-01 00:00:02|  2015-07-01 00:19:33|              1|          4.3|-74.00784301757812|40.705379486083984|         1|                 N|-73.99040985107422|40.756771087646484|           1|       17.0|  0.5|    0.5|      3.65|         0.0|                  0.3|       21.95|          87|          48|\n",
      "|       2| 2015-07-01 00:00:02|  2015-07-01 00:39:16|              6|         8.85|-73.99365997314453| 40.75198745727539|         1|                 N|-73.93412017822266| 40.68288040161133|           1|       32.5|  0.5|    0.5|       0.0|         0.0|                  0.3|        33.8|          68|         225|\n",
      "|       2| 2015-07-01 00:00:02|  2015-07-01 00:05:04|              1|         0.85| -73.9831771850586| 40.74445343017578|         1|                 N|-73.99172973632812|  40.7443962097168|           2|        5.5|  0.5|    0.5|       0.0|         0.0|                  0.3|         6.8|         170|          90|\n",
      "|       2| 2015-07-01 00:00:02|  2015-07-01 00:30:11|              1|        13.04|-73.87100219726562| 40.77375030517578|         1|                 N|-73.98873901367188|40.756858825683594|           1|       39.0|  0.5|    0.5|      8.06|         0.0|                  0.3|       48.36|         138|         230|\n",
      "|       1| 2015-07-01 00:00:03|  2015-07-01 00:07:23|              1|          1.5|-74.00322723388672|40.727088928222656|         1|                 N| -74.0037841796875|40.741905212402344|           2|        7.0|  0.5|    0.5|       0.0|         0.0|                  0.3|         8.3|         125|          68|\n",
      "|       1| 2015-07-01 00:00:03|  2015-07-01 00:14:37|              1|          3.3|               0.0|               0.0|         1|                 N|               0.0|               0.0|           1|       13.5|  0.5|    0.5|       1.0|         0.0|                  0.3|        15.8|          -1|          -1|\n",
      "|       2| 2015-07-01 00:00:03|  2015-07-01 00:20:35|              6|          5.2| -73.9861831665039| 40.75669860839844|         1|                 N|-73.94397735595703| 40.82205581665039|           2|       19.5|  0.5|    0.5|       0.0|         0.0|                  0.3|        20.8|         230|          42|\n",
      "+--------+--------------------+---------------------+---------------+-------------+------------------+------------------+----------+------------------+------------------+------------------+------------+-----------+-----+-------+----------+------------+---------------------+------------+------------+------------+\n",
      "only showing top 20 rows\n",
      "\n"
     ]
    }
   ],
   "source": [
    "import time\n",
    "t1 = time.time()\n",
    "#df201507 = df201507.withColumn('PULocationID', udf_get_locationId(col('pickup_longitude'), col('pickup_latitude')))\n",
    "#df201507 = df201507.withColumn('DOLocationID', udf_get_locationId(col('dropoff_longitude'), col('dropoff_latitude')))\n",
    "\n",
    "df201507 = df201507.withColumn('PULocationID', udf_get_locationId(df201507['pickup_longitude'], df201507['pickup_latitude']))\n",
    "df201507 = df201507.withColumn('DOLocationID', udf_get_locationId(df201507['dropoff_longitude'], df201507['dropoff_latitude']))\n",
    "\n",
    "\n",
    "t2 = time.time()\n",
    "print(str(int(t2-t1)) + 'sec')\n",
    "#df201507.head()\n",
    "df201507.show()\n",
    "#df201507.to_csv('yellow_tripdata_2015-07_add.csv')"
   ]
  },
  {
   "cell_type": "code",
   "execution_count": 8,
   "id": "19441935",
   "metadata": {
    "ExecuteTime": {
     "end_time": "2022-03-13T13:07:42.902746Z",
     "start_time": "2022-03-13T13:07:40.721504Z"
    }
   },
   "outputs": [],
   "source": [
    "#nyc_taxi_zones = nyc_taxi_zones[['LocationID','zone','borough','lon','lat']]\n",
    "nyc_taxi_zones = nyc_taxi_zones[['location_i','zone','borough']]\n",
    "schema = StructType([\n",
    "StructField(\"location_i\", FloatType(), True),\n",
    "StructField(\"zone\", StringType(), True),\n",
    "StructField(\"borough\", StringType(), True)])\n",
    "nyc_taxi_zones = spark.createDataFrame(nyc_taxi_zones, schema)"
   ]
  },
  {
   "cell_type": "code",
   "execution_count": 9,
   "id": "essential-dividend",
   "metadata": {
    "ExecuteTime": {
     "end_time": "2022-03-13T13:07:43.133786Z",
     "start_time": "2022-03-13T13:07:42.906829Z"
    }
   },
   "outputs": [
    {
     "name": "stdout",
     "output_type": "stream",
     "text": [
      "+----------+--------------------+-------------+\n",
      "|location_i|                zone|      borough|\n",
      "+----------+--------------------+-------------+\n",
      "|       1.0|      Newark Airport|          EWR|\n",
      "|       2.0|         Jamaica Bay|       Queens|\n",
      "|       3.0|Allerton/Pelham G...|        Bronx|\n",
      "|       4.0|       Alphabet City|    Manhattan|\n",
      "|       5.0|       Arden Heights|Staten Island|\n",
      "|       6.0|Arrochar/Fort Wad...|Staten Island|\n",
      "|       7.0|             Astoria|       Queens|\n",
      "|       8.0|        Astoria Park|       Queens|\n",
      "|       9.0|          Auburndale|       Queens|\n",
      "|      24.0|        Bloomingdale|    Manhattan|\n",
      "|      10.0|        Baisley Park|       Queens|\n",
      "|      11.0|          Bath Beach|     Brooklyn|\n",
      "|      12.0|        Battery Park|    Manhattan|\n",
      "|      13.0|   Battery Park City|    Manhattan|\n",
      "|      18.0|        Bedford Park|        Bronx|\n",
      "|      25.0|         Boerum Hill|     Brooklyn|\n",
      "|      14.0|           Bay Ridge|     Brooklyn|\n",
      "|      15.0|Bay Terrace/Fort ...|       Queens|\n",
      "|      22.0|    Bensonhurst West|     Brooklyn|\n",
      "|      23.0|Bloomfield/Emerso...|Staten Island|\n",
      "+----------+--------------------+-------------+\n",
      "only showing top 20 rows\n",
      "\n"
     ]
    }
   ],
   "source": [
    "nyc_taxi_zones.show()"
   ]
  },
  {
   "cell_type": "code",
   "execution_count": null,
   "id": "0e6ade52",
   "metadata": {
    "ExecuteTime": {
     "start_time": "2022-03-13T13:43:02.393Z"
    }
   },
   "outputs": [],
   "source": [
    "#df201507_pickup = pd.merge(left=df201507,right=nyc_taxi_zones,how='inner',left_on='PULocationID',right_on='location_i')\n",
    "#df201507_pickup['pickup_zone'] = df201507_pickup['zone']\n",
    "#df201507_pickup['pickup_borough'] = df201507_pickup['borough']\n",
    "#df201507_pickup.head()\n",
    "df201507=df201507.limit(1000)\n",
    "join_rule = df201507.PULocationID == nyc_taxi_zones.location_i\n",
    "df201507_pickup = df201507.join(nyc_taxi_zones,join_rule , \"inner\").show()\n"
   ]
  },
  {
   "cell_type": "code",
   "execution_count": null,
   "id": "taken-university",
   "metadata": {
    "ExecuteTime": {
     "end_time": "2022-03-13T13:18:40.494742Z",
     "start_time": "2022-03-13T13:00:34.283Z"
    }
   },
   "outputs": [],
   "source": [
    "df201507_pickup.withColumnRenamed(\"zone\", \"pickup_zone\")\n",
    "df201507_pickup.withColumnRenamed(\"borough\", \"pickup_borough\")\n",
    "df201507_pickup.show()"
   ]
  },
  {
   "cell_type": "code",
   "execution_count": null,
   "id": "5cea26d3",
   "metadata": {
    "ExecuteTime": {
     "start_time": "2022-03-13T12:43:19.911Z"
    }
   },
   "outputs": [],
   "source": [
    "pick_up = list(df201507_pickup.columns)\n",
    "pick_up.remove('location_i')\n",
    "pick_up.remove('zone')\n",
    "pick_up.remove('borough')\n",
    "#pick_up.remove('lon')\n",
    "#pick_up.remove('lat')\n",
    "print(pick_up)"
   ]
  },
  {
   "cell_type": "code",
   "execution_count": null,
   "id": "bac5341b",
   "metadata": {
    "ExecuteTime": {
     "start_time": "2022-03-13T12:43:19.912Z"
    }
   },
   "outputs": [],
   "source": [
    "df201507 = df201507_pickup[pick_up]"
   ]
  },
  {
   "cell_type": "code",
   "execution_count": null,
   "id": "ee639d7b",
   "metadata": {
    "ExecuteTime": {
     "start_time": "2022-03-13T12:43:19.912Z"
    }
   },
   "outputs": [],
   "source": [
    "df201507_dropoff = pd.merge(left=df201507,right=nyc_taxi_zones,how='inner',left_on='DOLocationID',right_on='location_i')\n",
    "#df201507_dropoff['dropoff_longitude'] = df201507_dropoff['lon']\n",
    "#df201507_dropoff['dropoff_latitude'] = df201507_dropoff['lat']\n",
    "df201507_dropoff['dropoff_zone'] = df201507_dropoff['zone']\n",
    "df201507_dropoff['dropoff_borough'] = df201507_dropoff['borough']\n",
    "df201507_dropoff.head()"
   ]
  },
  {
   "cell_type": "code",
   "execution_count": null,
   "id": "230a6860",
   "metadata": {
    "ExecuteTime": {
     "start_time": "2022-03-13T12:43:19.912Z"
    }
   },
   "outputs": [],
   "source": [
    "dropoff = list(df201507_dropoff.columns)\n",
    "dropoff.remove('location_i')\n",
    "dropoff.remove('zone')\n",
    "dropoff.remove('borough')\n",
    "#dropoff.remove('lon')\n",
    "#dropoff.remove('lat')\n",
    "print(dropoff)"
   ]
  },
  {
   "cell_type": "code",
   "execution_count": null,
   "id": "268b4a47",
   "metadata": {
    "ExecuteTime": {
     "start_time": "2022-03-13T12:43:19.913Z"
    }
   },
   "outputs": [],
   "source": [
    "df201507 = df201507_dropoff[dropoff]\n",
    "df201507.to_csv('yellow_tripdata_2015-07_traite.csv')"
   ]
  },
  {
   "cell_type": "code",
   "execution_count": null,
   "id": "b497c83b",
   "metadata": {
    "ExecuteTime": {
     "start_time": "2022-03-13T12:43:19.913Z"
    }
   },
   "outputs": [],
   "source": [
    "df201807 = pd.read_csv('yellow_tripdata_2018-07.csv')\n",
    "df201807.head()"
   ]
  },
  {
   "cell_type": "code",
   "execution_count": null,
   "id": "02a37797",
   "metadata": {
    "ExecuteTime": {
     "start_time": "2022-03-13T12:43:19.913Z"
    }
   },
   "outputs": [],
   "source": [
    "df201807_pickup = pd.merge(left=df201807,right=nyc_taxi_zones,how='inner',left_on='PULocationID',right_on='location_i')\n",
    "#df201807_pickup['pickup_longitude'] = df201807_pickup['lon']\n",
    "#df201807_pickup['pickup_latitude'] = df201807_pickup['lat']\n",
    "df201807_pickup['pickup_zone'] = df201807_pickup['zone']\n",
    "df201807_pickup['pickup_borough'] = df201807_pickup['borough']\n",
    "df201807_pickup.head()"
   ]
  },
  {
   "cell_type": "code",
   "execution_count": null,
   "id": "386b8b4b",
   "metadata": {
    "ExecuteTime": {
     "start_time": "2022-03-13T12:43:19.914Z"
    }
   },
   "outputs": [],
   "source": [
    "pick_up = list(df201807_pickup.columns)\n",
    "pick_up.remove('location_i')\n",
    "pick_up.remove('zone')\n",
    "pick_up.remove('borough')\n",
    "#pick_up.remove('lon')\n",
    "#pick_up.remove('lat')\n",
    "print(pick_up)"
   ]
  },
  {
   "cell_type": "code",
   "execution_count": null,
   "id": "d77d9fae",
   "metadata": {
    "ExecuteTime": {
     "start_time": "2022-03-13T12:43:19.914Z"
    }
   },
   "outputs": [],
   "source": [
    "df201807 = df201807_pickup[pick_up]"
   ]
  },
  {
   "cell_type": "code",
   "execution_count": null,
   "id": "24ff7cca",
   "metadata": {
    "ExecuteTime": {
     "start_time": "2022-03-13T12:43:19.914Z"
    }
   },
   "outputs": [],
   "source": [
    "df201807_dropoff = pd.merge(left=df201807,right=nyc_taxi_zones,how='inner',left_on='DOLocationID',right_on='location_i')\n",
    "#df201807_dropoff['dropoff_longitude'] = df201807_dropoff['lon']\n",
    "#df201807_dropoff['dropoff_latitude'] = df201807_dropoff['lat']\n",
    "df201807_dropoff['dropoff_zone'] = df201807_dropoff['zone']\n",
    "df201807_dropoff['dropoff_borough'] = df201807_dropoff['borough']\n",
    "df201807_dropoff.head()"
   ]
  },
  {
   "cell_type": "code",
   "execution_count": null,
   "id": "74a10160",
   "metadata": {
    "ExecuteTime": {
     "start_time": "2022-03-13T12:43:19.914Z"
    }
   },
   "outputs": [],
   "source": [
    "df201807 = df201807_dropoff[dropoff]\n",
    "df201807.head()"
   ]
  },
  {
   "cell_type": "code",
   "execution_count": null,
   "id": "672eff56",
   "metadata": {
    "ExecuteTime": {
     "start_time": "2022-03-13T12:43:19.915Z"
    }
   },
   "outputs": [],
   "source": [
    "df201807.to_csv('yellow_tripdata_2018-07_traite.csv')"
   ]
  },
  {
   "cell_type": "code",
   "execution_count": null,
   "id": "be3065e5",
   "metadata": {},
   "outputs": [],
   "source": []
  }
 ],
 "metadata": {
  "kernelspec": {
   "display_name": "Python 3",
   "language": "python",
   "name": "python3"
  },
  "language_info": {
   "codemirror_mode": {
    "name": "ipython",
    "version": 3
   },
   "file_extension": ".py",
   "mimetype": "text/x-python",
   "name": "python",
   "nbconvert_exporter": "python",
   "pygments_lexer": "ipython3",
   "version": "3.8.5"
  },
  "toc": {
   "base_numbering": 1,
   "nav_menu": {},
   "number_sections": true,
   "sideBar": true,
   "skip_h1_title": false,
   "title_cell": "Table of Contents",
   "title_sidebar": "Contents",
   "toc_cell": false,
   "toc_position": {},
   "toc_section_display": true,
   "toc_window_display": false
  }
 },
 "nbformat": 4,
 "nbformat_minor": 5
}

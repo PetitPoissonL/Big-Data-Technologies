{
 "cells": [
  {
   "cell_type": "markdown",
   "metadata": {
    "nteract": {
     "transient": {
      "deleting": false
     }
    }
   },
   "source": [
    "# New York taxis trips\n",
    "\n",
    "This homework is about New York taxi trips. Here is something from [Todd Schneider](https://toddwschneider.com/posts/analyzing-1-1-billion-nyc-taxi-and-uber-trips-with-a-vengeance/):\n",
    "\n",
    "> The New York City Taxi & Limousine Commission has released a  detailed historical dataset covering over 1 billion individual taxi trips in the city from January 2009 through December 2019. \n",
    "Taken as a whole, the detailed trip-level data is more than just a vast list of taxi pickup and drop off coordinates: it's a story of a City. \n",
    "How bad is the rush hour traffic from Midtown to JFK? \n",
    "Where does the Bridge and Tunnel crowd hang out on Saturday nights?\n",
    "What time do investment bankers get to work? How has Uber changed the landscape for taxis?\n",
    "The dataset addresses all of these questions and many more.\n",
    "\n",
    "The NY taxi trips dataset has been plowed by series of distinguished data scientists.\n",
    "The dataset is available from on Amazon S3 (Amazon's cloud storage service).\n",
    "The link for each file has the following form:\n",
    "\n",
    "    https://s3.amazonaws.com/nyc-tlc/trip+data/yellow_tripdata_{year}-{month}.csv\n",
    "\n",
    "There is one CSV file for each NY taxi service (`yellow`, `green`, `fhv`) and each calendar month (replacing `{year}` and `{month}` by the desired ones).\n",
    "Each file is moderately large, a few gigabytes. \n",
    "The full dataset is relatively large if it has to be handled on a laptop (several hundred gigabytes).\n",
    "\n",
    "You will focus on the `yellow` taxi service and a pair of months, from year 2015 and from year 2018. \n",
    "Between those two years, for hire vehicles services have taken off and carved a huge marketshare.\n",
    "\n",
    "Whatever the framework you use, `CSV` files prove hard to handle. \n",
    "After downloading the appropriate files (this takes time, but this is routine), a first step will consist in converting the csv files into a more Spark friendly format such as `parquet`.\n",
    "\n",
    "Saving into one of those formats require decisions about bucketing, partitioning and so on. Such decisions influence performance. It is your call.\n",
    "Many people have been working on this dataset, to cite but a few:\n",
    "\n",
    "\n",
    "- [1 billion trips with a vengeance](https://toddwschneider.com/posts/analyzing-1-1-billion-nyc-taxi-and-uber-trips-with-a-vengeance/)\n",
    "- [1 billion trips with R and SQL ](http://freerangestats.info/blog/2019/12/22/nyc-taxis-sql)\n",
    "- [1 billion trips with redshift](https://tech.marksblogg.com/billion-nyc-taxi-rides-redshift.html)\n",
    "- [nyc-taxi](https://github.com/fmaletski/nyc-taxi-map)"
   ]
  },
  {
   "cell_type": "markdown",
   "metadata": {},
   "source": [
    "Depending on your internet connection, **download the files** corresponding to **\"yellow\" taxis** for the years 2015 and 2018. Download **at least one month** (the same) for 2015 and 2018, if you can download all of them.\n",
    "\n",
    "**Hint.** The 12 csv for 2015 are about 23GB in total, but the corresponding parquet file, if you can create it for all 12 months, is only about 3GB."
   ]
  },
  {
   "cell_type": "markdown",
   "metadata": {},
   "source": [
    "You **might** need the following stuff in order to work with GPS coordinates and to plot things easily."
   ]
  },
  {
   "cell_type": "code",
   "execution_count": 1,
   "metadata": {
    "ExecuteTime": {
     "end_time": "2022-03-06T23:57:35.576212Z",
     "start_time": "2022-03-06T23:57:33.471832Z"
    },
    "scrolled": true
   },
   "outputs": [
    {
     "name": "stdout",
     "output_type": "stream",
     "text": [
      "Requirement already satisfied: geojson in /usr/local/lib/python3.8/dist-packages (2.5.0)\n",
      "Requirement already satisfied: geopandas in /usr/local/lib/python3.8/dist-packages (0.10.2)\n",
      "Requirement already satisfied: plotly in /usr/local/lib/python3.8/dist-packages (4.14.3)\n",
      "Requirement already satisfied: geopy in /usr/local/lib/python3.8/dist-packages (2.2.0)\n",
      "Requirement already satisfied: pyproj>=2.2.0 in /usr/local/lib/python3.8/dist-packages (from geopandas) (3.3.0)\n",
      "Requirement already satisfied: pandas>=0.25.0 in /usr/local/lib/python3.8/dist-packages (from geopandas) (1.2.0)\n",
      "Requirement already satisfied: shapely>=1.6 in /usr/local/lib/python3.8/dist-packages (from geopandas) (1.8.1.post1)\n",
      "Requirement already satisfied: fiona>=1.8 in /usr/local/lib/python3.8/dist-packages (from geopandas) (1.8.21)\n",
      "Requirement already satisfied: attrs>=17 in /usr/local/lib/python3.8/dist-packages (from fiona>=1.8->geopandas) (20.3.0)\n",
      "Requirement already satisfied: click>=4.0 in /usr/local/lib/python3.8/dist-packages (from fiona>=1.8->geopandas) (7.1.2)\n",
      "Requirement already satisfied: setuptools in /usr/lib/python3/dist-packages (from fiona>=1.8->geopandas) (45.2.0)\n",
      "Requirement already satisfied: six>=1.7 in /usr/local/lib/python3.8/dist-packages (from fiona>=1.8->geopandas) (1.15.0)\n",
      "Requirement already satisfied: munch in /usr/local/lib/python3.8/dist-packages (from fiona>=1.8->geopandas) (2.5.0)\n",
      "Requirement already satisfied: certifi in /usr/local/lib/python3.8/dist-packages (from fiona>=1.8->geopandas) (2020.12.5)\n",
      "Requirement already satisfied: cligj>=0.5 in /usr/local/lib/python3.8/dist-packages (from fiona>=1.8->geopandas) (0.7.2)\n",
      "Requirement already satisfied: click-plugins>=1.0 in /usr/local/lib/python3.8/dist-packages (from fiona>=1.8->geopandas) (1.1.1)\n",
      "Requirement already satisfied: python-dateutil>=2.7.3 in /usr/local/lib/python3.8/dist-packages (from pandas>=0.25.0->geopandas) (2.8.1)\n",
      "Requirement already satisfied: numpy>=1.16.5 in /usr/local/lib/python3.8/dist-packages (from pandas>=0.25.0->geopandas) (1.19.5)\n",
      "Requirement already satisfied: pytz>=2017.3 in /usr/local/lib/python3.8/dist-packages (from pandas>=0.25.0->geopandas) (2020.5)\n",
      "Requirement already satisfied: geographiclib<2,>=1.49 in /usr/local/lib/python3.8/dist-packages (from geopy) (1.52)\n",
      "Requirement already satisfied: retrying>=1.3.3 in /usr/local/lib/python3.8/dist-packages (from plotly) (1.3.3)\n",
      "\u001b[33mWARNING: You are using pip version 20.3.3; however, version 22.0.3 is available.\n",
      "You should consider upgrading via the '/usr/bin/python3 -m pip install --upgrade pip' command.\u001b[0m\n"
     ]
    }
   ],
   "source": [
    "!pip install geojson geopandas plotly geopy"
   ]
  },
  {
   "cell_type": "code",
   "execution_count": 2,
   "metadata": {
    "ExecuteTime": {
     "end_time": "2022-03-06T23:57:37.785328Z",
     "start_time": "2022-03-06T23:57:35.579644Z"
    },
    "scrolled": true
   },
   "outputs": [
    {
     "name": "stdout",
     "output_type": "stream",
     "text": [
      "Requirement already satisfied: ipyleaflet in /usr/local/lib/python3.8/dist-packages (0.15.0)\n",
      "Requirement already satisfied: ipywidgets<8,>=7.6.0 in /usr/local/lib/python3.8/dist-packages (from ipyleaflet) (7.6.3)\n",
      "Requirement already satisfied: xyzservices>=2021.8.1 in /usr/local/lib/python3.8/dist-packages (from ipyleaflet) (2022.2.0)\n",
      "Requirement already satisfied: traittypes<3,>=0.2.1 in /usr/local/lib/python3.8/dist-packages (from ipyleaflet) (0.2.1)\n",
      "Requirement already satisfied: ipykernel>=4.5.1 in /usr/local/lib/python3.8/dist-packages (from ipywidgets<8,>=7.6.0->ipyleaflet) (5.4.3)\n",
      "Requirement already satisfied: ipython>=4.0.0 in /usr/local/lib/python3.8/dist-packages (from ipywidgets<8,>=7.6.0->ipyleaflet) (7.19.0)\n",
      "Requirement already satisfied: jupyterlab-widgets>=1.0.0 in /usr/local/lib/python3.8/dist-packages (from ipywidgets<8,>=7.6.0->ipyleaflet) (1.0.0)\n",
      "Requirement already satisfied: widgetsnbextension~=3.5.0 in /usr/local/lib/python3.8/dist-packages (from ipywidgets<8,>=7.6.0->ipyleaflet) (3.5.1)\n",
      "Requirement already satisfied: nbformat>=4.2.0 in /usr/local/lib/python3.8/dist-packages (from ipywidgets<8,>=7.6.0->ipyleaflet) (5.1.0)\n",
      "Requirement already satisfied: traitlets>=4.3.1 in /usr/local/lib/python3.8/dist-packages (from ipywidgets<8,>=7.6.0->ipyleaflet) (5.0.5)\n",
      "Requirement already satisfied: jupyter-client in /usr/local/lib/python3.8/dist-packages (from ipykernel>=4.5.1->ipywidgets<8,>=7.6.0->ipyleaflet) (6.1.11)\n",
      "Requirement already satisfied: tornado>=4.2 in /usr/local/lib/python3.8/dist-packages (from ipykernel>=4.5.1->ipywidgets<8,>=7.6.0->ipyleaflet) (6.1)\n",
      "Requirement already satisfied: prompt-toolkit!=3.0.0,!=3.0.1,<3.1.0,>=2.0.0 in /usr/local/lib/python3.8/dist-packages (from ipython>=4.0.0->ipywidgets<8,>=7.6.0->ipyleaflet) (3.0.10)\n",
      "Requirement already satisfied: pickleshare in /usr/local/lib/python3.8/dist-packages (from ipython>=4.0.0->ipywidgets<8,>=7.6.0->ipyleaflet) (0.7.5)\n",
      "Requirement already satisfied: decorator in /usr/local/lib/python3.8/dist-packages (from ipython>=4.0.0->ipywidgets<8,>=7.6.0->ipyleaflet) (4.4.2)\n",
      "Requirement already satisfied: backcall in /usr/local/lib/python3.8/dist-packages (from ipython>=4.0.0->ipywidgets<8,>=7.6.0->ipyleaflet) (0.2.0)\n",
      "Requirement already satisfied: jedi>=0.10 in /usr/local/lib/python3.8/dist-packages (from ipython>=4.0.0->ipywidgets<8,>=7.6.0->ipyleaflet) (0.18.0)\n",
      "Requirement already satisfied: setuptools>=18.5 in /usr/lib/python3/dist-packages (from ipython>=4.0.0->ipywidgets<8,>=7.6.0->ipyleaflet) (45.2.0)\n",
      "Requirement already satisfied: pygments in /usr/local/lib/python3.8/dist-packages (from ipython>=4.0.0->ipywidgets<8,>=7.6.0->ipyleaflet) (2.7.4)\n",
      "Requirement already satisfied: pexpect>4.3 in /usr/local/lib/python3.8/dist-packages (from ipython>=4.0.0->ipywidgets<8,>=7.6.0->ipyleaflet) (4.8.0)\n",
      "Requirement already satisfied: parso<0.9.0,>=0.8.0 in /usr/local/lib/python3.8/dist-packages (from jedi>=0.10->ipython>=4.0.0->ipywidgets<8,>=7.6.0->ipyleaflet) (0.8.1)\n",
      "Requirement already satisfied: jupyter-core in /usr/local/lib/python3.8/dist-packages (from nbformat>=4.2.0->ipywidgets<8,>=7.6.0->ipyleaflet) (4.7.0)\n",
      "Requirement already satisfied: jsonschema!=2.5.0,>=2.4 in /usr/local/lib/python3.8/dist-packages (from nbformat>=4.2.0->ipywidgets<8,>=7.6.0->ipyleaflet) (3.2.0)\n",
      "Requirement already satisfied: ipython-genutils in /usr/local/lib/python3.8/dist-packages (from nbformat>=4.2.0->ipywidgets<8,>=7.6.0->ipyleaflet) (0.2.0)\n",
      "Requirement already satisfied: pyrsistent>=0.14.0 in /usr/local/lib/python3.8/dist-packages (from jsonschema!=2.5.0,>=2.4->nbformat>=4.2.0->ipywidgets<8,>=7.6.0->ipyleaflet) (0.17.3)\n",
      "Requirement already satisfied: six>=1.11.0 in /usr/local/lib/python3.8/dist-packages (from jsonschema!=2.5.0,>=2.4->nbformat>=4.2.0->ipywidgets<8,>=7.6.0->ipyleaflet) (1.15.0)\n",
      "Requirement already satisfied: attrs>=17.4.0 in /usr/local/lib/python3.8/dist-packages (from jsonschema!=2.5.0,>=2.4->nbformat>=4.2.0->ipywidgets<8,>=7.6.0->ipyleaflet) (20.3.0)\n",
      "Requirement already satisfied: ptyprocess>=0.5 in /usr/local/lib/python3.8/dist-packages (from pexpect>4.3->ipython>=4.0.0->ipywidgets<8,>=7.6.0->ipyleaflet) (0.7.0)\n",
      "Requirement already satisfied: wcwidth in /usr/local/lib/python3.8/dist-packages (from prompt-toolkit!=3.0.0,!=3.0.1,<3.1.0,>=2.0.0->ipython>=4.0.0->ipywidgets<8,>=7.6.0->ipyleaflet) (0.2.5)\n",
      "Requirement already satisfied: notebook>=4.4.1 in /usr/local/lib/python3.8/dist-packages (from widgetsnbextension~=3.5.0->ipywidgets<8,>=7.6.0->ipyleaflet) (6.2.0)\n",
      "Requirement already satisfied: jinja2 in /usr/local/lib/python3.8/dist-packages (from notebook>=4.4.1->widgetsnbextension~=3.5.0->ipywidgets<8,>=7.6.0->ipyleaflet) (2.11.2)\n",
      "Requirement already satisfied: pyzmq>=17 in /usr/local/lib/python3.8/dist-packages (from notebook>=4.4.1->widgetsnbextension~=3.5.0->ipywidgets<8,>=7.6.0->ipyleaflet) (21.0.0)\n",
      "Requirement already satisfied: prometheus-client in /usr/local/lib/python3.8/dist-packages (from notebook>=4.4.1->widgetsnbextension~=3.5.0->ipywidgets<8,>=7.6.0->ipyleaflet) (0.9.0)\n",
      "Requirement already satisfied: nbconvert in /usr/local/lib/python3.8/dist-packages (from notebook>=4.4.1->widgetsnbextension~=3.5.0->ipywidgets<8,>=7.6.0->ipyleaflet) (6.0.7)\n",
      "Requirement already satisfied: argon2-cffi in /usr/local/lib/python3.8/dist-packages (from notebook>=4.4.1->widgetsnbextension~=3.5.0->ipywidgets<8,>=7.6.0->ipyleaflet) (20.1.0)\n",
      "Requirement already satisfied: Send2Trash>=1.5.0 in /usr/local/lib/python3.8/dist-packages (from notebook>=4.4.1->widgetsnbextension~=3.5.0->ipywidgets<8,>=7.6.0->ipyleaflet) (1.5.0)\n",
      "Requirement already satisfied: terminado>=0.8.3 in /usr/local/lib/python3.8/dist-packages (from notebook>=4.4.1->widgetsnbextension~=3.5.0->ipywidgets<8,>=7.6.0->ipyleaflet) (0.9.2)\n",
      "Requirement already satisfied: python-dateutil>=2.1 in /usr/local/lib/python3.8/dist-packages (from jupyter-client->ipykernel>=4.5.1->ipywidgets<8,>=7.6.0->ipyleaflet) (2.8.1)\n",
      "Requirement already satisfied: cffi>=1.0.0 in /usr/local/lib/python3.8/dist-packages (from argon2-cffi->notebook>=4.4.1->widgetsnbextension~=3.5.0->ipywidgets<8,>=7.6.0->ipyleaflet) (1.14.4)\n",
      "Requirement already satisfied: pycparser in /usr/local/lib/python3.8/dist-packages (from cffi>=1.0.0->argon2-cffi->notebook>=4.4.1->widgetsnbextension~=3.5.0->ipywidgets<8,>=7.6.0->ipyleaflet) (2.20)\n",
      "Requirement already satisfied: MarkupSafe>=0.23 in /usr/local/lib/python3.8/dist-packages (from jinja2->notebook>=4.4.1->widgetsnbextension~=3.5.0->ipywidgets<8,>=7.6.0->ipyleaflet) (1.1.1)\n",
      "Requirement already satisfied: mistune<2,>=0.8.1 in /usr/local/lib/python3.8/dist-packages (from nbconvert->notebook>=4.4.1->widgetsnbextension~=3.5.0->ipywidgets<8,>=7.6.0->ipyleaflet) (0.8.4)\n",
      "Requirement already satisfied: jupyterlab-pygments in /usr/local/lib/python3.8/dist-packages (from nbconvert->notebook>=4.4.1->widgetsnbextension~=3.5.0->ipywidgets<8,>=7.6.0->ipyleaflet) (0.1.2)\n",
      "Requirement already satisfied: defusedxml in /usr/local/lib/python3.8/dist-packages (from nbconvert->notebook>=4.4.1->widgetsnbextension~=3.5.0->ipywidgets<8,>=7.6.0->ipyleaflet) (0.6.0)\n",
      "Requirement already satisfied: bleach in /usr/local/lib/python3.8/dist-packages (from nbconvert->notebook>=4.4.1->widgetsnbextension~=3.5.0->ipywidgets<8,>=7.6.0->ipyleaflet) (3.2.1)\n",
      "Requirement already satisfied: entrypoints>=0.2.2 in /usr/local/lib/python3.8/dist-packages (from nbconvert->notebook>=4.4.1->widgetsnbextension~=3.5.0->ipywidgets<8,>=7.6.0->ipyleaflet) (0.3)\n",
      "Requirement already satisfied: pandocfilters>=1.4.1 in /usr/local/lib/python3.8/dist-packages (from nbconvert->notebook>=4.4.1->widgetsnbextension~=3.5.0->ipywidgets<8,>=7.6.0->ipyleaflet) (1.4.3)\n",
      "Requirement already satisfied: testpath in /usr/local/lib/python3.8/dist-packages (from nbconvert->notebook>=4.4.1->widgetsnbextension~=3.5.0->ipywidgets<8,>=7.6.0->ipyleaflet) (0.4.4)\n",
      "Requirement already satisfied: nbclient<0.6.0,>=0.5.0 in /usr/local/lib/python3.8/dist-packages (from nbconvert->notebook>=4.4.1->widgetsnbextension~=3.5.0->ipywidgets<8,>=7.6.0->ipyleaflet) (0.5.1)\n",
      "Requirement already satisfied: async-generator in /usr/local/lib/python3.8/dist-packages (from nbclient<0.6.0,>=0.5.0->nbconvert->notebook>=4.4.1->widgetsnbextension~=3.5.0->ipywidgets<8,>=7.6.0->ipyleaflet) (1.10)\n",
      "Requirement already satisfied: nest-asyncio in /usr/local/lib/python3.8/dist-packages (from nbclient<0.6.0,>=0.5.0->nbconvert->notebook>=4.4.1->widgetsnbextension~=3.5.0->ipywidgets<8,>=7.6.0->ipyleaflet) (1.4.3)\n",
      "Requirement already satisfied: packaging in /usr/local/lib/python3.8/dist-packages (from bleach->nbconvert->notebook>=4.4.1->widgetsnbextension~=3.5.0->ipywidgets<8,>=7.6.0->ipyleaflet) (20.8)\n",
      "Requirement already satisfied: webencodings in /usr/local/lib/python3.8/dist-packages (from bleach->nbconvert->notebook>=4.4.1->widgetsnbextension~=3.5.0->ipywidgets<8,>=7.6.0->ipyleaflet) (0.5.1)\n",
      "Requirement already satisfied: pyparsing>=2.0.2 in /usr/local/lib/python3.8/dist-packages (from packaging->bleach->nbconvert->notebook>=4.4.1->widgetsnbextension~=3.5.0->ipywidgets<8,>=7.6.0->ipyleaflet) (2.4.7)\n",
      "\u001b[33mWARNING: You are using pip version 20.3.3; however, version 22.0.3 is available.\n",
      "You should consider upgrading via the '/usr/bin/python3 -m pip install --upgrade pip' command.\u001b[0m\n"
     ]
    }
   ],
   "source": [
    "!pip install ipyleaflet"
   ]
  },
  {
   "cell_type": "markdown",
   "metadata": {},
   "source": [
    "For this homework **we will let you decide on the tools to use** (expected for Spark) and to **find out information all by yourself** (but don't hesitate to ask questions on the `slack` channel)."
   ]
  },
  {
   "cell_type": "markdown",
   "metadata": {
    "nteract": {
     "transient": {
      "deleting": false
     }
    }
   },
   "source": [
    "# Loading data as parquet files\n",
    "\n",
    "We want to organize the data on a per year and per service basis. \n",
    "We want to end up with one `parquet` file for each year and each taxi service, since parquet is much better than CSV files.\n",
    "\n",
    "**Hint.** Depending on your internet connection and your laptop, you can use only the \"yellow\" service and use one month of 2015 and 2018\n",
    "\n",
    "CSV files can contain corrupted lines. You may have to work in order to perform ETL (Extract-Transform-Load) in order obtain a properly typed data frame.\n",
    "\n",
    "You are invited to proceed as follows:\n",
    "\n",
    "1. Try to read the CSV file without imposing a schema. \n",
    "1. Inspect the inferred schema. Do you agree with Spark's typing decision?\n",
    "1. Eventually correct the schema and read again the data\n",
    "1. Save the data into parquet files\n",
    "1. In the rest of your work, **you will only use the parquet files you created**, not the csv files (don't forget to choose a partitioning column and a number of partitions when creating the parquet files).\n",
    "\n",
    "**Hint.** Don't forget to ask `Spark` to use all the memory and ressources from your computer.\n",
    "\n",
    "**Hint.** Don't foreget that you should specify a partitioning column and a number of partitions when creating the parquet files.\n",
    "\n",
    "**Hint.** Note that the schemas of the 2015 and 2018 data are different...\n",
    "\n",
    "**Hint.** When working on this, ask you and answer to the following questions:\n",
    "\n",
    "1. What is the `StorageLevel` of the dataframe after reading the csv files?\n",
    "1. What is the number of partitions of the dataframe? \n",
    "1. Is it possible to tune this number at loading time? \n",
    "1. Why would we want to modify the number of partitions when creating the parquet files?"
   ]
  },
  {
   "cell_type": "code",
   "execution_count": 3,
   "metadata": {
    "ExecuteTime": {
     "end_time": "2022-03-06T23:57:38.792762Z",
     "start_time": "2022-03-06T23:57:37.800244Z"
    }
   },
   "outputs": [],
   "source": [
    "# import the usual suspects\n",
    "import pandas as pd\n",
    "import numpy as np\n",
    "import matplotlib.pyplot as plt\n",
    "import os\n",
    "from pathlib import Path\n",
    "import sys\n",
    "import timeit\n",
    "import plotly.graph_objects as go\n",
    "\n",
    "%matplotlib inline\n",
    "import seaborn as sns\n",
    "\n",
    "sns.set_context(\"notebook\", font_scale=1.2)"
   ]
  },
  {
   "cell_type": "code",
   "execution_count": 4,
   "metadata": {
    "ExecuteTime": {
     "end_time": "2022-03-06T23:57:38.850054Z",
     "start_time": "2022-03-06T23:57:38.795107Z"
    }
   },
   "outputs": [],
   "source": [
    "# spark\n",
    "from pyspark import SparkConf, SparkContext\n",
    "from pyspark.sql import SparkSession\n",
    "from pyspark.sql import Window\n",
    "from pyspark.sql.functions import col\n",
    "import pyspark.sql.functions as fn\n",
    "from pyspark.sql.catalog import Catalog\n",
    "from pyspark.sql.types import StructType, StructField\n",
    "from pyspark.sql.types import IntegerType, StringType"
   ]
  },
  {
   "cell_type": "code",
   "execution_count": 6,
   "metadata": {
    "ExecuteTime": {
     "end_time": "2022-03-06T23:58:04.728643Z",
     "start_time": "2022-03-06T23:57:55.698211Z"
    }
   },
   "outputs": [],
   "source": [
    "# Start the SparkSession\n",
    "conf = SparkConf().setAppName(\"Spark SQL Illustrations\")\n",
    "sc = SparkContext(conf=conf)\n",
    "\n",
    "spark = (SparkSession\n",
    "    .builder\n",
    "    .appName(\"New York taxis trips\")\n",
    "    .getOrCreate()\n",
    ")"
   ]
  },
  {
   "cell_type": "markdown",
   "metadata": {},
   "source": [
    "1.Try to read the CSV file without imposing a schema."
   ]
  },
  {
   "cell_type": "code",
   "execution_count": 7,
   "metadata": {
    "ExecuteTime": {
     "end_time": "2022-03-06T23:59:13.161401Z",
     "start_time": "2022-03-06T23:59:12.985221Z"
    }
   },
   "outputs": [],
   "source": [
    "import requests\n",
    "from pathlib import Path\n",
    "\n",
    "# download the data of 2015\n",
    "path2015 = Path('yellow_tripdata_2015-07.csv')\n",
    "if not path2015.exists():\n",
    "    url = \"https://s3.amazonaws.com/nyc-tlc/trip+data/yellow_tripdata_2015-07.csv\"\n",
    "    r = requests.get(url)\n",
    "    with open(os.path.join('./', 'yellow_tripdata_2015-07.csv'), 'wb') as f:\n",
    "        f.write(r.content)"
   ]
  },
  {
   "cell_type": "code",
   "execution_count": 8,
   "metadata": {
    "ExecuteTime": {
     "end_time": "2022-03-06T23:59:26.465953Z",
     "start_time": "2022-03-06T23:59:26.457231Z"
    }
   },
   "outputs": [],
   "source": [
    "# download the data of 2018\n",
    "path2018 = Path('yellow_tripdata_2018-07.csv')\n",
    "if not path2018.exists():\n",
    "    url = \"https://s3.amazonaws.com/nyc-tlc/trip+data/yellow_tripdata_2018-07.csv\"\n",
    "    r = requests.get(url)\n",
    "    with open(os.path.join('./', 'yellow_tripdata_2018-07.csv'), 'wb') as f:\n",
    "        f.write(r.content)"
   ]
  },
  {
   "cell_type": "code",
   "execution_count": 9,
   "metadata": {
    "ExecuteTime": {
     "end_time": "2022-03-07T00:03:08.303863Z",
     "start_time": "2022-03-07T00:02:14.407932Z"
    }
   },
   "outputs": [
    {
     "name": "stdout",
     "output_type": "stream",
     "text": [
      "root\n",
      " |-- VendorID: integer (nullable = true)\n",
      " |-- tpep_pickup_datetime: string (nullable = true)\n",
      " |-- tpep_dropoff_datetime: string (nullable = true)\n",
      " |-- passenger_count: integer (nullable = true)\n",
      " |-- trip_distance: double (nullable = true)\n",
      " |-- pickup_longitude: double (nullable = true)\n",
      " |-- pickup_latitude: double (nullable = true)\n",
      " |-- RatecodeID: integer (nullable = true)\n",
      " |-- store_and_fwd_flag: string (nullable = true)\n",
      " |-- dropoff_longitude: double (nullable = true)\n",
      " |-- dropoff_latitude: double (nullable = true)\n",
      " |-- payment_type: integer (nullable = true)\n",
      " |-- fare_amount: double (nullable = true)\n",
      " |-- extra: double (nullable = true)\n",
      " |-- mta_tax: double (nullable = true)\n",
      " |-- tip_amount: double (nullable = true)\n",
      " |-- tolls_amount: double (nullable = true)\n",
      " |-- improvement_surcharge: double (nullable = true)\n",
      " |-- total_amount: double (nullable = true)\n",
      "\n"
     ]
    }
   ],
   "source": [
    "# Load data from a csv file\n",
    "df_sp2015 = spark.read\\\n",
    "             .format('csv')\\\n",
    "             .option(\"header\", \"true\")\\\n",
    "             .option(\"mode\", \"FAILFAST\")\\\n",
    "             .option(\"inferSchema\", \"true\")\\\n",
    "             .option(\"sep\", \",\")\\\n",
    "             .load(\"yellow_tripdata_2015-07.csv\")\n",
    "\n",
    "df_sp2015.printSchema()"
   ]
  },
  {
   "cell_type": "code",
   "execution_count": 10,
   "metadata": {
    "ExecuteTime": {
     "end_time": "2022-03-07T00:03:31.686827Z",
     "start_time": "2022-03-07T00:03:08.306923Z"
    }
   },
   "outputs": [
    {
     "name": "stdout",
     "output_type": "stream",
     "text": [
      "root\n",
      " |-- VendorID: integer (nullable = true)\n",
      " |-- tpep_pickup_datetime: string (nullable = true)\n",
      " |-- tpep_dropoff_datetime: string (nullable = true)\n",
      " |-- passenger_count: integer (nullable = true)\n",
      " |-- trip_distance: double (nullable = true)\n",
      " |-- RatecodeID: integer (nullable = true)\n",
      " |-- store_and_fwd_flag: string (nullable = true)\n",
      " |-- PULocationID: integer (nullable = true)\n",
      " |-- DOLocationID: integer (nullable = true)\n",
      " |-- payment_type: integer (nullable = true)\n",
      " |-- fare_amount: double (nullable = true)\n",
      " |-- extra: double (nullable = true)\n",
      " |-- mta_tax: double (nullable = true)\n",
      " |-- tip_amount: double (nullable = true)\n",
      " |-- tolls_amount: double (nullable = true)\n",
      " |-- improvement_surcharge: double (nullable = true)\n",
      " |-- total_amount: double (nullable = true)\n",
      "\n"
     ]
    }
   ],
   "source": [
    "df_sp2018 = spark.read\\\n",
    "             .format('csv')\\\n",
    "             .option(\"header\", \"true\")\\\n",
    "             .option(\"mode\", \"FAILFAST\")\\\n",
    "             .option(\"inferSchema\", \"true\")\\\n",
    "             .option(\"sep\", \",\")\\\n",
    "             .load(\"yellow_tripdata_2018-07.csv\")\n",
    "\n",
    "df_sp2018.printSchema()"
   ]
  },
  {
   "cell_type": "markdown",
   "metadata": {},
   "source": [
    "2.Inspect the inferred schema. Do you agree with Spark's typing decision?\n",
    "\n",
    "Non, les colonnes \"tpep_pickup_datetime\" et \"tpep_dropoff_datetime\" doivent être de type date et pas de type string."
   ]
  },
  {
   "cell_type": "markdown",
   "metadata": {},
   "source": [
    "3.Eventually correct the schema and read again the data"
   ]
  },
  {
   "cell_type": "code",
   "execution_count": 11,
   "metadata": {
    "ExecuteTime": {
     "end_time": "2022-03-07T00:04:08.954258Z",
     "start_time": "2022-03-07T00:04:08.868947Z"
    }
   },
   "outputs": [
    {
     "name": "stdout",
     "output_type": "stream",
     "text": [
      "root\n",
      " |-- VendorID: integer (nullable = true)\n",
      " |-- tpep_pickup_datetime: timestamp (nullable = true)\n",
      " |-- tpep_dropoff_datetime: timestamp (nullable = true)\n",
      " |-- passenger_count: integer (nullable = true)\n",
      " |-- trip_distance: double (nullable = true)\n",
      " |-- pickup_longitude: double (nullable = true)\n",
      " |-- pickup_latitude: double (nullable = true)\n",
      " |-- RatecodeID: integer (nullable = true)\n",
      " |-- store_and_fwd_flag: string (nullable = true)\n",
      " |-- dropoff_longitude: double (nullable = true)\n",
      " |-- dropoff_latitude: double (nullable = true)\n",
      " |-- payment_type: integer (nullable = true)\n",
      " |-- fare_amount: double (nullable = true)\n",
      " |-- extra: double (nullable = true)\n",
      " |-- mta_tax: double (nullable = true)\n",
      " |-- tip_amount: double (nullable = true)\n",
      " |-- tolls_amount: double (nullable = true)\n",
      " |-- improvement_surcharge: double (nullable = true)\n",
      " |-- total_amount: double (nullable = true)\n",
      "\n"
     ]
    }
   ],
   "source": [
    "df_sp2015 = df_sp2015\\\n",
    "            .withColumn(\"tpep_pickup_datetime\",(fn.to_timestamp(col(\"tpep_pickup_datetime\"))))\\\n",
    "            .withColumn(\"tpep_dropoff_datetime\",(fn.to_timestamp(col(\"tpep_dropoff_datetime\"))))\n",
    "\n",
    "df_sp2015.printSchema()"
   ]
  },
  {
   "cell_type": "code",
   "execution_count": 12,
   "metadata": {
    "ExecuteTime": {
     "end_time": "2022-03-07T00:04:26.729960Z",
     "start_time": "2022-03-07T00:04:26.671114Z"
    }
   },
   "outputs": [
    {
     "name": "stdout",
     "output_type": "stream",
     "text": [
      "root\n",
      " |-- VendorID: integer (nullable = true)\n",
      " |-- tpep_pickup_datetime: timestamp (nullable = true)\n",
      " |-- tpep_dropoff_datetime: timestamp (nullable = true)\n",
      " |-- passenger_count: integer (nullable = true)\n",
      " |-- trip_distance: double (nullable = true)\n",
      " |-- RatecodeID: integer (nullable = true)\n",
      " |-- store_and_fwd_flag: string (nullable = true)\n",
      " |-- PULocationID: integer (nullable = true)\n",
      " |-- DOLocationID: integer (nullable = true)\n",
      " |-- payment_type: integer (nullable = true)\n",
      " |-- fare_amount: double (nullable = true)\n",
      " |-- extra: double (nullable = true)\n",
      " |-- mta_tax: double (nullable = true)\n",
      " |-- tip_amount: double (nullable = true)\n",
      " |-- tolls_amount: double (nullable = true)\n",
      " |-- improvement_surcharge: double (nullable = true)\n",
      " |-- total_amount: double (nullable = true)\n",
      "\n"
     ]
    }
   ],
   "source": [
    "df_sp2018 = df_sp2018\\\n",
    "            .withColumn(\"tpep_pickup_datetime\",(fn.to_timestamp(col(\"tpep_pickup_datetime\"))))\\\n",
    "            .withColumn(\"tpep_dropoff_datetime\",(fn.to_timestamp(col(\"tpep_dropoff_datetime\"))))\n",
    "\n",
    "df_sp2018.printSchema()"
   ]
  },
  {
   "cell_type": "markdown",
   "metadata": {},
   "source": [
    "4.Save the data into parquet files"
   ]
  },
  {
   "cell_type": "code",
   "execution_count": 14,
   "metadata": {
    "ExecuteTime": {
     "end_time": "2022-03-07T00:29:05.190305Z",
     "start_time": "2022-03-07T00:29:02.858403Z"
    }
   },
   "outputs": [
    {
     "name": "stdout",
     "output_type": "stream",
     "text": [
      "Requirement already satisfied: shapely in /usr/local/lib/python3.8/dist-packages (1.8.1.post1)\n",
      "\u001b[33mWARNING: You are using pip version 20.3.3; however, version 22.0.3 is available.\n",
      "You should consider upgrading via the '/usr/bin/python3 -m pip install --upgrade pip' command.\u001b[0m\n"
     ]
    }
   ],
   "source": [
    "# clean data df_sp2015\n",
    "!pip install shapely"
   ]
  },
  {
   "cell_type": "code",
   "execution_count": 18,
   "metadata": {
    "ExecuteTime": {
     "end_time": "2022-03-07T00:32:29.733727Z",
     "start_time": "2022-03-07T00:32:29.593004Z"
    }
   },
   "outputs": [
    {
     "name": "stdout",
     "output_type": "stream",
     "text": [
      "          borough  location_i  objectid  shape_area  shape_leng  \\\n",
      "0             EWR         1.0       1.0    0.000782    0.116357   \n",
      "1          Queens         2.0       2.0    0.004866    0.433470   \n",
      "2           Bronx         3.0       3.0    0.000314    0.084341   \n",
      "3       Manhattan         4.0       4.0    0.000112    0.043567   \n",
      "4   Staten Island         5.0       5.0    0.000498    0.092146   \n",
      "5   Staten Island         6.0       6.0    0.000606    0.150491   \n",
      "6          Queens         7.0       7.0    0.000390    0.107417   \n",
      "7          Queens         8.0       8.0    0.000027    0.027591   \n",
      "8          Queens         9.0       9.0    0.000338    0.099784   \n",
      "9       Manhattan        24.0      24.0    0.000061    0.047000   \n",
      "10         Queens        10.0      10.0    0.000436    0.099839   \n",
      "11       Brooklyn        11.0      11.0    0.000265    0.079211   \n",
      "12      Manhattan        12.0      12.0    0.000042    0.036661   \n",
      "13      Manhattan        13.0      13.0    0.000149    0.050281   \n",
      "14          Bronx        18.0      18.0    0.000149    0.069800   \n",
      "15       Brooklyn        25.0      25.0    0.000124    0.047146   \n",
      "16       Brooklyn        14.0      14.0    0.001382    0.175214   \n",
      "17         Queens        15.0      15.0    0.000925    0.144336   \n",
      "18       Brooklyn        22.0      22.0    0.000472    0.126170   \n",
      "19  Staten Island        23.0      23.0    0.002196    0.290556   \n",
      "\n",
      "                       zone                                           geometry  \n",
      "0            Newark Airport  POLYGON ((-74.18445 40.69500, -74.18449 40.695...  \n",
      "1               Jamaica Bay  MULTIPOLYGON (((-73.82338 40.63899, -73.82277 ...  \n",
      "2   Allerton/Pelham Gardens  POLYGON ((-73.84793 40.87134, -73.84725 40.870...  \n",
      "3             Alphabet City  POLYGON ((-73.97177 40.72582, -73.97179 40.725...  \n",
      "4             Arden Heights  POLYGON ((-74.17422 40.56257, -74.17349 40.562...  \n",
      "5   Arrochar/Fort Wadsworth  POLYGON ((-74.06367 40.60220, -74.06351 40.602...  \n",
      "6                   Astoria  POLYGON ((-73.90414 40.76752, -73.90325 40.767...  \n",
      "7              Astoria Park  POLYGON ((-73.92334 40.77513, -73.92398 40.774...  \n",
      "8                Auburndale  POLYGON ((-73.78502 40.76104, -73.78486 40.760...  \n",
      "9              Bloomingdale  POLYGON ((-73.95954 40.79872, -73.96004 40.798...  \n",
      "10             Baisley Park  POLYGON ((-73.78327 40.68999, -73.78234 40.688...  \n",
      "11               Bath Beach  POLYGON ((-74.00110 40.60303, -74.00032 40.602...  \n",
      "12             Battery Park  POLYGON ((-74.01566 40.70483, -74.01540 40.704...  \n",
      "13        Battery Park City  POLYGON ((-74.01244 40.71906, -74.01282 40.717...  \n",
      "14             Bedford Park  POLYGON ((-73.88514 40.86638, -73.88594 40.865...  \n",
      "15              Boerum Hill  POLYGON ((-73.98155 40.68915, -73.98102 40.688...  \n",
      "16                Bay Ridge  POLYGON ((-74.03407 40.64431, -74.03284 40.643...  \n",
      "17  Bay Terrace/Fort Totten  POLYGON ((-73.77740 40.79660, -73.77739 40.796...  \n",
      "18         Bensonhurst West  POLYGON ((-73.99255 40.62427, -73.99009 40.622...  \n",
      "19  Bloomfield/Emerson Hill  POLYGON ((-74.19569 40.63502, -74.19558 40.635...  \n"
     ]
    }
   ],
   "source": [
    "import geopandas\n",
    "import shapely.geometry\n",
    "shp_path = os.path.join('./', 'nyc-taxi-zone.shp')\n",
    "nyc_taxi_zones = geopandas.GeoDataFrame.from_file(shp_path)\n",
    "print(nyc_taxi_zones.head(20))"
   ]
  },
  {
   "cell_type": "code",
   "execution_count": null,
   "metadata": {
    "ExecuteTime": {
     "start_time": "2022-03-07T00:32:49.188Z"
    }
   },
   "outputs": [],
   "source": [
    "def in_area(longitude, latitude):\n",
    "    point = shapely.geometry.Point(longitude, latitude)\n",
    "    for i in range(len(nyc_taxi_zones)):\n",
    "        if(point.within(nyc_taxi_zones.iloc[i]['geometry'])):\n",
    "            return int(nyc_taxi_zones.iloc[i]['location_i'])    \n",
    "    return 0\n",
    "\n",
    "udf_in_area = fn.udf(lambda x,y : in_area(x,y), IntegerType())\n",
    "\n",
    "# ajouter la colonne de domaine\n",
    "def add_area(df):\n",
    "    df = df\\\n",
    "        .withColumn('PULocationID', udf_in_area(col('pickup_longitude'), col('pickup_latitude')))\\\n",
    "        .withColumn('DOLocationID', udf_in_area(col('dropoff_longitude'), col('dropoff_latitude')))\n",
    "    return df\n",
    "\n",
    "#df = df2015_f.limit(1)\n",
    "#print(in_area(-74.00090026855469,40.73073196411133))\n",
    "df_sp2015 = add_area(df_sp2015).toPandas()\n",
    "df_sp2015.head()\n",
    "#df_sp2015 = add_area(df_sp2015)\n",
    "#df_sp2015.show()"
   ]
  },
  {
   "cell_type": "code",
   "execution_count": null,
   "metadata": {
    "ExecuteTime": {
     "start_time": "2022-03-07T00:38:36.944Z"
    }
   },
   "outputs": [],
   "source": [
    "nyc_taxi_zones = nyc_taxi_zones[['LocationID','zone','borough','lon','lat']]"
   ]
  },
  {
   "cell_type": "code",
   "execution_count": null,
   "metadata": {
    "ExecuteTime": {
     "start_time": "2022-03-07T00:38:38.255Z"
    }
   },
   "outputs": [],
   "source": [
    "df201507_pickup = pd.merge(left=df_sp2015,right=nyc_taxi_zones,how='inner',left_on='PULocationID',right_on='LocationID')\n",
    "df201507_pickup['pickup_longitude'] = df201507_pickup['lon']\n",
    "df201507_pickup['pickup_latitude'] = df201507_pickup['lat']\n",
    "df201507_pickup['pickup_zone'] = df201507_pickup['zone']\n",
    "df201507_pickup['pickup_borough'] = df201507_pickup['borough']\n",
    "df201507_pickup.head()"
   ]
  },
  {
   "cell_type": "code",
   "execution_count": null,
   "metadata": {
    "ExecuteTime": {
     "start_time": "2022-03-07T00:38:39.126Z"
    }
   },
   "outputs": [],
   "source": [
    "pick_up = list(df201507_pickup.columns)\n",
    "pick_up.remove('LocationID')\n",
    "pick_up.remove('zone')\n",
    "pick_up.remove('borough')\n",
    "pick_up.remove('lon')\n",
    "pick_up.remove('lat')\n",
    "print(pick_up)"
   ]
  },
  {
   "cell_type": "code",
   "execution_count": null,
   "metadata": {
    "ExecuteTime": {
     "start_time": "2022-03-07T00:38:40.238Z"
    }
   },
   "outputs": [],
   "source": [
    "df_sp2015 = df201507_pickup[pick_up]"
   ]
  },
  {
   "cell_type": "code",
   "execution_count": null,
   "metadata": {
    "ExecuteTime": {
     "start_time": "2022-03-07T00:38:41.072Z"
    }
   },
   "outputs": [],
   "source": [
    "df201507_dropoff = pd.merge(left=df_sp2015,right=nyc_taxi_zones,how='inner',left_on='DOLocationID',right_on='LocationID')\n",
    "df201507_dropoff['dropoff_longitude'] = df201507_dropoff['lon']\n",
    "df201507_dropoff['dropoff_latitude'] = df201507_dropoff['lat']\n",
    "df201507_dropoff['dropoff_zone'] = df201507_dropoff['zone']\n",
    "df201507_dropoff['dropoff_borough'] = df201507_dropoff['borough']\n",
    "df201507_dropoff.head()"
   ]
  },
  {
   "cell_type": "code",
   "execution_count": null,
   "metadata": {
    "ExecuteTime": {
     "start_time": "2022-03-07T00:38:41.966Z"
    }
   },
   "outputs": [],
   "source": [
    "dropoff = list(df201507_dropoff.columns)\n",
    "dropoff.remove('LocationID')\n",
    "dropoff.remove('zone')\n",
    "dropoff.remove('borough')\n",
    "dropoff.remove('lon')\n",
    "dropoff.remove('lat')\n",
    "print(dropoff)"
   ]
  },
  {
   "cell_type": "code",
   "execution_count": null,
   "metadata": {
    "ExecuteTime": {
     "start_time": "2022-03-07T00:38:43.343Z"
    }
   },
   "outputs": [],
   "source": [
    "df_sp2015 = df201507_dropoff[dropoff]"
   ]
  },
  {
   "cell_type": "code",
   "execution_count": null,
   "metadata": {
    "ExecuteTime": {
     "start_time": "2022-03-07T00:54:27.460Z"
    }
   },
   "outputs": [],
   "source": [
    "df_sp2018 = df_sp2018.toPandas()"
   ]
  },
  {
   "cell_type": "code",
   "execution_count": null,
   "metadata": {
    "ExecuteTime": {
     "start_time": "2022-03-07T00:54:28.320Z"
    }
   },
   "outputs": [],
   "source": [
    "df201807_pickup = pd.merge(left=df_sp2018,right=nyc_taxi_zones,how='inner',left_on='PULocationID',right_on='LocationID')\n",
    "df201807_pickup['pickup_longitude'] = df201807_pickup['lon']\n",
    "df201807_pickup['pickup_latitude'] = df201807_pickup['lat']\n",
    "df201807_pickup['pickup_zone'] = df201807_pickup['zone']\n",
    "df201807_pickup['pickup_borough'] = df201807_pickup['borough']\n",
    "df201807_pickup.head()"
   ]
  },
  {
   "cell_type": "code",
   "execution_count": null,
   "metadata": {
    "ExecuteTime": {
     "start_time": "2022-03-07T00:54:29.055Z"
    }
   },
   "outputs": [],
   "source": [
    "pick_up = list(df201807_pickup.columns)\n",
    "pick_up.remove('LocationID')\n",
    "pick_up.remove('zone')\n",
    "pick_up.remove('borough')\n",
    "pick_up.remove('lon')\n",
    "pick_up.remove('lat')\n",
    "print(pick_up)"
   ]
  },
  {
   "cell_type": "code",
   "execution_count": null,
   "metadata": {
    "ExecuteTime": {
     "start_time": "2022-03-07T00:54:29.735Z"
    }
   },
   "outputs": [],
   "source": [
    "df_sp2018 = df201807_pickup[pick_up]"
   ]
  },
  {
   "cell_type": "code",
   "execution_count": null,
   "metadata": {
    "ExecuteTime": {
     "start_time": "2022-03-07T00:54:30.547Z"
    }
   },
   "outputs": [],
   "source": [
    "df201807_dropoff = pd.merge(left=df_sp2018,right=nyc_taxi_zones,how='inner',left_on='DOLocationID',right_on='LocationID')\n",
    "df201807_dropoff['dropoff_longitude'] = df201807_dropoff['lon']\n",
    "df201807_dropoff['dropoff_latitude'] = df201807_dropoff['lat']\n",
    "df201807_dropoff['dropoff_zone'] = df201807_dropoff['zone']\n",
    "df201807_dropoff['dropoff_borough'] = df201807_dropoff['borough']\n",
    "df201807_dropoff.head()"
   ]
  },
  {
   "cell_type": "code",
   "execution_count": null,
   "metadata": {
    "ExecuteTime": {
     "start_time": "2022-03-07T00:54:31.433Z"
    }
   },
   "outputs": [],
   "source": [
    "df_sp2018 = df201807_dropoff[dropoff]\n",
    "df_sp2018.head()"
   ]
  },
  {
   "cell_type": "code",
   "execution_count": null,
   "metadata": {
    "ExecuteTime": {
     "start_time": "2022-03-07T00:54:32.183Z"
    }
   },
   "outputs": [],
   "source": [
    "df_sp2015 = spark.createDataFrame(df_sp2015)\n",
    "df_sp2018 = spark.createDataFrame(df_sp2018)"
   ]
  },
  {
   "cell_type": "code",
   "execution_count": null,
   "metadata": {
    "ExecuteTime": {
     "start_time": "2022-03-07T00:54:32.962Z"
    }
   },
   "outputs": [],
   "source": [
    "# set the number of partitions\n",
    "spark.conf.set(\"spark.sql.shuffle.partitions\", 40)"
   ]
  },
  {
   "cell_type": "code",
   "execution_count": null,
   "metadata": {
    "ExecuteTime": {
     "start_time": "2022-03-07T00:54:33.960Z"
    }
   },
   "outputs": [],
   "source": [
    "df_sp2015.write.mode('overwrite').partitionBy('VendorID').parquet(\"yellow_tripdata_2015-07.parquet\")\n",
    "df_sp2015.rdd.getNumPartitions()"
   ]
  },
  {
   "cell_type": "code",
   "execution_count": null,
   "metadata": {
    "ExecuteTime": {
     "start_time": "2022-03-07T00:54:35.618Z"
    }
   },
   "outputs": [],
   "source": [
    "df_sp2018.write.mode('overwrite').partitionBy('VendorID').parquet(\"yellow_tripdata_2018-07.parquet\")\n",
    "df_sp2018.rdd.getNumPartitions()"
   ]
  },
  {
   "cell_type": "code",
   "execution_count": null,
   "metadata": {
    "ExecuteTime": {
     "start_time": "2022-03-07T00:54:37.026Z"
    }
   },
   "outputs": [],
   "source": [
    "df2015 = spark.read.parquet(\"yellow_tripdata_2015-07.parquet\")\n",
    "\n",
    "df2015.show(1)"
   ]
  },
  {
   "cell_type": "code",
   "execution_count": null,
   "metadata": {
    "ExecuteTime": {
     "start_time": "2022-03-07T00:54:38.459Z"
    }
   },
   "outputs": [],
   "source": [
    "df2018 = spark.read.parquet(\"yellow_tripdata_2018-07.parquet\")\n",
    "\n",
    "df2018.show(1)"
   ]
  },
  {
   "cell_type": "markdown",
   "metadata": {
    "nteract": {
     "transient": {
      "deleting": false
     }
    }
   },
   "source": [
    "# Investigate (at least) one month of data in 2015\n",
    "\n",
    "From now on, you will be using **the parquet files you created for 2015**.\n",
    "\n",
    "We shall visualize several features of taxi traffic during one calendar month\n",
    "in 2015 and the same calendar month in 2018.\n",
    "\n",
    "**Hint.** In order to build appealing graphics, you may stick to `matplotlib + seaborn`, you can use also\n",
    "`plotly`, which is used a lot to build interactive graphics, but you can use whatever you want."
   ]
  },
  {
   "cell_type": "markdown",
   "metadata": {},
   "source": [
    "The following longitudes and lattitudes encompass Newark and JFK airports, Northern Manhattan and Verazzano bridge."
   ]
  },
  {
   "cell_type": "code",
   "execution_count": 5,
   "metadata": {
    "ExecuteTime": {
     "end_time": "2022-03-06T23:57:38.856279Z",
     "start_time": "2022-03-06T23:57:38.852486Z"
    },
    "jupyter": {
     "outputs_hidden": false,
     "source_hidden": false
    },
    "nteract": {
     "transient": {
      "deleting": false
     }
    }
   },
   "outputs": [],
   "source": [
    "long_min = -74.10\n",
    "long_max = -73.70\n",
    "lat_min = 40.58\n",
    "lat_max = 40.90"
   ]
  },
  {
   "cell_type": "markdown",
   "metadata": {},
   "source": [
    "1. Using these boundaries, **filter the 2015 data** (using pickup and dropoff longitude and latitude) and count the number of trips for each value of `passenger_count` and make a plot of that."
   ]
  },
  {
   "cell_type": "code",
   "execution_count": null,
   "metadata": {
    "ExecuteTime": {
     "start_time": "2022-03-07T01:08:43.814Z"
    }
   },
   "outputs": [],
   "source": [
    "df2015_f = df2015.filter((col(\"pickup_longitude\").between(long_min, long_max)) & (col(\"pickup_latitude\").between(lat_min, lat_max)) & (col(\"dropoff_longitude\").between(long_min, long_max)) & (col(\"dropoff_latitude\").between(lat_min, lat_max)))\n",
    "df2018_f = df2018.filter((col(\"pickup_longitude\").between(long_min, long_max)) & (col(\"pickup_latitude\").between(lat_min, lat_max)) & (col(\"dropoff_longitude\").between(long_min, long_max)) & (col(\"dropoff_latitude\").between(lat_min, lat_max)))\n",
    "\n",
    "num_trips = df2015_f\\\n",
    "    .groupBy('passenger_count')\\\n",
    "    .count()\\\n",
    "    .orderBy(\"passenger_count\")\n",
    "    \n",
    "num_trips.show()\n",
    "num_trips = num_trips.toPandas()"
   ]
  },
  {
   "cell_type": "code",
   "execution_count": null,
   "metadata": {
    "ExecuteTime": {
     "start_time": "2022-03-07T01:08:45.721Z"
    }
   },
   "outputs": [],
   "source": [
    "import plotly.express as px\n",
    "\n",
    "fig = px.bar(num_trips, \n",
    "             x=\"passenger_count\", \n",
    "             y=\"count\", \n",
    "             title=\"number of trips for each value of passenger_count for July 2015\")\n",
    "fig.show()"
   ]
  },
  {
   "cell_type": "markdown",
   "metadata": {
    "nteract": {
     "transient": {
      "deleting": false
     }
    }
   },
   "source": [
    "Trips with $0$ or larger than $7$ passengers are pretty rare.\n",
    "We suspect these to be outliers. \n",
    "We need to explore these trips further in order order to understand what might be wrong\n",
    "with them\n",
    "\n",
    "1. What's special with trips with zero passengers?\n",
    "1. What's special with trips with more than $6$ passengers?\n",
    "1. What is the largest distance travelled during this month? Is it the first taxi on the moon?\n",
    "1. Plot the distribution of the `trip_distance` (using an histogram for instance) during year 2105. Focus on trips with non-zero trip distance and trip distance less than 30 miles."
   ]
  },
  {
   "cell_type": "code",
   "execution_count": null,
   "metadata": {
    "ExecuteTime": {
     "start_time": "2022-03-07T01:08:52.249Z"
    }
   },
   "outputs": [],
   "source": [
    "from pyspark.sql.functions import dayofweek\n",
    "\n",
    "df2015_f = df2015_f.withColumn('dayofweek',dayofweek(df2015_f['tpep_pickup_datetime']))\n",
    "df2015_f.show()"
   ]
  },
  {
   "cell_type": "code",
   "execution_count": null,
   "metadata": {
    "ExecuteTime": {
     "start_time": "2022-03-07T01:08:52.992Z"
    }
   },
   "outputs": [],
   "source": [
    "#What's special with trips with zero passengers?\n",
    "zero_passengers = df2015_f.filter(col(\"passenger_count\") == 0 ).select('*').toPandas()\n",
    "zero_passengers.describe()"
   ]
  },
  {
   "cell_type": "code",
   "execution_count": null,
   "metadata": {
    "ExecuteTime": {
     "start_time": "2022-03-07T01:08:53.618Z"
    }
   },
   "outputs": [],
   "source": [
    "zero_passengers.head()"
   ]
  },
  {
   "cell_type": "code",
   "execution_count": null,
   "metadata": {
    "ExecuteTime": {
     "start_time": "2022-03-07T01:08:54.504Z"
    }
   },
   "outputs": [],
   "source": [
    "#What's special with trips with more than  6  passengers?\n",
    "sixplus_passengers = df2015_f.filter(col(\"passenger_count\") > 6 ).select('*').toPandas()\n",
    "sixplus_passengers.describe()"
   ]
  },
  {
   "cell_type": "code",
   "execution_count": null,
   "metadata": {
    "ExecuteTime": {
     "start_time": "2022-03-07T01:08:55.416Z"
    }
   },
   "outputs": [],
   "source": [
    "sixplus_passengers.head()"
   ]
  },
  {
   "cell_type": "code",
   "execution_count": null,
   "metadata": {
    "ExecuteTime": {
     "start_time": "2022-03-07T01:08:56.041Z"
    }
   },
   "outputs": [],
   "source": [
    "#What is the largest distance travelled during this month? Is it the first taxi on the moon?\n",
    "#La distance maximale est de 1.0083357E7, ce qui s'est produit le 2015-07-31 10:35:58 et n'est clairement pas le premier TAXI du mois.\n",
    "\n",
    "from pyspark.sql.functions import max\n",
    "\n",
    "df_distance = df2015_f.select('trip_distance','tpep_pickup_datetime').orderBy(df2015_f['trip_distance'].desc())\n",
    "df_distance.show()"
   ]
  },
  {
   "cell_type": "code",
   "execution_count": null,
   "metadata": {
    "ExecuteTime": {
     "start_time": "2022-03-07T01:08:56.824Z"
    }
   },
   "outputs": [],
   "source": [
    "trip_distance = df2015_f.where('trip_distance > 0 and trip_distance < 30').select('trip_distance','tpep_pickup_datetime','pickup_longitude','pickup_latitude','dayofweek','tip_amount','total_amount')"
   ]
  },
  {
   "cell_type": "code",
   "execution_count": null,
   "metadata": {
    "ExecuteTime": {
     "start_time": "2022-03-07T01:08:57.830Z"
    }
   },
   "outputs": [],
   "source": [
    "trip_distance.count()"
   ]
  },
  {
   "cell_type": "code",
   "execution_count": null,
   "metadata": {
    "ExecuteTime": {
     "start_time": "2022-03-07T01:08:58.689Z"
    }
   },
   "outputs": [],
   "source": [
    "trip_distance.show()"
   ]
  },
  {
   "cell_type": "code",
   "execution_count": null,
   "metadata": {
    "ExecuteTime": {
     "start_time": "2022-03-07T01:08:59.321Z"
    }
   },
   "outputs": [],
   "source": [
    "from pyspark.sql.functions import ceil\n",
    "\n",
    "trip_distance_f = trip_distance.withColumn('trip_distance_int',ceil(trip_distance['trip_distance']))\n",
    "trip_distance_f.show()"
   ]
  },
  {
   "cell_type": "code",
   "execution_count": null,
   "metadata": {
    "ExecuteTime": {
     "start_time": "2022-03-07T01:09:00.080Z"
    }
   },
   "outputs": [],
   "source": [
    "distance_histogram = trip_distance_f.groupBy('trip_distance_int').count()\n",
    "distance_histogram.show()"
   ]
  },
  {
   "cell_type": "code",
   "execution_count": null,
   "metadata": {
    "ExecuteTime": {
     "start_time": "2022-03-07T01:09:01.177Z"
    }
   },
   "outputs": [],
   "source": [
    "distance_histogram = distance_histogram.orderBy(distance_histogram['trip_distance_int']).select('*').toPandas()\n",
    "\n",
    "fig = px.bar(distance_histogram, \n",
    "             x=\"trip_distance_int\", \n",
    "             y=\"count\", \n",
    "             title=\"the distribution of the trip_distance\")\n",
    "fig.show()"
   ]
  },
  {
   "cell_type": "markdown",
   "metadata": {},
   "source": [
    "Let's look at what Spark does for these computations\n",
    "\n",
    "1. Use the `explain` method or have a look at the [Spark UI](http://localhost:4040/SQL/) to analyze the job. You should be able to assess \n",
    "    - Parsed Logical Plan\n",
    "    - Analyzed Logical Plan\n",
    "    - Optimized Logical Plan\n",
    "    - Physical Plan\n",
    "1. Do the Analyzed Logical Plan and Optimized Logical Plan differ? Spot the differences if any. How would a RDBMS proceed with such a query?\n",
    "\n",
    "The Analyzed Logical Plan and Optimized Logical Plan are two different phases of the Spark execution plan.The Optimised Logical Plan follows the Analyzed Logical Plan stage and further optimises the output plan from the Analyzed Logical Plan stage.\n",
    "The Analyzed Logical Plan phase loads the external RDD, then serialises the fields, lists the names of the mapped tables, confirms that the tables exist, and then filters by condition to get the result set.\n",
    "The Optimized Logical Plan stage optimises the filtering criteria output from the Analyzed Logical Plan stage to determine if it is null (neither hive nor relational databases have this), the difference between this and RDD is that rdd loads all the data in, whereas sparksql stops directly if it encounters a null value.\n",
    "\n",
    "\n",
    "1. How does the physical plan differ from the Optimized Logical Plan? What are the keywords you would not expects in a RDBMS? What is their meaning? \n",
    "\n",
    "the physical plan belongs to the physical execution plan phase, which converts the upstream logical execution plan into a physical execution plan.\n",
    "\n",
    "\n",
    "1. Inspect the stages on [Spark UI](http://localhost:4040/stages/stage). How many *stages* are necessary to complete the Spark job? What are the roles of `HashAggregate` and `Exchange hashpartitioning`?\n",
    "\n",
    "With Hash aggregation, the database calculates the hash value based on the value following the group by field and maintains the corresponding list in memory based on the aggregation function used earlier. If there are two aggregate functions after select, then two corresponding data are maintained in memory. Similarly, having n aggregation functions will maintain n of the same arrays.\n",
    "\n",
    "Exchange hashpartitioning\n",
    "\n",
    "\n",
    "1. Does the physical plan perform `shuffle` operations? If yes how many?\n",
    "\n",
    "Any operator with reduce requires a shuffle operation.\n",
    "\n",
    "1. What are tasks with respect to stages (in Spark language)? How many tasks are your stages made of?"
   ]
  },
  {
   "cell_type": "markdown",
   "metadata": {
    "nteract": {
     "transient": {
      "deleting": false
     }
    }
   },
   "source": [
    "Now, compute the following and produce relevant plots:\n",
    "\n",
    "1. Break down the trip distance distribution for each day of week\n",
    "1. Count the number of distinct pickup location\n",
    "1. Compute and display tips and profits as a function of the pickup location"
   ]
  },
  {
   "cell_type": "code",
   "execution_count": null,
   "metadata": {
    "ExecuteTime": {
     "start_time": "2022-03-07T01:09:07.009Z"
    }
   },
   "outputs": [],
   "source": [
    "#1. Break down the trip distance distribution for each day of week\n",
    "trip_distance_weekofday = trip_distance_f.groupby('dayofweek','trip_distance_int').count()\n",
    "trip_distance_weekofday.show()"
   ]
  },
  {
   "cell_type": "code",
   "execution_count": null,
   "metadata": {
    "ExecuteTime": {
     "start_time": "2022-03-07T01:09:07.770Z"
    }
   },
   "outputs": [],
   "source": [
    "trip_distance = trip_distance_weekofday.orderBy(trip_distance_weekofday['trip_distance_int'],trip_distance_weekofday['dayofweek']).select('*').toPandas()"
   ]
  },
  {
   "cell_type": "code",
   "execution_count": null,
   "metadata": {
    "ExecuteTime": {
     "start_time": "2022-03-07T01:09:08.504Z"
    }
   },
   "outputs": [],
   "source": [
    "fig = px.histogram(trip_distance, x=\"trip_distance_int\", y=\"count\", color=\"dayofweek\",nbins=30,title=\"the trip distance distribution of day of week\")\n",
    "fig.show()"
   ]
  },
  {
   "cell_type": "code",
   "execution_count": null,
   "metadata": {
    "ExecuteTime": {
     "start_time": "2022-03-07T01:09:09.337Z"
    }
   },
   "outputs": [],
   "source": [
    "#2.Count the number of distinct pickup location\n",
    "trip_distance_f.select('pickup_longitude','pickup_latitude').distinct().count()"
   ]
  },
  {
   "cell_type": "code",
   "execution_count": null,
   "metadata": {
    "ExecuteTime": {
     "start_time": "2022-03-07T01:09:11.537Z"
    }
   },
   "outputs": [],
   "source": [
    "#3.Compute and display tips and profits as a function of the pickup location\n",
    "pickup_df = trip_distance_f.sample(False,0.0001).toPandas()\n",
    "pickup_df.head()"
   ]
  },
  {
   "cell_type": "code",
   "execution_count": null,
   "metadata": {
    "ExecuteTime": {
     "start_time": "2022-03-07T01:09:12.360Z"
    }
   },
   "outputs": [],
   "source": [
    "fig = px.scatter(\n",
    "    pickup_df,\n",
    "    x = \"pickup_longitude\", y=\"pickup_latitude\", opacity=0.5,size='tip_amount',title = \"The function of tips and pickup location\")\n",
    "fig.show()"
   ]
  },
  {
   "cell_type": "code",
   "execution_count": null,
   "metadata": {
    "ExecuteTime": {
     "start_time": "2022-03-07T01:09:13.105Z"
    }
   },
   "outputs": [],
   "source": [
    "fig = px.scatter(\n",
    "    pickup_df,\n",
    "    x = \"pickup_longitude\", y=\"pickup_latitude\", opacity=0.5,size='total_amount',title = \"The profit of tips and pickup location\")\n",
    "fig.show()"
   ]
  },
  {
   "cell_type": "markdown",
   "metadata": {
    "nteract": {
     "transient": {
      "deleting": false
     }
    }
   },
   "source": [
    "# Investigate one month of trips data in 2015 and 2018\n",
    "\n",
    " Consider one month of trips data from `yellow` taxis for each year\n",
    "\n",
    "1. Filter and cache/persist the result\n",
    "\n",
    "## Assessing seasonalities and looking at time series\n",
    "\n",
    "Compute and plot the following time series indexed by day of the week and hour of day:\n",
    "\n",
    "1. The number of pickups\n",
    "1. The average fare\n",
    "1. The average trip duration\n",
    "1. Plot the average of ongoing trips\n",
    "\n",
    "## Rides to the airports\n",
    "\n",
    "In order to find the longitude and lattitude of JFK and Newark airport as well as the longitude and magnitudes \n",
    "of Manhattan, you can use a service like [geojson.io](http://geojson.io/).\n",
    "Plot the following time series, indexed the day of the week and hour of the day\n",
    "\n",
    "1. Median duration of taxi trip leaving Midtown (Southern Manhattan) headed for JFK Airport\n",
    "1. Median taxi duration of trip leaving from JFK Airport to Midtown (Southern Manhattan)\n",
    "\n",
    "## Geographic information\n",
    "\n",
    "For this, you will need to find tools to display maps and to build choropeth maps.\n",
    "We let you look and find relevant tools to do this.\n",
    "\n",
    "1. Build a heatmap where color is a function of\n",
    "    1. number of `pickups`\n",
    "    2. number of `dropoffs`\n",
    "    3. number of `pickups` with dropoff at some airport (JFK, LaGuardia, Newark)\n",
    "2. Build a choropeth map where color is a function of\n",
    "    1. number of pickups in the area\n",
    "    1. ratio of number of payments by card/number of cash payments for pickups in the area\n",
    "    2. ratio of total fare/trip duration for dropoff in the area\n",
    "3. Build an interactive chorophet with a slider allowing the user to select an `hour of day` and where the color is a function of\n",
    "    1. average number of dropoffs in the area during that hour the day\n",
    "    2. average ratio of tip over total fare amount for pickups in the area at given hour of the day"
   ]
  },
  {
   "cell_type": "code",
   "execution_count": null,
   "metadata": {},
   "outputs": [],
   "source": [
    "#4.3.2\n",
    "import json\n",
    "\n",
    "with open('NYC Taxi Zones.geojson') as f:\n",
    "    nyc_geo = json.load(f)"
   ]
  },
  {
   "cell_type": "code",
   "execution_count": null,
   "metadata": {},
   "outputs": [],
   "source": [
    "nyc_geo"
   ]
  },
  {
   "cell_type": "code",
   "execution_count": null,
   "metadata": {},
   "outputs": [],
   "source": [
    "#number of pickups in the area 2015\n",
    "pickup_zone = df2015.groupby('pickup_zone').count()\n",
    "pickup_zone.show()"
   ]
  },
  {
   "cell_type": "code",
   "execution_count": null,
   "metadata": {},
   "outputs": [],
   "source": [
    "pickup_zone = pickup_zone.toPandas()\n",
    "pickup_zone.head()"
   ]
  },
  {
   "cell_type": "code",
   "execution_count": null,
   "metadata": {},
   "outputs": [],
   "source": [
    "chor_pickup = go.Figure(\n",
    "    go.Choroplethmapbox(\n",
    "        geojson = nyc_geo,\n",
    "        featureidkey=\"properties.zone\",\n",
    "        locations = pickup_zone['pickup_zone'],\n",
    "        z = pickup_zone['count'],\n",
    "        zauto=True,\n",
    "        colorscale='ylorrd',\n",
    "        marker={'opacity':0.8,'line_width':0.5},\n",
    "        hovertext = pickup_zone['pickup_zone'],\n",
    "        hoverinfo='text + z',\n",
    "        showscale=True,\n",
    "    )\n",
    ")\n",
    "\n",
    "chor_pickup.update_layout( mapbox = {'accesstoken':token,'center':{'lon':-73.965691,'lat':40.97},'zoom':5},margin = {'l':1,'r':1,'t':1,'b':1})\n",
    "chor_pickup.show()"
   ]
  },
  {
   "cell_type": "code",
   "execution_count": null,
   "metadata": {},
   "outputs": [],
   "source": [
    "#ratio of number of payments by card/number of cash payments for pickups in the area\n",
    "ratiopay_zone = df2015.groupby('pickup_zone','payment_type').count().toPandas()\n",
    "ratiopay_zone.head()"
   ]
  },
  {
   "cell_type": "code",
   "execution_count": null,
   "metadata": {},
   "outputs": [],
   "source": [
    "#payment_type = 1 card payment, payment_type = 2 cash payment.\n",
    "card_payment = ratiopay_zone[ratiopay_zone['payment_type'] == 1]\n",
    "\n",
    "cash_payment = ratiopay_zone[ratiopay_zone['payment_type'] == 2]\n",
    "\n",
    "payment_df = pd.merge(card_payment,cash_payment,how='inner',on='pickup_zone')\n",
    "payment_df.head()"
   ]
  },
  {
   "cell_type": "code",
   "execution_count": null,
   "metadata": {},
   "outputs": [],
   "source": [
    "payment_df['ratio'] = payment_df['count_x']/payment_df['count_y']\n",
    "payment_df.head()"
   ]
  },
  {
   "cell_type": "code",
   "execution_count": null,
   "metadata": {},
   "outputs": [],
   "source": [
    "payment_pickup = go.Figure(\n",
    "    go.Choroplethmapbox(\n",
    "        geojson = nyc_geo,\n",
    "        featureidkey=\"properties.zone\",\n",
    "        locations = payment_df['pickup_zone'],\n",
    "        z = payment_df['ratio'],\n",
    "        zauto=True,\n",
    "        colorscale='ylorrd',\n",
    "        marker={'opacity':0.8,'line_width':0.5},\n",
    "        hovertext = payment_df['pickup_zone'],\n",
    "        hoverinfo='text + z',\n",
    "        showscale=True,\n",
    "    )\n",
    ")\n",
    "\n",
    "\n",
    "\n",
    "payment_pickup.update_layout( mapbox = {'accesstoken':token,'center':{'lon':-73.965691,'lat':40.97},'zoom':5},margin = {'l':1,'r':1,'t':1,'b':1})\n",
    "payment_pickup.show()"
   ]
  },
  {
   "cell_type": "code",
   "execution_count": null,
   "metadata": {},
   "outputs": [],
   "source": [
    "#ratio of total fare/trip duration for dropoff in the area\n",
    "from pyspark.sql.functions import dayofweek,hour,date_format,unix_timestamp,sum\n",
    "\n",
    "\n",
    "ratiofd_zone = df2015.withColumn('trip_duration',(unix_timestamp(df2015['tpep_dropoff_datetime']) - unix_timestamp(df2015['tpep_pickup_datetime'])))\n",
    "\n",
    "\n",
    "\n",
    "\n",
    "ratiofd_zone = ratiofd_zone.groupby('dropoff_zone').agg(sum(ratiofd_zone['trip_duration']),sum(ratiofd_zone['fare_amount'])).toPandas()\n",
    "ratiofd_zone.head()"
   ]
  },
  {
   "cell_type": "code",
   "execution_count": null,
   "metadata": {},
   "outputs": [],
   "source": [
    "ratiofd_zone['ratio'] = ratiofd_zone['sum(fare_amount)']/ratiofd_zone['sum(trip_duration)']\n",
    "ratiofd_zone.head()"
   ]
  },
  {
   "cell_type": "code",
   "execution_count": null,
   "metadata": {},
   "outputs": [],
   "source": [
    "ratiofd_dropoff = go.Figure(\n",
    "    go.Choroplethmapbox(\n",
    "        geojson = nyc_geo,\n",
    "        featureidkey=\"properties.zone\",\n",
    "        locations = ratiofd_zone['dropoff_zone'],\n",
    "        z = ratiofd_zone['ratio'],\n",
    "        zauto=True,\n",
    "        colorscale='ylorrd',\n",
    "        marker={'opacity':0.8,'line_width':0.5},\n",
    "        hovertext = ratiofd_zone['dropoff_zone'],\n",
    "        hoverinfo='text + z',\n",
    "        showscale=True,\n",
    "    )\n",
    ")\n",
    "\n",
    "\n",
    "\n",
    "ratiofd_dropoff.update_layout( mapbox = {'accesstoken':token,'center':{'lon':-73.965691,'lat':40.97},'zoom':5},margin = {'l':1,'r':1,'t':1,'b':1})\n",
    "ratiofd_dropoff.show()"
   ]
  },
  {
   "cell_type": "code",
   "execution_count": null,
   "metadata": {},
   "outputs": [],
   "source": [
    "#4.3.3\n",
    "from pyspark.sql.functions import hour,date_format\n",
    "\n",
    "\n",
    "df2015 = df2015.withColumn('hour_pickup',hour(df2015['tpep_pickup_datetime']))\n",
    "df2015 = df2015.withColumn('hour_dropoff',hour(df2015['tpep_dropoff_datetime']))\n",
    "df2015 = df2015.withColumn('date_pickup',date_format(df2015['tpep_pickup_datetime'],'yyyy-MM-dd'))\n",
    "df2015 = df2015.withColumn('date_dropoff',date_format(df2015['tpep_dropoff_datetime'],'yyyy-MM-dd'))\n",
    "df2015.show()"
   ]
  },
  {
   "cell_type": "code",
   "execution_count": null,
   "metadata": {},
   "outputs": [],
   "source": [
    "#average number of dropoffs in the area during that hour the day\n",
    "avg_dropoffs = df2015.groupby('dropoff_zone','hour_dropoff','date_dropoff').count()\n",
    "avg_dropoffs.show()"
   ]
  },
  {
   "cell_type": "code",
   "execution_count": null,
   "metadata": {},
   "outputs": [],
   "source": [
    "avg_dropoffs = avg_dropoffs.groupby('dropoff_zone','hour_dropoff').agg({'count':'mean'}).toPandas()\n",
    "avg_dropoffs.head()"
   ]
  },
  {
   "cell_type": "code",
   "execution_count": null,
   "metadata": {},
   "outputs": [],
   "source": [
    "steps = []\n",
    "datas = []\n",
    "\n",
    "\n",
    "\n",
    "for hour in range(24):\n",
    "    t = avg_dropoffs[avg_dropoffs['hour_dropoff'] == hour]\n",
    "    data = go.Choroplethmapbox(\n",
    "        geojson = nyc_geo,\n",
    "        featureidkey=\"properties.zone\",\n",
    "        locations = t['dropoff_zone'],\n",
    "        z = t['avg(count)'],\n",
    "        zauto=False,\n",
    "        colorscale='ylorrd',\n",
    "        marker={'opacity':0.8,'line_width':0.5},\n",
    "        hovertext = t['dropoff_zone'],\n",
    "        hoverinfo='text + z',\n",
    "        showscale=True\n",
    "    )\n",
    "    \n",
    "    datas.append(data)\n",
    "    \n",
    "    visibles = [False]*24\n",
    "    visibles[hour] = True\n",
    "    \n",
    "    step = {\n",
    "        \"args\": [{\"visible\":visibles}],\n",
    "        \"label\": hour+1,\n",
    "        \"method\": \"restyle\"\n",
    "    }\n",
    "    \n",
    "    steps.append(step)\n",
    "    \n",
    "\n",
    "sliders = [{\"x\":0,\"y\":0.15,\"pad\":{\"t\":24},\"steps\":steps,\"active\":1,\"currentvalue\":{\"prefix\":\"hour_dropoff\"}}]\n",
    "    \n",
    "\n",
    "\n",
    "avg_dropoffs_fig = go.Figure(\n",
    "    data = datas\n",
    ")\n",
    "\n",
    "avg_dropoffs_fig.update_layout(\n",
    "    sliders = sliders,\n",
    "    mapbox = {'accesstoken':token,'center':{'lon':-73.965691,'lat':40.97},'zoom':5},margin = {'l':1,'r':1,'t':1,'b':1})\n",
    "avg_dropoffs_fig.show()"
   ]
  },
  {
   "cell_type": "code",
   "execution_count": null,
   "metadata": {},
   "outputs": [],
   "source": [
    "#average ratio of tip over total fare amount for pickups in the area at given hour of the day\n",
    "\n",
    "ratio_pickup_fare = df2015.groupby('pickup_zone','hour_pickup').agg(sum(df2015['tip_amount']),sum(df2015['total_amount']))\n",
    "ratio_pickup_fare.show()"
   ]
  },
  {
   "cell_type": "code",
   "execution_count": null,
   "metadata": {},
   "outputs": [],
   "source": [
    "avg_ratio_pickup_fare = ratio_pickup_fare.withColumn('ratio',ratio_pickup_fare['sum(tip_amount)']/ratio_pickup_fare['sum(total_amount)']).select('pickup_zone','hour_pickup','ratio')\n",
    "avg_ratio_pickup_fare.show()"
   ]
  },
  {
   "cell_type": "code",
   "execution_count": null,
   "metadata": {},
   "outputs": [],
   "source": [
    "avg_ratio_pickup_fare = avg_ratio_pickup_fare.toPandas()\n",
    "\n",
    "steps = []\n",
    "datas = []\n",
    "\n",
    "\n",
    "\n",
    "for hour in range(24):\n",
    "    t = avg_ratio_pickup_fare[avg_ratio_pickup_fare['hour_pickup'] == hour]\n",
    "    data = go.Choroplethmapbox(\n",
    "        geojson = nyc_geo,\n",
    "        featureidkey=\"properties.zone\",\n",
    "        locations = t['pickup_zone'],\n",
    "        z = t['ratio'],\n",
    "        zauto=False,\n",
    "        colorscale='ylorrd',\n",
    "        marker={'opacity':0.8,'line_width':0.5},\n",
    "        hovertext = t['pickup_zone'],\n",
    "        hoverinfo='text + z',\n",
    "        showscale=True\n",
    "    )\n",
    "    \n",
    "    datas.append(data)\n",
    "    \n",
    "    visibles = [False]*24\n",
    "    visibles[hour] = True\n",
    "    \n",
    "    step = {\n",
    "        \"args\": [{\"visible\":visibles}],\n",
    "        \"label\": hour+1,\n",
    "        \"method\": \"restyle\"\n",
    "    }\n",
    "    \n",
    "    steps.append(step)\n",
    "    \n",
    "\n",
    "sliders = [{\"x\":0,\"y\":0.15,\"pad\":{\"t\":24},\"steps\":steps,\"active\":1,\"currentvalue\":{\"prefix\":\"hour_pickup\"}}]\n",
    "    \n",
    "\n",
    "\n",
    "avg_pickup_fig = go.Figure(\n",
    "    data = datas\n",
    ")\n",
    "\n",
    "avg_pickup_fig.update_layout(\n",
    "    sliders = sliders,\n",
    "    mapbox = {'accesstoken':token,'center':{'lon':-73.965691,'lat':40.97},'zoom':5},margin = {'l':1,'r':1,'t':1,'b':1})\n",
    "avg_pickup_fig.show()"
   ]
  }
 ],
 "metadata": {
  "kernelspec": {
   "display_name": "Python 3",
   "language": "python",
   "name": "python3"
  },
  "language_info": {
   "codemirror_mode": {
    "name": "ipython",
    "version": 3
   },
   "file_extension": ".py",
   "mimetype": "text/x-python",
   "name": "python",
   "nbconvert_exporter": "python",
   "pygments_lexer": "ipython3",
   "version": "3.8.5"
  },
  "toc": {
   "base_numbering": 1,
   "nav_menu": {},
   "number_sections": true,
   "sideBar": true,
   "skip_h1_title": false,
   "title_cell": "Table of Contents",
   "title_sidebar": "Contents",
   "toc_cell": false,
   "toc_position": {
    "height": "calc(100% - 180px)",
    "left": "10px",
    "top": "150px",
    "width": "165px"
   },
   "toc_section_display": true,
   "toc_window_display": true
  }
 },
 "nbformat": 4,
 "nbformat_minor": 1
}
